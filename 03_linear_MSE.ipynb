{
 "cells": [
  {
   "cell_type": "code",
   "execution_count": 43,
   "metadata": {
    "collapsed": true
   },
   "outputs": [],
   "source": [
    "import numpy as np\n",
    "\n",
    "def find_max_abs(Z):\n",
    "    ZZ = []\n",
    "    for i in range(len(Z)):\n",
    "        ZZ.append(abs(Z[i]))\n",
    "    return max(ZZ)\n",
    "\n",
    "def find_MSE(X, Y):\n",
    "    #нормировка для сходимости\n",
    "    x = np.array(X)\n",
    "    y = np.array(Y)\n",
    "    print(x)\n",
    "    print(y)\n",
    "    #начальный прогноз\n",
    "    k1 = 1.5\n",
    "    b1 = 1.0\n",
    "    #y = k*x+b\n",
    "    #y = k*x[i]+b\n",
    "    \n",
    "    #шаг выбирается,чтобы метод сходился\n",
    "    alpha = 0.1/max(find_max_abs(X), find_max_abs(Y))\n",
    "    #погрешность\n",
    "    e = 1e-4\n",
    " \n",
    "    vect= np.array([k1, b1])\n",
    "    \n",
    "    for i in range(len(x)):\n",
    "        grad_MSE = np.array([0.0,0.0])\n",
    "        grad_k = 2*x[i]*(vect[0]*x[i]+vect[1] - y[i])\n",
    "        grad_b = 2*(vect[0]*x[i]+vect[1] - y[i])\n",
    "        grad_MSE += 1/len(x)*np.array([grad_k, grad_b])\n",
    "    vect = vect - alpha*grad_MSE\n",
    "    \n",
    "    while(alpha*np.linalg.norm(grad_MSE) > e):  \n",
    "        \n",
    "        grad_MSE = np.array([0.0,0.0])\n",
    "        for i in range(len(x)):\n",
    "            grad_k = 2*x[i]*(vect[0]*x[i]+vect[1] - y[i])\n",
    "            grad_b = 2*(vect[0]*x[i]+vect[1] - y[i])\n",
    "            grad_MSE += 1/len(x)*np.array([grad_k, grad_b])\n",
    "        vect = vect - alpha*grad_MSE\n",
    "    \n",
    "    return vect"
   ]
  },
  {
   "cell_type": "code",
   "execution_count": 44,
   "metadata": {
    "collapsed": true
   },
   "outputs": [],
   "source": [
    "def plot_MSE(X, Y):\n",
    "    import matplotlib.pyplot as plt\n",
    "    vect = find_MSE(X, Y)\n",
    "    plt.scatter(X, Y)\n",
    "    plt.plot([min(X), max(X)],[min(X)*vect[0]+vect[1], max(X)*vect[0]+vect[1]])\n",
    "    plt.show()"
   ]
  },
  {
   "cell_type": "code",
   "execution_count": 45,
   "metadata": {
    "collapsed": false
   },
   "outputs": [
    {
     "name": "stdout",
     "output_type": "stream",
     "text": [
      "[  1   2   4   9 -10]\n",
      "[  8   9   4   1 100]\n",
      "vect= [ -5.62163039  31.09615255]\n"
     ]
    },
    {
     "data": {
      "image/png": "[encoded data removed]",
      "text/plain": [
       "<matplotlib.figure.Figure at 0x7f17a9d07f28>"
      ]
     },
     "metadata": {},
     "output_type": "display_data"
    }
   ],
   "source": [
    "X = [1,2,4,9, -10]\n",
    "Y = [8,9,4, 1, 100]\n",
    "plot_MSE(X,Y)"
   ]
  },
  {
   "cell_type": "code",
   "execution_count": null,
   "metadata": {
    "collapsed": true
   },
   "outputs": [],
   "source": []
  }
 ],
 "metadata": {
  "anaconda-cloud": {},
  "kernelspec": {
   "display_name": "Python [conda root]",
   "language": "python",
   "name": "conda-root-py"
  },
  "language_info": {
   "codemirror_mode": {
    "name": "ipython",
    "version": 3
   },
   "file_extension": ".py",
   "mimetype": "text/x-python",
   "name": "python",
   "nbconvert_exporter": "python",
   "pygments_lexer": "ipython3",
   "version": "3.5.3"
  }
 },
 "nbformat": 4,
 "nbformat_minor": 1
}
