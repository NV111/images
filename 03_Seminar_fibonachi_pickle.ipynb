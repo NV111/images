{
 "cells": [
  {
   "cell_type": "code",
   "execution_count": null,
   "metadata": {
    "collapsed": true
   },
   "outputs": [],
   "source": [
    "def fib(i):\n",
    "    a = 1\n",
    "    b = 1\n",
    "    arr = [a, b]\n",
    "    if (i >= 3):\n",
    "        for k in range(i-2):\n",
    "            a, b = b, a+b\n",
    "            arr.append(b)\n",
    "    return arr"
   ]
  },
  {
   "cell_type": "code",
   "execution_count": null,
   "metadata": {
    "collapsed": false
   },
   "outputs": [],
   "source": [
    "def fib(i):\n",
    "    c = 1\n",
    "    yield a\n",
    "    b = 1\n",
    "    yield b\n",
    "    arr = [a, b]\n",
    "    if (i >= 3):\n",
    "        for k in range(i-2):\n",
    "            a, b = b, a+b\n",
    "            yield b\n",
    "    return arr"
   ]
  },
  {
   "cell_type": "code",
   "execution_count": null,
   "metadata": {
    "collapsed": true
   },
   "outputs": [],
   "source": [
    "for i in fib(...)\n",
    "body(i)\n",
    "\n",
    "<=>\n",
    "\n",
    "a = fib(...).__init__()\n",
    "while True:\n",
    "    try:\n",
    "        i = next(a)\n",
    "        body(i)\n",
    "    except StopIteration\n",
    "        break"
   ]
  },
  {
   "cell_type": "code",
   "execution_count": 1,
   "metadata": {
    "collapsed": true
   },
   "outputs": [],
   "source": [
    "def summary(arr):\n",
    "    return {'min':min(arr), 'max':max(arr), 'mean':sum(arr)/len(arr)}\n",
    "\n",
    "def summary2(arr):\n",
    "    return {'min':min(arr), 'max':max(arr), 'mean':sum(arr)}"
   ]
  },
  {
   "cell_type": "code",
   "execution_count": 2,
   "metadata": {
    "collapsed": true
   },
   "outputs": [],
   "source": [
    "def decorate(f, arr):\n",
    "    res = f(arr)\n",
    "    for i in res:\n",
    "        print('{}:\\t{}'.format(i, res[i]))"
   ]
  },
  {
   "cell_type": "code",
   "execution_count": 3,
   "metadata": {
    "collapsed": false
   },
   "outputs": [
    {
     "name": "stdout",
     "output_type": "stream",
     "text": [
      "min:\t1\n",
      "max:\t7\n",
      "mean:\t27\n"
     ]
    }
   ],
   "source": [
    "decorate(summary2, [1,5,3,7,3,5,3])"
   ]
  },
  {
   "cell_type": "code",
   "execution_count": 4,
   "metadata": {
    "collapsed": true
   },
   "outputs": [],
   "source": [
    "def pprint(f):\n",
    "    def inner(arr):\n",
    "        res = f(arr)\n",
    "        for i in res:\n",
    "            print('{}:\\t{}'.format(i, res[i]))\n",
    "    return inner"
   ]
  },
  {
   "cell_type": "code",
   "execution_count": 5,
   "metadata": {
    "collapsed": false
   },
   "outputs": [],
   "source": [
    "summary = pprint(summary)"
   ]
  },
  {
   "cell_type": "code",
   "execution_count": 6,
   "metadata": {
    "collapsed": false
   },
   "outputs": [
    {
     "name": "stdout",
     "output_type": "stream",
     "text": [
      "min:\t1\n",
      "max:\t7\n",
      "mean:\t3.857142857142857\n"
     ]
    }
   ],
   "source": [
    "summary([1,5,3,7,3,5,3])"
   ]
  },
  {
   "cell_type": "code",
   "execution_count": 7,
   "metadata": {
    "collapsed": true
   },
   "outputs": [],
   "source": [
    "@pprint\n",
    "def summary2(arr):\n",
    "    return {'min':min(arr), 'max':max(arr), 'mean':sum(arr)}"
   ]
  },
  {
   "cell_type": "code",
   "execution_count": 8,
   "metadata": {
    "collapsed": false
   },
   "outputs": [
    {
     "name": "stdout",
     "output_type": "stream",
     "text": [
      "min:\t1\n",
      "max:\t7\n",
      "mean:\t27\n"
     ]
    }
   ],
   "source": [
    "summary2([1,5,3,7,3,5,3])"
   ]
  },
  {
   "cell_type": "code",
   "execution_count": null,
   "metadata": {
    "collapsed": true
   },
   "outputs": [],
   "source": [
    "import pickle\n",
    "with open(filename, 'wb') as file:\n",
    "    pickle.dump(...)"
   ]
  },
  {
   "cell_type": "code",
   "execution_count": null,
   "metadata": {
    "collapsed": true
   },
   "outputs": [],
   "source": [
    "import collections\n",
    "collections.Counter #количесво вхождений каждого элемента в arr\n",
    "c = Counter(array)\n",
    "print(c[key])\n",
    "c.clear()\n",
    "collections.defaultdict\n",
    "d = defaultdict(int)\n",
    "d['key']+=1\n",
    "collections.OrderedDict #сохраняется порядок добавления\n",
    "collections.deque #очередь, можно добавлять вконец или вниз\n",
    "collections.deque.pop\n",
    "collections.deque.popleft\n",
    "collections.deque.append\n",
    "collections.deque.appendleft\n",
    "collections.deque.extend\n",
    "collections.namedtuple #хранения С-образных структур\n",
    "\n",
    "\n"
   ]
  },
  {
   "cell_type": "code",
   "execution_count": null,
   "metadata": {
    "collapsed": true
   },
   "outputs": [],
   "source": [
    "map(f, arr) #применение f к каждому элементу arr\n",
    "zip(arr1, arr2) #возвращает генератор кортежей элементов массивов\n",
    "filter(f, arr) #возвращает генератор\n",
    "functools.reduce(f(x,y), arr) #f(f(f(f(0,1),2),3),4)\n",
    "\n",
    "def f(x, y):\n",
    "    return x+y"
   ]
  },
  {
   "cell_type": "code",
   "execution_count": 21,
   "metadata": {
    "collapsed": false
   },
   "outputs": [
    {
     "name": "stdout",
     "output_type": "stream",
     "text": [
      "0.7\n"
     ]
    }
   ],
   "source": [
    "import numpy as np\n",
    "#x = [1,2,3,4]\n",
    "#y = [1,1,4,4]\n",
    "k = 1\n",
    "b = 1\n",
    "#y = k*x+b\n",
    "#y = k*x[i]+b\n",
    "N = 100000\n",
    "arr = np.arange(1, N+1)/N\n",
    "dic = {}\n",
    "for k in arr:\n",
    "    summ = 0\n",
    "    for i in range(len(x)):\n",
    "        summ += (k*x[i]+b - y[i])**2\n",
    "    MSE = 1/len(x)*summ\n",
    "    dic[MSE]=k\n",
    "#    print('k = ', k, 'MSE =', MSE)\n",
    "min_MSE = min(dic)\n",
    "print(dic[min_MSE])"
   ]
  },
  {
   "cell_type": "code",
   "execution_count": 176,
   "metadata": {
    "collapsed": false
   },
   "outputs": [
    {
     "name": "stdout",
     "output_type": "stream",
     "text": [
      "[-1.42793286  0.48533822]\n"
     ]
    }
   ],
   "source": [
    "import numpy as np\n",
    "Y = [1,1,-4,-4]\n",
    "X = [1,2,3,5]\n",
    "\n",
    "def find_max_abs(Z):\n",
    "    ZZ = []\n",
    "    for i in range(len(Z)):\n",
    "        ZZ.append(abs(Z[i]))\n",
    "    return max(ZZ)\n",
    "\n",
    "x = np.array(X)/max(find_max_abs(X), find_max_abs(Y))\n",
    "y = np.array(Y)/max(find_max_abs(X), find_max_abs(Y))\n",
    "k1 = 1.5\n",
    "b1 = 1.0\n",
    "#y = k*x+b\n",
    "#y = k*x[i]+b\n",
    "grand_MSE = np.array([0, 0], dtype=float)\n",
    "grand_MSE_01 = 0.0\n",
    "grand_MSE_02 = 0.0\n",
    "vect0 = [k1, b1]\n",
    "alpha = 0.1\n",
    "e = 1e-5\n",
    "summ = 0\n",
    "vect= np.array(vect0)\n",
    "for i in range(len(x)):\n",
    "    grand_MSE = np.array([0.0,0.0])\n",
    "    grand_MSE_01 = x[i]*(vect[0]*x[i]+vect[1] - y[i])\n",
    "    grand_MSE_02 = vect[0]*x[i]+vect[1] - y[i]\n",
    "    grand_MSE += 1/len(x)*np.array([grand_MSE_01, grand_MSE_02])\n",
    "vect = vect - 2*alpha*grand_MSE\n",
    "\n",
    "while(2*alpha*np.linalg.norm(grand_MSE) > e):\n",
    "    grand_MSE = np.array([0.0,0.0])\n",
    "    for i in range(len(x)):\n",
    "        grand_MSE_01 = x[i]*(vect[0]*x[i]+vect[1] - y[i])\n",
    "        grand_MSE_02 = vect[0]*x[i]+vect[1] - y[i]\n",
    "        grand_MSE += 1/len(x)*np.array([grand_MSE_01, grand_MSE_02])\n",
    "    vect = vect - 2*alpha*grand_MSE\n",
    "print(vect)"
   ]
  },
  {
   "cell_type": "code",
   "execution_count": 179,
   "metadata": {
    "collapsed": false
   },
   "outputs": [
    {
     "name": "stdout",
     "output_type": "stream",
     "text": [
      "[-1.42793286  0.48533822]\n",
      "1 5\n"
     ]
    },
    {
     "data": {
      "image/png": "[encoded data removed]",
      "text/plain": [
       "<matplotlib.figure.Figure at 0x7f0220bcc550>"
      ]
     },
     "metadata": {},
     "output_type": "display_data"
    }
   ],
   "source": [
    "import matplotlib.pyplot as plt\n",
    "print(vect)\n",
    "plt.scatter(X, Y)\n",
    "print(min(X), max(X))\n",
    "plt.plot([-100, -50],[-10*vect[0]+vect[1] ,10*vect[0]+vect[1]])\n",
    "plt.show()"
   ]
  },
  {
   "cell_type": "code",
   "execution_count": null,
   "metadata": {
    "collapsed": true
   },
   "outputs": [],
   "source": []
  }
 ],
 "metadata": {
  "anaconda-cloud": {},
  "kernelspec": {
   "display_name": "Python [conda root]",
   "language": "python",
   "name": "conda-root-py"
  },
  "language_info": {
   "codemirror_mode": {
    "name": "ipython",
    "version": 3
   },
   "file_extension": ".py",
   "mimetype": "text/x-python",
   "name": "python",
   "nbconvert_exporter": "python",
   "pygments_lexer": "ipython3",
   "version": "3.5.3"
  }
 },
 "nbformat": 4,
 "nbformat_minor": 1
}
