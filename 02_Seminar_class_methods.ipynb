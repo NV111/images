{
 "cells": [
  {
   "cell_type": "code",
   "execution_count": null,
   "metadata": {
    "collapsed": true
   },
   "outputs": [],
   "source": [
    "class MyObj:\n",
    "    def __init__(self, a)\n",
    "    def __del__(self, a)\n",
    "    def __str___(self) #str()\n",
    "    def __int___(self) #int()\n",
    "    def __repr__(self, a)\n",
    "    def __eq__(self, a) #A == a\n",
    "    def __ne__(self, a) #A!=a\n",
    "    def __le__(self, a) #A <= a\n",
    "    def __lt__(self, a) #A < a\n",
    "    def __ge__(self, a) #A >= a\n",
    "    def __gt__(self, a) #A > a\n",
    "    def __bool__(self) #bool(A)\n",
    "    def __add__(self, a) #A + a\n",
    "    def __sub__(self, a) #A - a\n",
    "    def __mul__(self, a) #A * a\n",
    "    def __truediv__(self) #A / a\n",
    "    def __flordiv__(self, a) #A // a\n",
    "    def __mod__(self, a) #A mod a\n",
    "    def __pow__(self, a) #A ^ a\n",
    "    #rigth\n",
    "    def __radd__(self, a) #A + a\n",
    "    def __rsub__(self, a) #A - a\n",
    "    def __rmul__(self, a) #A * a\n",
    "    def __rtruediv__(self) #A / a\n",
    "    def __rflordiv__(self, a) #A // a\n",
    "    def __rmod__(self, a) #A mod a\n",
    "    def __rpow__(self, a) #pow(A, a)\n",
    "\n",
    "    def __lshift__(self, a) #A << a\n",
    "    def __rshift__(self, a) #A >> a\n",
    "    def __and__(self, a) #A & a\n",
    "    def __or__(self, a) #A | a\n",
    "    def __xor__(self) #A ^ a\n",
    "    #right\n",
    "    def __rlshift__(self, a) #A << a\n",
    "    def __rrshift__(self, a) #A >> a\n",
    "    def __rand__(self, a) #A & a\n",
    "    def __ror__(self, a) #A | a\n",
    "    def __rxor__(self, a) #A ^ a\n",
    "    #inplace\n",
    "    def __ilshift__(self, a) #A <<= a\n",
    "    def __irshift__(self, a) #A >>= a\n",
    "    def __iand__(self, a) #A &= a\n",
    "    def __ior__(self, a) #A |= a\n",
    "    def __ixor__(self, a) #A ^= a\n",
    "    \n",
    "    def __getitem__(self, a) #A[a]\n",
    "    def __setitem__(self, key, value) #A[key]=value\n",
    "    def __missingitem__(self, key) #how to act if key is missing\n",
    "    def __len__(self) #len(A)\n",
    "    def __contains__(self, a) #a in A\n",
    "    def __getattr__(self, a)#generates attribute length. if a == length return A.length\n",
    "    def __setattr__(self, a)#what to do if A.a = length1\n",
    "    \n",
    "    def __iter__(self)#initializes iterator i = 0\n",
    "    def __next__(self)#i += 1, raises StopIteration Exception when end of collection is reached\n",
    "    def __reversed__(self)#iterates back\n",
    "    def __next__(self)#i += 1, raises StopIteration Exception when end of collection is reached\n",
    "\n"
   ]
  },
  {
   "cell_type": "code",
   "execution_count": null,
   "metadata": {
    "collapsed": true
   },
   "outputs": [],
   "source": [
    "DSU:\n",
    "    create(...)\n",
    "    join(a, b)\n",
    "    add(element)\n",
    "    is_joined(a, b)"
   ]
  },
  {
   "cell_type": "code",
   "execution_count": 4,
   "metadata": {
    "collapsed": true
   },
   "outputs": [],
   "source": [
    "class Node:\n",
    "    def __init__(self, value, idx):\n",
    "        self.value = value\n",
    "        self.parent = idx\n",
    "        \n",
    "    def get_parent(self):\n",
    "        return self.parent\n",
    "\n",
    "class DSU:\n",
    "    def __init__(self, lst):\n",
    "        self.values = lst\n",
    "        self.length = len(lst)\n",
    "        self.parents = list(range(self.length))\n",
    "    \n",
    "    def find_set(self, x):\n",
    "        if self.parents[x] == x:\n",
    "            return x\n",
    "        else:\n",
    "            self.parents[x] = self.find_set(self.parents[x])\n",
    "            return self.find_set(self.parents[x])\n",
    "    \n",
    "    def is_joined(self, a, b):\n",
    "        if self.find_set(a) == self.find_set(b):\n",
    "            return True\n",
    "        else:\n",
    "            return False\n",
    "        \n",
    "    def join(self, a, b):\n",
    "        if not self.is_joined(a, b):\n",
    "            self.parents[a] = b\n",
    "        \n",
    "                "
   ]
  },
  {
   "cell_type": "code",
   "execution_count": null,
   "metadata": {
    "collapsed": true
   },
   "outputs": [],
   "source": []
  }
 ],
 "metadata": {
  "anaconda-cloud": {},
  "kernelspec": {
   "display_name": "Python [conda root]",
   "language": "python",
   "name": "conda-root-py"
  },
  "language_info": {
   "codemirror_mode": {
    "name": "ipython",
    "version": 3
   },
   "file_extension": ".py",
   "mimetype": "text/x-python",
   "name": "python",
   "nbconvert_exporter": "python",
   "pygments_lexer": "ipython3",
   "version": "3.5.3"
  }
 },
 "nbformat": 4,
 "nbformat_minor": 1
}
