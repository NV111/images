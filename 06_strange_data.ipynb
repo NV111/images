{
 "cells": [
  {
   "cell_type": "code",
   "execution_count": 2,
   "metadata": {
    "collapsed": true
   },
   "outputs": [],
   "source": [
    "import numpy as np\n",
    "import _pickle as cPickle"
   ]
  },
  {
   "cell_type": "code",
   "execution_count": 3,
   "metadata": {
    "collapsed": false
   },
   "outputs": [],
   "source": [
    "FILE_FOR_MODEL = '/home/stepan/pyprojects/github/strange_data.pkl'\n",
    "file = open(FILE_FOR_MODEL, 'rb')\n",
    "X, y = cPickle.load(file)\n",
    "file.close()"
   ]
  },
  {
   "cell_type": "code",
   "execution_count": 4,
   "metadata": {
    "collapsed": false
   },
   "outputs": [
    {
     "name": "stdout",
     "output_type": "stream",
     "text": [
      "[[-1.68549482  0.71711526  2.90546831 ...,  0.42783493 -0.24257855\n",
      "   0.21686797]\n",
      " [ 0.28851237 -2.13364188  0.79797604 ...,  1.08343332 -0.64960505\n",
      "   0.02983916]\n",
      " [ 2.1572855   0.76845702  1.31810327 ...,  1.566706    0.87089076\n",
      "  -1.32497287]\n",
      " ..., \n",
      " [-1.46012606 -0.56543213  0.43373079 ...,  1.0249093   0.03384524\n",
      "   0.31149632]\n",
      " [-0.4930952   4.68181719  1.62860646 ...,  1.52708262  0.38908569\n",
      "   0.40816834]\n",
      " [-0.05453169  1.7275412   1.60993581 ..., -0.4681751   0.80613245\n",
      "   2.89499391]]\n",
      "[1 1 0 ..., 1 0 0]\n",
      "(10000, 20)\n",
      "10000\n"
     ]
    }
   ],
   "source": [
    "print(X)\n",
    "print(y)\n",
    "print(np.shape(X))\n",
    "print(len(y))"
   ]
  },
  {
   "cell_type": "code",
   "execution_count": 5,
   "metadata": {
    "collapsed": false
   },
   "outputs": [
    {
     "name": "stdout",
     "output_type": "stream",
     "text": [
      "[-1.68549482  0.71711526  2.90546831  0.71861991 -1.22530435 -1.22530435\n",
      "  0.71861991 -3.16791486 -0.15749674  0.97680119 -0.21345012 -1.16311696\n",
      "  0.74821703 -0.34670642 -1.07103647  1.00534126 -0.15749674  0.42783493\n",
      " -0.24257855  0.21686797] 1\n",
      "[ 0.28851237 -2.13364188  0.79797604  1.58499012  0.92033023  0.92033023\n",
      "  1.58499012 -0.24572426  0.1293623   0.0383697  -0.21237927  1.45196493\n",
      "  0.84832029  0.87666845  1.64030374  1.10606794  0.1293623   1.08343332\n",
      " -0.64960505  0.02983916] 1\n"
     ]
    }
   ],
   "source": [
    "print(X[0], y[0])\n",
    "print(X[1], y[1])"
   ]
  },
  {
   "cell_type": "code",
   "execution_count": 6,
   "metadata": {
    "collapsed": false
   },
   "outputs": [],
   "source": [
    "X = np.delete(X, [5,6,8], axis=1)\n",
    "Y = np.corrcoef(X.T)"
   ]
  },
  {
   "cell_type": "code",
   "execution_count": 7,
   "metadata": {
    "collapsed": false
   },
   "outputs": [
    {
     "data": {
      "text/plain": [
       "<matplotlib.axes._subplots.AxesSubplot at 0x7f1b3f1c3e48>"
      ]
     },
     "execution_count": 7,
     "metadata": {},
     "output_type": "execute_result"
    },
    {
     "data": {
      "image/png": "[encoded data removed]",
      "text/plain": [
       "<matplotlib.figure.Figure at 0x7f1b7c0d3400>"
      ]
     },
     "metadata": {},
     "output_type": "display_data"
    }
   ],
   "source": [
    "import seaborn as sns\n",
    "import matplotlib.pyplot as plt\n",
    "%matplotlib inline\n",
    "\n",
    "\n",
    "plt.figure(figsize=(5,5))\n",
    "sns.heatmap(Y)"
   ]
  },
  {
   "cell_type": "code",
   "execution_count": 8,
   "metadata": {
    "collapsed": true
   },
   "outputs": [],
   "source": [
    "import numpy as np\n",
    "import _pickle as cPickle\n",
    "\n",
    "\n",
    "# In[23]:\n",
    "\n",
    "def l0_check(a: np.array):\n",
    "    b = np.array(a)\n",
    "    for i in range(len(b)):\n",
    "        if (b[i] != 0):\n",
    "            b[i] = 1\n",
    "    return b\n",
    "\n",
    "\n",
    "# In[24]:\n",
    "\n",
    "FILE_FOR_MODEL = \"05_class_Logistic_regression_model.txt\"\n",
    "class LogisticRegression:\n",
    "    def __init__(self, alpha: float, l0: float, l1: float, l2: float, \n",
    "                 stop_iter: float, stop_delta: float, verbose: bool, model: object):\n",
    "        '''\n",
    "        Linerar Regression object constructor\n",
    "        \n",
    "        :param alpha: alpha param for gradient descent\n",
    "        :param l0: L0 regularization coefficient\n",
    "        :param l1: L1 regularization coefficient\n",
    "        :param l2: L2 regularization coefficient\n",
    "        :param stop_iter: maximum iterations of traing\n",
    "        :param stop_delta: stop iteration delta\n",
    "        :param verbose: show verbose information\n",
    "        :param model: get params from other model\n",
    "        '''\n",
    "        if (model == None):\n",
    "            self.alpha = alpha\n",
    "            self.l0 = l0\n",
    "            self.l1 = l1\n",
    "            self.l2 = l2\n",
    "            self.stop_iter = stop_iter\n",
    "            self.stop_delta = stop_delta\n",
    "            self.verbose = verbose\n",
    "            self.model = model\n",
    "        else:            \n",
    "            self.alpha = model['alpha']\n",
    "            self.l0 = model['l0']\n",
    "            self.l1 = model['l1']\n",
    "            self.l2 = model['l2']\n",
    "            self.stop_iter = model['stop_iter']\n",
    "            self.stop_delta = model['stop_delta']\n",
    "            self.verbose = model['verbose']\n",
    "            self.model = model['model']\n",
    "    \n",
    "    def train(self, X: np.array, y: np.array, warm_start: bool):\n",
    "        '''\n",
    "        Fit Linear Regression params\n",
    "        \n",
    "        :param X: training data\n",
    "        :param y: training ansewers\n",
    "        :param warm_start: must be set True to continue training, false to reset params\n",
    "        '''\n",
    "\n",
    "        if (warm_start == False):\n",
    "            self.w = np.random.rand(len(X[0]))\n",
    "        else:\n",
    "            file = open(FILE_FOR_MODEL, 'rb')\n",
    "            self.w = cPickle.load(file)\n",
    "            file.close()\n",
    "            \n",
    "        indicator_for_cycle_exit_criterion = 1   \n",
    "        \n",
    "        for j in range(int(self.stop_iter)):\n",
    "            \n",
    "            grad = X.T.dot(y-1/(1+np.exp(X.dot(self.w.T))))/len(y) + self.l0*l0_check(self.w) + self.l1*np.sign(self.w) + self.l2*2*self.w\n",
    "            self.w = self.w - self.alpha*grad\n",
    "            j += 1\n",
    "            \n",
    "            if (self.verbose == True):\n",
    "                if (j % 100000 == 0):\n",
    "                    print('iteration = ', j)\n",
    "                    print('vect =', self.w)\n",
    "                    print('grad =', grad)\n",
    "                    print('|grad| =', np.linalg.norm(grad))\n",
    "            \n",
    "            if(np.linalg.norm(grad) < self.stop_delta):\n",
    "                indicator_for_cycle_exit_criterion = 0   \n",
    "                print('|grad| < stop_delta')\n",
    "                break\n",
    "                \n",
    "        if (indicator_for_cycle_exit_criterion):\n",
    "            print(self.stop_iter, 'iterations done')\n",
    "        \n",
    "        file = open(FILE_FOR_MODEL, 'wb')\n",
    "        cPickle.dump(self.w, file)\n",
    "        file.close()\n",
    "        print('train results saved in', FILE_FOR_MODEL)\n",
    "            \n",
    "    \n",
    "    def get_params(self) -> dict:\n",
    "        '''\n",
    "        Return model params\n",
    "        \n",
    "        :return: dict of model params\n",
    "        '''\n",
    "        dict_params = {}\n",
    "        dict_params['alpha'] = self.alpha\n",
    "        dict_params['l0'] = self.l0\n",
    "        dict_params['l1'] = self.l1\n",
    "        dict_params['l2'] = self.l2\n",
    "        dict_params['stop_iter'] = self.stop_iter\n",
    "        dict_params['stop_delta'] = self.stop_delta\n",
    "        dict_params['verbose'] = self.verbose\n",
    "        dict_params['model'] = self.model\n",
    "        return dict_params\n",
    "    \n",
    "    def predict(self, X: np.array) -> np.array:\n",
    "        file = open(FILE_FOR_MODEL, 'rb')\n",
    "        self.w = cPickle.load(file)\n",
    "        file.close()\n",
    "        '''\n",
    "        Predit answers on given data\n",
    "        \n",
    "        :param X: data\n",
    "        :return: predicted answers\n",
    "        '''\n",
    "        return 1/(1+np.exp(X.dot(self.w.T)))\n",
    "    \n",
    "    def test(self, X: np.array, y: np.array, metric=None) -> float:\n",
    "        file = open(FILE_FOR_MODEL, 'rb')\n",
    "        self.w = cPickle.load(file)\n",
    "        file.close()\n",
    "        '''\n",
    "        Test the model\n",
    "        \n",
    "        :param X: test data\n",
    "        :param y: test answers\n",
    "        :param metric: must be a function of 2 numpy arrays. If None, MSE is used.\n",
    "        :return: metric value\n",
    "        '''\n",
    "        return (1/(1+np.exp(X.dot(self.w.T))) - y).dot((1/(1+np.exp(X.dot(self.w.T))) - y).T)/len(y)\n"
   ]
  },
  {
   "cell_type": "code",
   "execution_count": 59,
   "metadata": {
    "collapsed": false
   },
   "outputs": [],
   "source": [
    "import importlib\n",
    "import class_Logistic_regression\n",
    "importlib.reload(class_Logistic_regression)\n",
    "from class_Logistic_regression import LogisticRegression"
   ]
  },
  {
   "cell_type": "code",
   "execution_count": 104,
   "metadata": {
    "collapsed": false
   },
   "outputs": [],
   "source": [
    "lr = LogisticRegression(alpha=1e-3, l0=0., l1=0, l2=0, stop_iter=1e5, stop_delta=1e-16, verbose=True, model=None)"
   ]
  },
  {
   "cell_type": "code",
   "execution_count": 105,
   "metadata": {
    "collapsed": false
   },
   "outputs": [
    {
     "name": "stdout",
     "output_type": "stream",
     "text": [
      "iteration =  10000\n",
      "vect = [  5.28456644e-01   7.40979647e-01   9.84453837e-03   1.45510571e-01\n",
      "   8.17562330e-03  -3.49497486e-01  -3.04083847e-04  -4.24859300e-02\n",
      "   5.68303573e-01   3.16873594e-02   1.54936844e-02   3.09355368e-02\n",
      "  -5.54801375e-02   4.35718852e-01  -4.21310709e-02  -4.90427276e-02\n",
      "   5.28033618e-01]\n",
      "grad = [ -9.45473033e-13  -5.55466784e-14   4.59352778e-13   2.51503796e-12\n",
      "  -3.89865207e-12   6.20025720e-12   6.26289598e-12  -2.28027774e-12\n",
      "  -1.53822022e-12   5.09756992e-12  -7.16866921e-12   1.99563477e-12\n",
      "   1.54031798e-12  -1.13440279e-12  -1.80662951e-12   5.95272454e-12\n",
      "   6.36363406e-13]\n",
      "|grad| = 1.52311063162e-11\n",
      "iteration =  20000\n",
      "vect = [  5.28456644e-01   7.40979647e-01   9.84453837e-03   1.45510571e-01\n",
      "   8.17562331e-03  -3.49497486e-01  -3.04083876e-04  -4.24859300e-02\n",
      "   5.68303573e-01   3.16873594e-02   1.54936845e-02   3.09355368e-02\n",
      "  -5.54801375e-02   4.35718852e-01  -4.21310709e-02  -4.90427276e-02\n",
      "   5.28033618e-01]\n",
      "grad = [ -1.56374469e-13  -6.80522305e-15   8.37281355e-14   3.86513932e-13\n",
      "  -6.02870642e-13   9.55463264e-13   9.55054702e-13  -3.51588980e-13\n",
      "  -2.49981369e-13   7.76365194e-13  -1.12187859e-12   2.93155722e-13\n",
      "   2.44105736e-13  -1.62057034e-13  -3.74223319e-13   8.50910453e-13\n",
      "   1.09701803e-13]\n",
      "|grad| = 2.33768513254e-12\n",
      "iteration =  30000\n",
      "vect = [  5.28456644e-01   7.40979647e-01   9.84453837e-03   1.45510571e-01\n",
      "   8.17562332e-03  -3.49497486e-01  -3.04083880e-04  -4.24859300e-02\n",
      "   5.68303573e-01   3.16873594e-02   1.54936845e-02   3.09355368e-02\n",
      "  -5.54801375e-02   4.35718852e-01  -4.21310709e-02  -4.90427276e-02\n",
      "   5.28033618e-01]\n",
      "grad = [ -3.03357339e-14   1.17399424e-14   2.51576537e-14   5.50564039e-14\n",
      "  -1.06917142e-13   1.41908707e-13   1.46087586e-13  -5.36330980e-14\n",
      "  -5.55182567e-14   1.18787646e-13  -1.75093717e-13   4.34745573e-14\n",
      "   3.87455623e-14  -2.76898504e-14  -6.98623381e-14   1.23248967e-13\n",
      "   2.61803912e-14]\n",
      "|grad| = 3.65068060344e-13\n",
      "iteration =  40000\n",
      "vect = [  5.28456644e-01   7.40979647e-01   9.84453837e-03   1.45510571e-01\n",
      "   8.17562332e-03  -3.49497486e-01  -3.04083881e-04  -4.24859300e-02\n",
      "   5.68303573e-01   3.16873594e-02   1.54936845e-02   3.09355368e-02\n",
      "  -5.54801375e-02   4.35718852e-01  -4.21310709e-02  -4.90427276e-02\n",
      "   5.28033618e-01]\n",
      "grad = [ -2.22044605e-14   1.08126841e-14   1.32496236e-14   5.52269341e-15\n",
      "  -2.31974440e-14   2.77475820e-14   2.25810481e-14  -8.99769148e-15\n",
      "  -2.66950906e-14   1.81992199e-14  -2.74198442e-14   6.68975986e-15\n",
      "   6.84530210e-15   1.16173737e-14  -1.26405553e-14   1.79287696e-14\n",
      "   1.15398802e-14]\n",
      "|grad| = 7.31544377606e-14\n",
      "iteration =  50000\n",
      "vect = [  5.28456644e-01   7.40979647e-01   9.84453837e-03   1.45510571e-01\n",
      "   8.17562332e-03  -3.49497486e-01  -3.04083881e-04  -4.24859300e-02\n",
      "   5.68303573e-01   3.16873594e-02   1.54936845e-02   3.09355368e-02\n",
      "  -5.54801375e-02   4.35718852e-01  -4.21310709e-02  -4.90427276e-02\n",
      "   5.28033618e-01]\n",
      "grad = [ -2.03526085e-14   6.60804744e-16   9.92095295e-16   2.69118061e-15\n",
      "  -1.91846539e-15   2.77351475e-14   3.42303963e-15  -3.46567219e-15\n",
      "  -1.36122225e-14   3.46611628e-15  -4.11848333e-15   1.73283610e-15\n",
      "   3.46245255e-15   2.55369059e-14  -3.46567219e-15   3.46034312e-15\n",
      "   4.91784391e-15]\n",
      "|grad| = 4.63584126064e-14\n",
      "iteration =  60000\n",
      "vect = [  5.28456644e-01   7.40979647e-01   9.84453837e-03   1.45510571e-01\n",
      "   8.17562332e-03  -3.49497486e-01  -3.04083881e-04  -4.24859300e-02\n",
      "   5.68303573e-01   3.16873594e-02   1.54936845e-02   3.09355368e-02\n",
      "  -5.54801375e-02   4.35718852e-01  -4.21310709e-02  -4.90427276e-02\n",
      "   5.28033618e-01]\n",
      "grad = [ -2.04956052e-14  -2.48689958e-17   8.53317417e-16   2.71871414e-15\n",
      "  -8.59756710e-16   2.77431411e-14   4.05009359e-16  -3.45901086e-15\n",
      "  -1.31326061e-14   3.46433993e-15  -8.65973959e-16   1.71596071e-15\n",
      "   3.46533913e-15   2.65920619e-14  -3.46211948e-15   3.46034312e-15\n",
      "   4.90740781e-15]\n",
      "|grad| = 4.65412775121e-14\n",
      "iteration =  70000\n",
      "vect = [  5.28456644e-01   7.40979647e-01   9.84453837e-03   1.45510571e-01\n",
      "   8.17562332e-03  -3.49497486e-01  -3.04083881e-04  -4.24859300e-02\n",
      "   5.68303573e-01   3.16873594e-02   1.54936845e-02   3.09355368e-02\n",
      "  -5.54801375e-02   4.35718852e-01  -4.21310709e-02  -4.90427276e-02\n",
      "   5.28033618e-01]\n",
      "grad = [ -2.04893880e-14  -1.06581410e-17   8.52651283e-16   2.73026046e-15\n",
      "  -8.66862138e-16   2.77369239e-14   4.52970994e-17  -3.46345175e-15\n",
      "  -1.31699096e-14   3.46478402e-15  -8.55315818e-16   1.73283610e-15\n",
      "   3.46722651e-15   2.65956146e-14  -3.44080320e-15   3.45679041e-15\n",
      "   4.91207075e-15]\n",
      "|grad| = 4.65460340875e-14\n",
      "iteration =  80000\n",
      "vect = [  5.28456644e-01   7.40979647e-01   9.84453837e-03   1.45510571e-01\n",
      "   8.17562332e-03  -3.49497486e-01  -3.04083881e-04  -4.24859300e-02\n",
      "   5.68303573e-01   3.16873594e-02   1.54936845e-02   3.09355368e-02\n",
      "  -5.54801375e-02   4.35718852e-01  -4.21310709e-02  -4.90427276e-02\n",
      "   5.28033618e-01]\n",
      "grad = [ -2.04973816e-14  -7.10542736e-18   8.58868532e-16   2.73381318e-15\n",
      "  -8.49098569e-16   2.77466938e-14   2.57571742e-17  -3.46167539e-15\n",
      "  -1.31663569e-14   3.46478402e-15  -8.59756710e-16   1.73017156e-15\n",
      "   3.46345175e-15   2.66027200e-14  -3.45146134e-15   3.45679041e-15\n",
      "   4.90896213e-15]\n",
      "|grad| = 4.65584407051e-14\n",
      "iteration =  90000\n",
      "vect = [  5.28456644e-01   7.40979647e-01   9.84453837e-03   1.45510571e-01\n",
      "   8.17562332e-03  -3.49497486e-01  -3.04083881e-04  -4.24859300e-02\n",
      "   5.68303573e-01   3.16873594e-02   1.54936845e-02   3.09355368e-02\n",
      "  -5.54801375e-02   4.35718852e-01  -4.21310709e-02  -4.90427276e-02\n",
      "   5.28033618e-01]\n",
      "grad = [ -2.04973816e-14  -7.10542736e-18   8.58868532e-16   2.73381318e-15\n",
      "  -8.49098569e-16   2.77466938e-14   2.57571742e-17  -3.46167539e-15\n",
      "  -1.31663569e-14   3.46478402e-15  -8.59756710e-16   1.73017156e-15\n",
      "   3.46345175e-15   2.66027200e-14  -3.45146134e-15   3.45679041e-15\n",
      "   4.90896213e-15]\n",
      "|grad| = 4.65584407051e-14\n",
      "iteration =  100000\n",
      "vect = [  5.28456644e-01   7.40979647e-01   9.84453837e-03   1.45510571e-01\n",
      "   8.17562332e-03  -3.49497486e-01  -3.04083881e-04  -4.24859300e-02\n",
      "   5.68303573e-01   3.16873594e-02   1.54936845e-02   3.09355368e-02\n",
      "  -5.54801375e-02   4.35718852e-01  -4.21310709e-02  -4.90427276e-02\n",
      "   5.28033618e-01]\n",
      "grad = [ -2.04973816e-14  -7.10542736e-18   8.58868532e-16   2.73381318e-15\n",
      "  -8.49098569e-16   2.77466938e-14   2.57571742e-17  -3.46167539e-15\n",
      "  -1.31663569e-14   3.46478402e-15  -8.59756710e-16   1.73017156e-15\n",
      "   3.46345175e-15   2.66027200e-14  -3.45146134e-15   3.45679041e-15\n",
      "   4.90896213e-15]\n",
      "|grad| = 4.65584407051e-14\n",
      "100000.0 iterations done\n",
      "train results saved in 05_class_Logistic_regression_model.txt\n"
     ]
    }
   ],
   "source": [
    "lr.train(X=np.delete(X, np.s_[:2000], axis=0), y=np.delete(y, np.s_[:2000], axis=0), warm_start=True)"
   ]
  },
  {
   "cell_type": "code",
   "execution_count": 106,
   "metadata": {
    "collapsed": false
   },
   "outputs": [],
   "source": [
    "P = lr.predict(X=np.delete(X, np.s_[8000:], axis=0))"
   ]
  },
  {
   "cell_type": "code",
   "execution_count": 107,
   "metadata": {
    "collapsed": false
   },
   "outputs": [
    {
     "name": "stdout",
     "output_type": "stream",
     "text": [
      "lenP= 4000\n",
      "4000\n",
      "[ 0.  1.  1. ...,  1.  0.  0.]\n"
     ]
    }
   ],
   "source": [
    "print('lenP=', len(P))\n",
    "print(len(X))\n",
    "for i in range(len(P)):\n",
    "    if (P[i] >0.5):\n",
    "        P[i]=1\n",
    "    else:\n",
    "        P[i]=0\n",
    "print(P)"
   ]
  },
  {
   "cell_type": "code",
   "execution_count": 108,
   "metadata": {
    "collapsed": false
   },
   "outputs": [],
   "source": [
    "yy = np.delete(y, np.s_[8000:], axis=0)\n",
    "j = 0\n",
    "for i in range(len(P)):\n",
    "    if (abs(P[i]-yy[i]) > 0):\n",
    "        j+=1"
   ]
  },
  {
   "cell_type": "code",
   "execution_count": 109,
   "metadata": {
    "collapsed": false
   },
   "outputs": [
    {
     "name": "stdout",
     "output_type": "stream",
     "text": [
      "1423\n",
      "4000\n"
     ]
    }
   ],
   "source": [
    "print(j)\n",
    "print(len(P))"
   ]
  },
  {
   "cell_type": "code",
   "execution_count": 26,
   "metadata": {
    "collapsed": false
   },
   "outputs": [],
   "source": [
    "from sklearn.svm import SVC\n",
    "from sklearn.model_selection import cross_val_score\n",
    "from sklearn.linear_model import LogisticRegression"
   ]
  },
  {
   "cell_type": "code",
   "execution_count": 33,
   "metadata": {
    "collapsed": false
   },
   "outputs": [],
   "source": [
    "lr2 = SVC(C=1.0, kernel='sigmoid', degree=3, gamma='auto', coef0=0.0, shrinking=True, probability=False, tol=0.001, cache_size=200, class_weight=None, verbose=True, max_iter=-1, decision_function_shape='ovr', random_state=None)"
   ]
  },
  {
   "cell_type": "code",
   "execution_count": 36,
   "metadata": {
    "collapsed": false
   },
   "outputs": [
    {
     "name": "stdout",
     "output_type": "stream",
     "text": [
      "[LibSVM]"
     ]
    },
    {
     "data": {
      "text/plain": [
       "SVC(C=1.0, cache_size=200, class_weight=None, coef0=0.0,\n",
       "  decision_function_shape='ovr', degree=3, gamma='auto', kernel='sigmoid',\n",
       "  max_iter=-1, probability=False, random_state=None, shrinking=True,\n",
       "  tol=0.001, verbose=True)"
      ]
     },
     "execution_count": 36,
     "metadata": {},
     "output_type": "execute_result"
    }
   ],
   "source": [
    "X_tr=np.delete(X, np.s_[:2000], axis=0)\n",
    "y_tr=np.delete(y, np.s_[:2000], axis=0)\n",
    "lr2.fit(X_tr, y_tr)"
   ]
  },
  {
   "cell_type": "code",
   "execution_count": 38,
   "metadata": {
    "collapsed": false
   },
   "outputs": [],
   "source": [
    "X_pr=np.delete(X, np.s_[8000:], axis=0)\n",
    "y_pr= lr2.predict(X_pr)"
   ]
  },
  {
   "cell_type": "code",
   "execution_count": 40,
   "metadata": {
    "collapsed": false
   },
   "outputs": [],
   "source": [
    "yy = np.delete(y, np.s_[8000:], axis=0)\n",
    "j = 0\n",
    "for i in range(len(y_pr)):\n",
    "    if (abs(y_pr[i]-yy[i]) > 0):\n",
    "        j+=1"
   ]
  },
  {
   "cell_type": "code",
   "execution_count": 43,
   "metadata": {
    "collapsed": false
   },
   "outputs": [
    {
     "name": "stdout",
     "output_type": "stream",
     "text": [
      "2009\n",
      "4000\n"
     ]
    }
   ],
   "source": [
    "print(j)\n",
    "print(len(y_pr))"
   ]
  },
  {
   "cell_type": "code",
   "execution_count": null,
   "metadata": {
    "collapsed": true
   },
   "outputs": [],
   "source": []
  }
 ],
 "metadata": {
  "anaconda-cloud": {},
  "kernelspec": {
   "display_name": "Python [conda root]",
   "language": "python",
   "name": "conda-root-py"
  },
  "language_info": {
   "codemirror_mode": {
    "name": "ipython",
    "version": 3
   },
   "file_extension": ".py",
   "mimetype": "text/x-python",
   "name": "python",
   "nbconvert_exporter": "python",
   "pygments_lexer": "ipython3",
   "version": "3.5.3"
  }
 },
 "nbformat": 4,
 "nbformat_minor": 1
}
