{
 "cells": [
  {
   "cell_type": "code",
   "execution_count": 1,
   "metadata": {
    "collapsed": true
   },
   "outputs": [],
   "source": [
    "import numpy as np\n",
    "import _pickle as cPickle"
   ]
  },
  {
   "cell_type": "code",
   "execution_count": 11,
   "metadata": {
    "collapsed": false
   },
   "outputs": [],
   "source": [
    "FILE_FOR_MODEL = '/home/stepan/pyprojects/github/strange_data.pkl'\n",
    "file = open(FILE_FOR_MODEL, 'rb')\n",
    "X, y = cPickle.load(file)\n",
    "file.close()"
   ]
  },
  {
   "cell_type": "code",
   "execution_count": 20,
   "metadata": {
    "collapsed": false
   },
   "outputs": [
    {
     "name": "stdout",
     "output_type": "stream",
     "text": [
      "[[-1.68549482  0.71711526  2.90546831 ...,  0.42783493 -0.24257855\n",
      "   0.21686797]\n",
      " [ 0.28851237 -2.13364188  0.79797604 ...,  1.08343332 -0.64960505\n",
      "   0.02983916]\n",
      " [ 2.1572855   0.76845702  1.31810327 ...,  1.566706    0.87089076\n",
      "  -1.32497287]\n",
      " ..., \n",
      " [-1.46012606 -0.56543213  0.43373079 ...,  1.0249093   0.03384524\n",
      "   0.31149632]\n",
      " [-0.4930952   4.68181719  1.62860646 ...,  1.52708262  0.38908569\n",
      "   0.40816834]\n",
      " [-0.05453169  1.7275412   1.60993581 ..., -0.4681751   0.80613245\n",
      "   2.89499391]]\n",
      "[1 1 0 ..., 1 0 0]\n",
      "(10000, 20)\n",
      "10000\n"
     ]
    }
   ],
   "source": [
    "print(X)\n",
    "print(y)\n",
    "print(np.shape(X))\n",
    "print(len(y))"
   ]
  },
  {
   "cell_type": "code",
   "execution_count": 22,
   "metadata": {
    "collapsed": false
   },
   "outputs": [
    {
     "name": "stdout",
     "output_type": "stream",
     "text": [
      "[-1.68549482  0.71711526  2.90546831  0.71861991 -1.22530435 -1.22530435\n",
      "  0.71861991 -3.16791486 -0.15749674  0.97680119 -0.21345012 -1.16311696\n",
      "  0.74821703 -0.34670642 -1.07103647  1.00534126 -0.15749674  0.42783493\n",
      " -0.24257855  0.21686797] 1\n",
      "[ 0.28851237 -2.13364188  0.79797604  1.58499012  0.92033023  0.92033023\n",
      "  1.58499012 -0.24572426  0.1293623   0.0383697  -0.21237927  1.45196493\n",
      "  0.84832029  0.87666845  1.64030374  1.10606794  0.1293623   1.08343332\n",
      " -0.64960505  0.02983916] 1\n"
     ]
    }
   ],
   "source": [
    "print(X[0], y[0])\n",
    "print(X[1], y[1])"
   ]
  },
  {
   "cell_type": "code",
   "execution_count": 54,
   "metadata": {
    "collapsed": false
   },
   "outputs": [],
   "source": [
    "X = np.delete(X, [5,6,8], axis=1)\n",
    "Y = np.corrcoef(X.T)"
   ]
  },
  {
   "cell_type": "code",
   "execution_count": null,
   "metadata": {
    "collapsed": false
   },
   "outputs": [],
   "source": [
    "import seaborn as sns\n",
    "import matplotlib.pyplot as plt\n",
    "%matplotlib inline\n",
    "\n",
    "\n",
    "plt.figure(figsize=(5,5))\n",
    "sns.heatmap(Y)"
   ]
  },
  {
   "cell_type": "code",
   "execution_count": 62,
   "metadata": {
    "collapsed": false
   },
   "outputs": [],
   "source": [
    "from class_Logistic_regression import LogisticRegression"
   ]
  },
  {
   "cell_type": "code",
   "execution_count": 63,
   "metadata": {
    "collapsed": true
   },
   "outputs": [],
   "source": [
    "lr = LogisticRegression(alpha=1e-4, l0=0., l1=1., l2=0., stop_iter=1e6, stop_delta=1e-4, verbose=False, model=None)"
   ]
  },
  {
   "cell_type": "code",
   "execution_count": null,
   "metadata": {
    "collapsed": false
   },
   "outputs": [
    {
     "name": "stdout",
     "output_type": "stream",
     "text": [
      "iteration =  100000 vect = [ -5.35344899e-05  -3.94530181e-05  -2.83933046e-05   8.57203420e-05\n",
      "   3.66430633e-05  -1.09271255e-04  -7.21643039e-05  -5.71531182e-05\n",
      "  -5.44082606e-05   4.85581883e-05  -6.53361809e-05  -3.66570326e-05\n",
      "  -1.12594404e-05   1.51779610e-05   9.95093102e-05  -8.74664324e-05\n",
      "   3.36529825e-05] grad = [ 0.87053982  0.94203229  0.96779804 -0.87322395 -0.99837491  1.12543205\n",
      "  0.99740257  1.00557373  1.0553262  -1.00689211  0.99710884  0.99630148\n",
      "  0.99359569 -0.91153726 -1.00152017  1.01365316 -1.12734587]\n",
      "iteration =  200000 vect = [  7.32713974e-05   6.07381615e-05   5.51493105e-05  -8.44939229e-05\n",
      "  -5.97467266e-05   3.49920065e-05  -3.18806649e-05  -7.98147443e-05\n",
      "   2.40274895e-05   3.00494642e-05  -6.85447169e-05  -9.22886596e-05\n",
      "   5.40567474e-05   4.62381212e-05   9.81600183e-05   4.28257272e-06\n",
      "  -6.79972614e-05] grad = [-1.12952362 -1.05807026 -1.03215743  1.12679105  1.00174357 -0.87451305\n",
      "  0.99741365  1.00556785 -0.94468065 -1.00689655  0.99710811  0.99628693\n",
      " -1.00643868 -0.9113426  -1.00152017 -0.98637297  0.87273263]\n"
     ]
    }
   ],
   "source": [
    "lr.verbose = True\n",
    "lr.train(X=X, y=y, warm_start=False)"
   ]
  },
  {
   "cell_type": "code",
   "execution_count": null,
   "metadata": {
    "collapsed": true
   },
   "outputs": [],
   "source": []
  }
 ],
 "metadata": {
  "anaconda-cloud": {},
  "kernelspec": {
   "display_name": "Python [conda root]",
   "language": "python",
   "name": "conda-root-py"
  },
  "language_info": {
   "codemirror_mode": {
    "name": "ipython",
    "version": 3
   },
   "file_extension": ".py",
   "mimetype": "text/x-python",
   "name": "python",
   "nbconvert_exporter": "python",
   "pygments_lexer": "ipython3",
   "version": "3.5.3"
  }
 },
 "nbformat": 4,
 "nbformat_minor": 1
}
