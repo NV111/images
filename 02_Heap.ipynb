{
 "cells": [
  {
   "cell_type": "code",
   "execution_count": 1,
   "metadata": {
    "collapsed": false
   },
   "outputs": [],
   "source": [
    "class Heap:\n",
    "    def __init__(self, arr: list):\n",
    "        self.heap = list(arr)\n",
    "        self.length = self.__len__()\n",
    "        self.ii = 0\n",
    "        self.dic = {}\n",
    "        for k in range(len(self.heap)):\n",
    "            self.__heapify(len(self.heap)-k-1)\n",
    "        \n",
    "        for k in range(len(self.heap)):\n",
    "            self.dic[k] = self.heap[k]  \n",
    "\n",
    "    def __getitem__(self, key: int) -> int:\n",
    "        return self.dic[key]\n",
    "\n",
    "    def __insert_space(self, str_num):\n",
    "        str1 = ''\n",
    "        for i in range(str_num):\n",
    "            str1+=' '\n",
    "        return str1\n",
    "\n",
    "    def __repr__(self) -> str:\n",
    "        str1 = ''\n",
    "        for i in range(self.length):\n",
    "            str1+=self.__insert_space(int(2**(self.length-i-1)))\n",
    "            for j in range(int(2**i)-1,int(2**(i+1)-1)):\n",
    "                if (j < len(self.heap)):\n",
    "                    str1+=str(self.heap[j])\n",
    "                    str1+=self.__insert_space(int(2**(self.length-i)))\n",
    "            str1+='\\n'\n",
    "        return str1\n",
    "    \n",
    "    def __iter__(self) -> object:\n",
    "        self.ii = 0\n",
    "        return self\n",
    "\n",
    "    def __next__(self) -> int:\n",
    "        try:\n",
    "            self.ii+=1\n",
    "            return self.heap[self.ii-1]\n",
    "        except IndexError:\n",
    "            raise StopIteration\n",
    "\n",
    "    def __len__(self) -> int:\n",
    "        k = 1\n",
    "        while(len(self.heap) > 2**k):\n",
    "            k += 1\n",
    "        return k\n",
    "\n",
    "    def __str__(self) -> str:\n",
    "        return str(self.heap)\n",
    "\n",
    "\n",
    "    def __swap(self, idx1, idx2):\n",
    "        tmp = self.heap[idx1]\n",
    "        self.heap[idx1] = self.heap[idx2]\n",
    "        self.heap[idx2] = tmp\n",
    "        return self.heap\n",
    "\n",
    "    def __find_min_idx(self, idx1:int, idx2:int):\n",
    "        min_number = self.heap[idx1]\n",
    "        if (self.heap[idx2] < min_number):\n",
    "            min_number = self.heap[idx2]\n",
    "            return idx2\n",
    "        else:\n",
    "            return idx1\n",
    "        \n",
    "    def __heapify(self, idx: int):\n",
    "        if ((2 * idx +1 < len(self.heap)) and (2 * idx + 2 >= len(self.heap))):\n",
    "            if (self.heap[idx] > self.heap[2 * idx+1]):\n",
    "                self.heap = self.__swap(idx, 2 * idx+1)\n",
    "                self.__heapify(2 * idx+1)\n",
    "        elif ((2 * idx+1 < len(self.heap)) and (2 * idx + 2 < len(self.heap))):\n",
    "            min_idx = self.__find_min_idx(2 * idx+1, 2 * idx + 2)\n",
    "            if (self.heap[idx] > self.heap[min_idx]):\n",
    "                self.heap = self.__swap(idx, min_idx)        \n",
    "                self.__heapify(min_idx)\n",
    "\n",
    "    \n",
    "    def add(self, elem: int):\n",
    "        self.heap.append(elem)\n",
    "        for k in range(len(self.heap)):\n",
    "            self.__heapify(len(self.heap)-k-1)\n",
    "        \n",
    "        for k in range(len(self.heap)):\n",
    "            self.dic[k] = self.heap[k] \n",
    "\n",
    "    def pop(self) -> int:\n",
    "        p = self.heap.pop(0)\n",
    "        for k in range(len(self.heap)):\n",
    "            self.__heapify(len(self.heap)-k-1)\n",
    "        \n",
    "        for k in range(len(self.heap)):\n",
    "            self.dic[k] = self.heap[k]  \n",
    "        return p"
   ]
  },
  {
   "cell_type": "code",
   "execution_count": 3,
   "metadata": {
    "collapsed": false,
    "scrolled": true
   },
   "outputs": [
    {
     "name": "stdout",
     "output_type": "stream",
     "text": [
      "[4, 7, 8, 3, 5, 1, 9, 33, 23, 1, 2, 45, 6, 8, 9]\n",
      "[4, 7, 8, 3, 5, 1, 9, 33, 23, 1, 2, 45, 6, 8, 9]\n"
     ]
    }
   ],
   "source": [
    "arr = [4, 7,8,3, 5,1,9,33,23,1, 2,45,6,8,9]\n",
    "print(arr)\n",
    "\n",
    "h = Heap(arr)\n",
    "print(arr)"
   ]
  },
  {
   "cell_type": "code",
   "execution_count": 4,
   "metadata": {
    "collapsed": false
   },
   "outputs": [
    {
     "name": "stdout",
     "output_type": "stream",
     "text": [
      "        1                \n",
      "    2        1        \n",
      "  3    4    6    8    \n",
      " 33  23  5  7  45  8  9  9  \n",
      "\n",
      "[1, 2, 1, 3, 4, 6, 8, 33, 23, 5, 7, 45, 8, 9, 9]\n"
     ]
    }
   ],
   "source": [
    "print(repr(h))\n",
    "print(str(h))"
   ]
  },
  {
   "cell_type": "code",
   "execution_count": 5,
   "metadata": {
    "collapsed": false
   },
   "outputs": [
    {
     "name": "stdout",
     "output_type": "stream",
     "text": [
      "6\n"
     ]
    }
   ],
   "source": [
    "print(h[5])"
   ]
  },
  {
   "cell_type": "code",
   "execution_count": 6,
   "metadata": {
    "collapsed": false
   },
   "outputs": [
    {
     "name": "stdout",
     "output_type": "stream",
     "text": [
      "1\n",
      "        1                \n",
      "    2        3        \n",
      "  4    6    8    9    \n",
      " 23  5  7  45  8  9  33  \n",
      "\n"
     ]
    }
   ],
   "source": [
    "print(h.pop())\n",
    "print(repr(h))"
   ]
  },
  {
   "cell_type": "code",
   "execution_count": 7,
   "metadata": {
    "collapsed": false
   },
   "outputs": [
    {
     "name": "stdout",
     "output_type": "stream",
     "text": [
      "        0                \n",
      "    2        1        \n",
      "  4    6    8    3    \n",
      " 23  5  7  45  8  9  33  9  \n",
      "\n"
     ]
    }
   ],
   "source": [
    "h.add(0)\n",
    "print(repr(h))"
   ]
  },
  {
   "cell_type": "code",
   "execution_count": 8,
   "metadata": {
    "collapsed": false
   },
   "outputs": [
    {
     "name": "stdout",
     "output_type": "stream",
     "text": [
      "0\n",
      "2\n",
      "1\n",
      "4\n",
      "6\n",
      "8\n",
      "3\n",
      "23\n",
      "5\n",
      "7\n",
      "45\n",
      "8\n",
      "9\n",
      "33\n",
      "9\n"
     ]
    }
   ],
   "source": [
    "for element in h:\n",
    "    print(element)"
   ]
  },
  {
   "cell_type": "code",
   "execution_count": 9,
   "metadata": {
    "collapsed": false
   },
   "outputs": [
    {
     "name": "stdout",
     "output_type": "stream",
     "text": [
      "4\n"
     ]
    }
   ],
   "source": [
    "print(len(h))"
   ]
  },
  {
   "cell_type": "code",
   "execution_count": 10,
   "metadata": {
    "collapsed": true
   },
   "outputs": [],
   "source": [
    "def heapsort(array: list) -> list:\n",
    "    new_heap = Heap(array)\n",
    "    new_array = [0]*len(array)\n",
    "    for i in range(len(array)):\n",
    "        new_array[i] = new_heap.pop()\n",
    "    return new_array\n",
    "    "
   ]
  },
  {
   "cell_type": "code",
   "execution_count": 11,
   "metadata": {
    "collapsed": false
   },
   "outputs": [
    {
     "name": "stdout",
     "output_type": "stream",
     "text": [
      "[-7, 0, 0, 3, 4, 4, 5, 7, 7, 8, 9, 56, 98]\n"
     ]
    }
   ],
   "source": [
    "arr1 = [7,4,7,3,5,8,0,-7,56,4,98,9,0]\n",
    "print(heapsort(arr1))"
   ]
  },
  {
   "cell_type": "code",
   "execution_count": 70,
   "metadata": {
    "collapsed": true
   },
   "outputs": [],
   "source": [
    "#Модийикация класса Heap для работы с list of tuples"
   ]
  },
  {
   "cell_type": "code",
   "execution_count": 71,
   "metadata": {
    "collapsed": true
   },
   "outputs": [],
   "source": [
    "class Heap2:\n",
    "    def __init__(self, arr: list):\n",
    "        self.heap = list(arr)\n",
    "        self.length = self.__len__()\n",
    "        self.ii = 0\n",
    "        self.dic = {}\n",
    "        for k in range(len(self.heap)):\n",
    "            self.__heapify(len(self.heap)-k-1)\n",
    "        \n",
    "        for k in range(len(self.heap)):\n",
    "            self.dic[k] = self.heap[k]  \n",
    "\n",
    "    def __getitem__(self, key: int) -> int:\n",
    "        return self.dic[key]\n",
    "\n",
    "    def __insert_space(self, str_num):\n",
    "        str1 = ''\n",
    "        for i in range(str_num):\n",
    "            str1+=' '\n",
    "        return str1\n",
    "\n",
    "    def __repr__(self) -> str:\n",
    "        str1 = ''\n",
    "        for i in range(self.length):\n",
    "            str1+=self.__insert_space(int(2**(self.length-i-1)))\n",
    "            for j in range(int(2**i)-1,int(2**(i+1)-1)):\n",
    "                if (j < len(self.heap)):\n",
    "                    str1+=str(self.heap[j])\n",
    "                    str1+=self.__insert_space(int(2**(self.length-i)))\n",
    "            str1+='\\n'\n",
    "        return str1\n",
    "    \n",
    "    def __iter__(self) -> object:\n",
    "        self.ii = 0\n",
    "        return self\n",
    "\n",
    "    def __next__(self) -> int:\n",
    "        try:\n",
    "            self.ii+=1\n",
    "            return self.heap[self.ii-1]\n",
    "        except IndexError:\n",
    "            raise StopIteration\n",
    "\n",
    "    def __len__(self) -> int:\n",
    "        k = 1\n",
    "        while(len(self.heap) > 2**k):\n",
    "            k += 1\n",
    "        return k\n",
    "\n",
    "    def __str__(self) -> str:\n",
    "        return str(self.heap)\n",
    "\n",
    "\n",
    "    def __swap(self, idx1, idx2):\n",
    "        tmp = self.heap[idx1]\n",
    "        self.heap[idx1] = self.heap[idx2]\n",
    "        self.heap[idx2] = tmp\n",
    "        return self.heap\n",
    "\n",
    "    def __find_min_idx(self, idx1:int, idx2:int):\n",
    "        min_number = self.heap[idx1][0]\n",
    "        if (self.heap[idx2][0] < min_number):\n",
    "            min_number = self.heap[idx2][0]\n",
    "            return idx2\n",
    "        else:\n",
    "            return idx1\n",
    "        \n",
    "    def __heapify(self, idx: int):\n",
    "        if ((2 * idx +1 < len(self.heap)) and (2 * idx + 2 >= len(self.heap))):\n",
    "            if (self.heap[idx][0] > self.heap[2 * idx+1][0]):\n",
    "                self.heap = self.__swap(idx, 2 * idx+1)\n",
    "                self.__heapify(2 * idx+1)\n",
    "        elif ((2 * idx+1 < len(self.heap)) and (2 * idx + 2 < len(self.heap))):\n",
    "            min_idx = self.__find_min_idx(2 * idx+1, 2 * idx + 2)\n",
    "            if (self.heap[idx][0] > self.heap[min_idx][0]):\n",
    "                self.heap = self.__swap(idx, min_idx)        \n",
    "                self.__heapify(min_idx)\n",
    "\n",
    "    \n",
    "    def add(self, elem: int):\n",
    "        self.heap.append(elem)\n",
    "        for k in range(len(self.heap)):\n",
    "            self.__heapify(len(self.heap)-k-1)\n",
    "        \n",
    "        for k in range(len(self.heap)):\n",
    "            self.dic[k] = self.heap[k] \n",
    "\n",
    "    def pop(self) -> int:\n",
    "        p = self.heap.pop(0)\n",
    "        for k in range(len(self.heap)):\n",
    "            self.__heapify(len(self.heap)-k-1)\n",
    "        \n",
    "        for k in range(len(self.heap)):\n",
    "            self.dic[k] = self.heap[k]  \n",
    "        return p"
   ]
  },
  {
   "cell_type": "code",
   "execution_count": 72,
   "metadata": {
    "collapsed": false
   },
   "outputs": [],
   "source": [
    "class TaskQueue:\n",
    "    def __init__(self, tasks:list):\n",
    "        self.__value_check(tasks)\n",
    "        self.tasks = self.__heapsort2(tasks)\n",
    "    \n",
    "    #проверка на значения приоритета\n",
    "    def __value_check(self, array):\n",
    "        for i in range(len(array)):\n",
    "            if (array[i][0] < 0 or array[i][0] > 10):\n",
    "                print('Приоритет задачи',array[i][1],'должен быть от 0 до 10')\n",
    "                raise Exception(\"ValueError\") \n",
    "                \n",
    "    #модификация heapsort\n",
    "    def __heapsort2(self, array: list) -> list:\n",
    "        new_heap = Heap2(array)\n",
    "        new_array = [0]*len(array)\n",
    "        for i in range(len(array)):\n",
    "            new_array[i] = new_heap.pop()\n",
    "        return new_array\n",
    "\n",
    "    def add_task(self, task:str, priority:int):\n",
    "        command = (priority, task)\n",
    "        self.__value_check([command])\n",
    "        self.tasks.append(command)\n",
    "        self.tasks = self.__heapsort2(self.tasks)\n",
    "        \n",
    "    def get_task(self)->str:\n",
    "        return self.tasks.pop(0)"
   ]
  },
  {
   "cell_type": "code",
   "execution_count": 73,
   "metadata": {
    "collapsed": false
   },
   "outputs": [
    {
     "name": "stdout",
     "output_type": "stream",
     "text": [
      "(1, 'vbn')\n",
      "(1, 'qw')\n",
      "(2, 'zxc')\n",
      "(3, 'VTDEA')\n",
      "(3, 'task1')\n",
      "(1, 'newtask')\n",
      "(4, 'TYU')\n",
      "(4, 'GJB')\n"
     ]
    }
   ],
   "source": [
    "arr = [(4,'GJB'), (7,'jqsg6'),(8,'UTV#'),(3,'VTDEA'), (5, '#$%'),(1,'qw'),(9, '1900'),(3,'task1'),(10,'go'),(1, 'vbn')\n",
    "       , (2,'zxc'),(4,'TYU'),(6,'GHJ'),(8,'78878'),(9, 'nin')]\n",
    "tq = TaskQueue(arr)\n",
    "print(tq.get_task())\n",
    "print(tq.get_task())\n",
    "print(tq.get_task())\n",
    "print(tq.get_task())\n",
    "print(tq.get_task())\n",
    "tq.add_task('newtask', 1)\n",
    "print(tq.get_task())\n",
    "print(tq.get_task())\n",
    "print(tq.get_task())"
   ]
  },
  {
   "cell_type": "code",
   "execution_count": 74,
   "metadata": {
    "collapsed": false
   },
   "outputs": [
    {
     "name": "stdout",
     "output_type": "stream",
     "text": [
      "(5, '#$%')\n",
      "(6, 'GHJ')\n",
      "(7, 'jqsg6')\n",
      "(8, 'UTV#')\n",
      "(8, '78878')\n",
      "(1, 'newtask')\n",
      "(9, '1900')\n",
      "(9, 'nin')\n"
     ]
    }
   ],
   "source": [
    "print(tq.get_task())\n",
    "print(tq.get_task())\n",
    "print(tq.get_task())\n",
    "print(tq.get_task())\n",
    "print(tq.get_task())\n",
    "tq.add_task('newtask', 1)\n",
    "print(tq.get_task())\n",
    "print(tq.get_task())\n",
    "print(tq.get_task())"
   ]
  },
  {
   "cell_type": "code",
   "execution_count": 75,
   "metadata": {
    "collapsed": true
   },
   "outputs": [],
   "source": [
    "#Попробуем добавить задачу с отрицательным приоритетом"
   ]
  },
  {
   "cell_type": "code",
   "execution_count": 76,
   "metadata": {
    "collapsed": false
   },
   "outputs": [
    {
     "name": "stdout",
     "output_type": "stream",
     "text": [
      "(1, 'vbn')\n",
      "(1, 'qw')\n",
      "(2, 'zxc')\n",
      "(3, 'VTDEA')\n",
      "(3, 'task1')\n",
      "Приоритет задачи newtask должен быть от 0 до 10\n"
     ]
    },
    {
     "ename": "Exception",
     "evalue": "ValueError",
     "output_type": "error",
     "traceback": [
      "\u001b[0;31m---------------------------------------------------------------------------\u001b[0m",
      "\u001b[0;31mException\u001b[0m                                 Traceback (most recent call last)",
      "\u001b[0;32m<ipython-input-76-87537a142de8>\u001b[0m in \u001b[0;36m<module>\u001b[0;34m()\u001b[0m\n\u001b[1;32m      5\u001b[0m \u001b[0mprint\u001b[0m\u001b[0;34m(\u001b[0m\u001b[0mtq\u001b[0m\u001b[0;34m.\u001b[0m\u001b[0mget_task\u001b[0m\u001b[0;34m(\u001b[0m\u001b[0;34m)\u001b[0m\u001b[0;34m)\u001b[0m\u001b[0;34m\u001b[0m\u001b[0m\n\u001b[1;32m      6\u001b[0m \u001b[0mprint\u001b[0m\u001b[0;34m(\u001b[0m\u001b[0mtq\u001b[0m\u001b[0;34m.\u001b[0m\u001b[0mget_task\u001b[0m\u001b[0;34m(\u001b[0m\u001b[0;34m)\u001b[0m\u001b[0;34m)\u001b[0m\u001b[0;34m\u001b[0m\u001b[0m\n\u001b[0;32m----> 7\u001b[0;31m \u001b[0mtq\u001b[0m\u001b[0;34m.\u001b[0m\u001b[0madd_task\u001b[0m\u001b[0;34m(\u001b[0m\u001b[0;34m'newtask'\u001b[0m\u001b[0;34m,\u001b[0m \u001b[0;34m-\u001b[0m\u001b[0;36m1\u001b[0m\u001b[0;34m)\u001b[0m\u001b[0;34m\u001b[0m\u001b[0m\n\u001b[0m\u001b[1;32m      8\u001b[0m \u001b[0mprint\u001b[0m\u001b[0;34m(\u001b[0m\u001b[0mtq\u001b[0m\u001b[0;34m.\u001b[0m\u001b[0mget_task\u001b[0m\u001b[0;34m(\u001b[0m\u001b[0;34m)\u001b[0m\u001b[0;34m)\u001b[0m\u001b[0;34m\u001b[0m\u001b[0m\n\u001b[1;32m      9\u001b[0m \u001b[0mprint\u001b[0m\u001b[0;34m(\u001b[0m\u001b[0mtq\u001b[0m\u001b[0;34m.\u001b[0m\u001b[0mget_task\u001b[0m\u001b[0;34m(\u001b[0m\u001b[0;34m)\u001b[0m\u001b[0;34m)\u001b[0m\u001b[0;34m\u001b[0m\u001b[0m\n",
      "\u001b[0;32m<ipython-input-72-1f91912e29a0>\u001b[0m in \u001b[0;36madd_task\u001b[0;34m(self, task, priority)\u001b[0m\n\u001b[1;32m     21\u001b[0m     \u001b[0;32mdef\u001b[0m \u001b[0madd_task\u001b[0m\u001b[0;34m(\u001b[0m\u001b[0mself\u001b[0m\u001b[0;34m,\u001b[0m \u001b[0mtask\u001b[0m\u001b[0;34m:\u001b[0m\u001b[0mstr\u001b[0m\u001b[0;34m,\u001b[0m \u001b[0mpriority\u001b[0m\u001b[0;34m:\u001b[0m\u001b[0mint\u001b[0m\u001b[0;34m)\u001b[0m\u001b[0;34m:\u001b[0m\u001b[0;34m\u001b[0m\u001b[0m\n\u001b[1;32m     22\u001b[0m         \u001b[0mcommand\u001b[0m \u001b[0;34m=\u001b[0m \u001b[0;34m(\u001b[0m\u001b[0mpriority\u001b[0m\u001b[0;34m,\u001b[0m \u001b[0mtask\u001b[0m\u001b[0;34m)\u001b[0m\u001b[0;34m\u001b[0m\u001b[0m\n\u001b[0;32m---> 23\u001b[0;31m         \u001b[0mself\u001b[0m\u001b[0;34m.\u001b[0m\u001b[0m__value_check\u001b[0m\u001b[0;34m(\u001b[0m\u001b[0;34m[\u001b[0m\u001b[0mcommand\u001b[0m\u001b[0;34m]\u001b[0m\u001b[0;34m)\u001b[0m\u001b[0;34m\u001b[0m\u001b[0m\n\u001b[0m\u001b[1;32m     24\u001b[0m         \u001b[0mself\u001b[0m\u001b[0;34m.\u001b[0m\u001b[0mtasks\u001b[0m\u001b[0;34m.\u001b[0m\u001b[0mappend\u001b[0m\u001b[0;34m(\u001b[0m\u001b[0mcommand\u001b[0m\u001b[0;34m)\u001b[0m\u001b[0;34m\u001b[0m\u001b[0m\n\u001b[1;32m     25\u001b[0m         \u001b[0mself\u001b[0m\u001b[0;34m.\u001b[0m\u001b[0mtasks\u001b[0m \u001b[0;34m=\u001b[0m \u001b[0mself\u001b[0m\u001b[0;34m.\u001b[0m\u001b[0m__heapsort2\u001b[0m\u001b[0;34m(\u001b[0m\u001b[0mself\u001b[0m\u001b[0;34m.\u001b[0m\u001b[0mtasks\u001b[0m\u001b[0;34m)\u001b[0m\u001b[0;34m\u001b[0m\u001b[0m\n",
      "\u001b[0;32m<ipython-input-72-1f91912e29a0>\u001b[0m in \u001b[0;36m__value_check\u001b[0;34m(self, array)\u001b[0m\n\u001b[1;32m      9\u001b[0m             \u001b[0;32mif\u001b[0m \u001b[0;34m(\u001b[0m\u001b[0marray\u001b[0m\u001b[0;34m[\u001b[0m\u001b[0mi\u001b[0m\u001b[0;34m]\u001b[0m\u001b[0;34m[\u001b[0m\u001b[0;36m0\u001b[0m\u001b[0;34m]\u001b[0m \u001b[0;34m<\u001b[0m \u001b[0;36m0\u001b[0m \u001b[0;32mor\u001b[0m \u001b[0marray\u001b[0m\u001b[0;34m[\u001b[0m\u001b[0mi\u001b[0m\u001b[0;34m]\u001b[0m\u001b[0;34m[\u001b[0m\u001b[0;36m0\u001b[0m\u001b[0;34m]\u001b[0m \u001b[0;34m>\u001b[0m \u001b[0;36m10\u001b[0m\u001b[0;34m)\u001b[0m\u001b[0;34m:\u001b[0m\u001b[0;34m\u001b[0m\u001b[0m\n\u001b[1;32m     10\u001b[0m                 \u001b[0mprint\u001b[0m\u001b[0;34m(\u001b[0m\u001b[0;34m'Приоритет задачи'\u001b[0m\u001b[0;34m,\u001b[0m\u001b[0marray\u001b[0m\u001b[0;34m[\u001b[0m\u001b[0mi\u001b[0m\u001b[0;34m]\u001b[0m\u001b[0;34m[\u001b[0m\u001b[0;36m1\u001b[0m\u001b[0;34m]\u001b[0m\u001b[0;34m,\u001b[0m\u001b[0;34m'должен быть от 0 до 10'\u001b[0m\u001b[0;34m)\u001b[0m\u001b[0;34m\u001b[0m\u001b[0m\n\u001b[0;32m---> 11\u001b[0;31m                 \u001b[0;32mraise\u001b[0m \u001b[0mException\u001b[0m\u001b[0;34m(\u001b[0m\u001b[0;34m\"ValueError\"\u001b[0m\u001b[0;34m)\u001b[0m\u001b[0;34m\u001b[0m\u001b[0m\n\u001b[0m\u001b[1;32m     12\u001b[0m \u001b[0;34m\u001b[0m\u001b[0m\n\u001b[1;32m     13\u001b[0m     \u001b[0;31m#модификация heapsort\u001b[0m\u001b[0;34m\u001b[0m\u001b[0;34m\u001b[0m\u001b[0m\n",
      "\u001b[0;31mException\u001b[0m: ValueError"
     ]
    }
   ],
   "source": [
    "tq = TaskQueue(arr)\n",
    "print(tq.get_task())\n",
    "print(tq.get_task())\n",
    "print(tq.get_task())\n",
    "print(tq.get_task())\n",
    "print(tq.get_task())\n",
    "tq.add_task('newtask', -1)\n",
    "print(tq.get_task())\n",
    "print(tq.get_task())\n",
    "print(tq.get_task())"
   ]
  },
  {
   "cell_type": "code",
   "execution_count": 77,
   "metadata": {
    "collapsed": true
   },
   "outputs": [],
   "source": [
    "#Добавим отрицательный приоритет в начальный массив"
   ]
  },
  {
   "cell_type": "code",
   "execution_count": 78,
   "metadata": {
    "collapsed": false
   },
   "outputs": [
    {
     "name": "stdout",
     "output_type": "stream",
     "text": [
      "Приоритет задачи jqsg6 должен быть от 0 до 10\n"
     ]
    },
    {
     "ename": "Exception",
     "evalue": "ValueError",
     "output_type": "error",
     "traceback": [
      "\u001b[0;31m---------------------------------------------------------------------------\u001b[0m",
      "\u001b[0;31mException\u001b[0m                                 Traceback (most recent call last)",
      "\u001b[0;32m<ipython-input-78-4d50f5eb75ee>\u001b[0m in \u001b[0;36m<module>\u001b[0;34m()\u001b[0m\n\u001b[1;32m      1\u001b[0m arr = [(4,'GJB'), (-7,'jqsg6'),(8,'UTV#'),(3,'VTDEA'), (5, '#$%'),(1,'qw'),(9, '1900'),(3,'task1'),(10,'go'),(1, 'vbn')\n\u001b[1;32m      2\u001b[0m        , (2,'zxc'),(4,'TYU'),(6,'GHJ'),(8,'78878'),(9, 'nin')]\n\u001b[0;32m----> 3\u001b[0;31m \u001b[0mtq\u001b[0m \u001b[0;34m=\u001b[0m \u001b[0mTaskQueue\u001b[0m\u001b[0;34m(\u001b[0m\u001b[0marr\u001b[0m\u001b[0;34m)\u001b[0m\u001b[0;34m\u001b[0m\u001b[0m\n\u001b[0m",
      "\u001b[0;32m<ipython-input-72-1f91912e29a0>\u001b[0m in \u001b[0;36m__init__\u001b[0;34m(self, tasks)\u001b[0m\n\u001b[1;32m      1\u001b[0m \u001b[0;32mclass\u001b[0m \u001b[0mTaskQueue\u001b[0m\u001b[0;34m:\u001b[0m\u001b[0;34m\u001b[0m\u001b[0m\n\u001b[1;32m      2\u001b[0m     \u001b[0;32mdef\u001b[0m \u001b[0m__init__\u001b[0m\u001b[0;34m(\u001b[0m\u001b[0mself\u001b[0m\u001b[0;34m,\u001b[0m \u001b[0mtasks\u001b[0m\u001b[0;34m:\u001b[0m\u001b[0mlist\u001b[0m\u001b[0;34m)\u001b[0m\u001b[0;34m:\u001b[0m\u001b[0;34m\u001b[0m\u001b[0m\n\u001b[0;32m----> 3\u001b[0;31m         \u001b[0mself\u001b[0m\u001b[0;34m.\u001b[0m\u001b[0m__value_check\u001b[0m\u001b[0;34m(\u001b[0m\u001b[0mtasks\u001b[0m\u001b[0;34m)\u001b[0m\u001b[0;34m\u001b[0m\u001b[0m\n\u001b[0m\u001b[1;32m      4\u001b[0m         \u001b[0mself\u001b[0m\u001b[0;34m.\u001b[0m\u001b[0mtasks\u001b[0m \u001b[0;34m=\u001b[0m \u001b[0mself\u001b[0m\u001b[0;34m.\u001b[0m\u001b[0m__heapsort2\u001b[0m\u001b[0;34m(\u001b[0m\u001b[0mtasks\u001b[0m\u001b[0;34m)\u001b[0m\u001b[0;34m\u001b[0m\u001b[0m\n\u001b[1;32m      5\u001b[0m \u001b[0;34m\u001b[0m\u001b[0m\n",
      "\u001b[0;32m<ipython-input-72-1f91912e29a0>\u001b[0m in \u001b[0;36m__value_check\u001b[0;34m(self, array)\u001b[0m\n\u001b[1;32m      9\u001b[0m             \u001b[0;32mif\u001b[0m \u001b[0;34m(\u001b[0m\u001b[0marray\u001b[0m\u001b[0;34m[\u001b[0m\u001b[0mi\u001b[0m\u001b[0;34m]\u001b[0m\u001b[0;34m[\u001b[0m\u001b[0;36m0\u001b[0m\u001b[0;34m]\u001b[0m \u001b[0;34m<\u001b[0m \u001b[0;36m0\u001b[0m \u001b[0;32mor\u001b[0m \u001b[0marray\u001b[0m\u001b[0;34m[\u001b[0m\u001b[0mi\u001b[0m\u001b[0;34m]\u001b[0m\u001b[0;34m[\u001b[0m\u001b[0;36m0\u001b[0m\u001b[0;34m]\u001b[0m \u001b[0;34m>\u001b[0m \u001b[0;36m10\u001b[0m\u001b[0;34m)\u001b[0m\u001b[0;34m:\u001b[0m\u001b[0;34m\u001b[0m\u001b[0m\n\u001b[1;32m     10\u001b[0m                 \u001b[0mprint\u001b[0m\u001b[0;34m(\u001b[0m\u001b[0;34m'Приоритет задачи'\u001b[0m\u001b[0;34m,\u001b[0m\u001b[0marray\u001b[0m\u001b[0;34m[\u001b[0m\u001b[0mi\u001b[0m\u001b[0;34m]\u001b[0m\u001b[0;34m[\u001b[0m\u001b[0;36m1\u001b[0m\u001b[0;34m]\u001b[0m\u001b[0;34m,\u001b[0m\u001b[0;34m'должен быть от 0 до 10'\u001b[0m\u001b[0;34m)\u001b[0m\u001b[0;34m\u001b[0m\u001b[0m\n\u001b[0;32m---> 11\u001b[0;31m                 \u001b[0;32mraise\u001b[0m \u001b[0mException\u001b[0m\u001b[0;34m(\u001b[0m\u001b[0;34m\"ValueError\"\u001b[0m\u001b[0;34m)\u001b[0m\u001b[0;34m\u001b[0m\u001b[0m\n\u001b[0m\u001b[1;32m     12\u001b[0m \u001b[0;34m\u001b[0m\u001b[0m\n\u001b[1;32m     13\u001b[0m     \u001b[0;31m#модификация heapsort\u001b[0m\u001b[0;34m\u001b[0m\u001b[0;34m\u001b[0m\u001b[0m\n",
      "\u001b[0;31mException\u001b[0m: ValueError"
     ]
    }
   ],
   "source": [
    "arr = [(4,'GJB'), (-7,'jqsg6'),(8,'UTV#'),(3,'VTDEA'), (5, '#$%'),(1,'qw'),(9, '1900'),(3,'task1'),(10,'go'),(1, 'vbn')\n",
    "       , (2,'zxc'),(4,'TYU'),(6,'GHJ'),(8,'78878'),(9, 'nin')]\n",
    "tq = TaskQueue(arr)"
   ]
  },
  {
   "cell_type": "code",
   "execution_count": 79,
   "metadata": {
    "collapsed": false
   },
   "outputs": [
    {
     "name": "stdout",
     "output_type": "stream",
     "text": [
      "Приоритет задачи jqsg6 должен быть от 0 до 10\n"
     ]
    },
    {
     "ename": "Exception",
     "evalue": "ValueError",
     "output_type": "error",
     "traceback": [
      "\u001b[0;31m---------------------------------------------------------------------------\u001b[0m",
      "\u001b[0;31mException\u001b[0m                                 Traceback (most recent call last)",
      "\u001b[0;32m<ipython-input-79-a30e7aae2b8e>\u001b[0m in \u001b[0;36m<module>\u001b[0;34m()\u001b[0m\n\u001b[1;32m      2\u001b[0m arr = [(4,'GJB'), (107,'jqsg6'),(8,'UTV#'),(3,'VTDEA'), (5, '#$%'),(1,'qw'),(9, '1900'),(3,'task1'),(10,'go'),(1, 'vbn')\n\u001b[1;32m      3\u001b[0m        , (2,'zxc'),(4,'TYU'),(6,'GHJ'),(8,'78878'),(9, 'nin')]\n\u001b[0;32m----> 4\u001b[0;31m \u001b[0mtq\u001b[0m \u001b[0;34m=\u001b[0m \u001b[0mTaskQueue\u001b[0m\u001b[0;34m(\u001b[0m\u001b[0marr\u001b[0m\u001b[0;34m)\u001b[0m\u001b[0;34m\u001b[0m\u001b[0m\n\u001b[0m",
      "\u001b[0;32m<ipython-input-72-1f91912e29a0>\u001b[0m in \u001b[0;36m__init__\u001b[0;34m(self, tasks)\u001b[0m\n\u001b[1;32m      1\u001b[0m \u001b[0;32mclass\u001b[0m \u001b[0mTaskQueue\u001b[0m\u001b[0;34m:\u001b[0m\u001b[0;34m\u001b[0m\u001b[0m\n\u001b[1;32m      2\u001b[0m     \u001b[0;32mdef\u001b[0m \u001b[0m__init__\u001b[0m\u001b[0;34m(\u001b[0m\u001b[0mself\u001b[0m\u001b[0;34m,\u001b[0m \u001b[0mtasks\u001b[0m\u001b[0;34m:\u001b[0m\u001b[0mlist\u001b[0m\u001b[0;34m)\u001b[0m\u001b[0;34m:\u001b[0m\u001b[0;34m\u001b[0m\u001b[0m\n\u001b[0;32m----> 3\u001b[0;31m         \u001b[0mself\u001b[0m\u001b[0;34m.\u001b[0m\u001b[0m__value_check\u001b[0m\u001b[0;34m(\u001b[0m\u001b[0mtasks\u001b[0m\u001b[0;34m)\u001b[0m\u001b[0;34m\u001b[0m\u001b[0m\n\u001b[0m\u001b[1;32m      4\u001b[0m         \u001b[0mself\u001b[0m\u001b[0;34m.\u001b[0m\u001b[0mtasks\u001b[0m \u001b[0;34m=\u001b[0m \u001b[0mself\u001b[0m\u001b[0;34m.\u001b[0m\u001b[0m__heapsort2\u001b[0m\u001b[0;34m(\u001b[0m\u001b[0mtasks\u001b[0m\u001b[0;34m)\u001b[0m\u001b[0;34m\u001b[0m\u001b[0m\n\u001b[1;32m      5\u001b[0m \u001b[0;34m\u001b[0m\u001b[0m\n",
      "\u001b[0;32m<ipython-input-72-1f91912e29a0>\u001b[0m in \u001b[0;36m__value_check\u001b[0;34m(self, array)\u001b[0m\n\u001b[1;32m      9\u001b[0m             \u001b[0;32mif\u001b[0m \u001b[0;34m(\u001b[0m\u001b[0marray\u001b[0m\u001b[0;34m[\u001b[0m\u001b[0mi\u001b[0m\u001b[0;34m]\u001b[0m\u001b[0;34m[\u001b[0m\u001b[0;36m0\u001b[0m\u001b[0;34m]\u001b[0m \u001b[0;34m<\u001b[0m \u001b[0;36m0\u001b[0m \u001b[0;32mor\u001b[0m \u001b[0marray\u001b[0m\u001b[0;34m[\u001b[0m\u001b[0mi\u001b[0m\u001b[0;34m]\u001b[0m\u001b[0;34m[\u001b[0m\u001b[0;36m0\u001b[0m\u001b[0;34m]\u001b[0m \u001b[0;34m>\u001b[0m \u001b[0;36m10\u001b[0m\u001b[0;34m)\u001b[0m\u001b[0;34m:\u001b[0m\u001b[0;34m\u001b[0m\u001b[0m\n\u001b[1;32m     10\u001b[0m                 \u001b[0mprint\u001b[0m\u001b[0;34m(\u001b[0m\u001b[0;34m'Приоритет задачи'\u001b[0m\u001b[0;34m,\u001b[0m\u001b[0marray\u001b[0m\u001b[0;34m[\u001b[0m\u001b[0mi\u001b[0m\u001b[0;34m]\u001b[0m\u001b[0;34m[\u001b[0m\u001b[0;36m1\u001b[0m\u001b[0;34m]\u001b[0m\u001b[0;34m,\u001b[0m\u001b[0;34m'должен быть от 0 до 10'\u001b[0m\u001b[0;34m)\u001b[0m\u001b[0;34m\u001b[0m\u001b[0m\n\u001b[0;32m---> 11\u001b[0;31m                 \u001b[0;32mraise\u001b[0m \u001b[0mException\u001b[0m\u001b[0;34m(\u001b[0m\u001b[0;34m\"ValueError\"\u001b[0m\u001b[0;34m)\u001b[0m\u001b[0;34m\u001b[0m\u001b[0m\n\u001b[0m\u001b[1;32m     12\u001b[0m \u001b[0;34m\u001b[0m\u001b[0m\n\u001b[1;32m     13\u001b[0m     \u001b[0;31m#модификация heapsort\u001b[0m\u001b[0;34m\u001b[0m\u001b[0;34m\u001b[0m\u001b[0m\n",
      "\u001b[0;31mException\u001b[0m: ValueError"
     ]
    }
   ],
   "source": [
    "#Добавим приоритет > 10 в начальный массив\n",
    "arr = [(4,'GJB'), (107,'jqsg6'),(8,'UTV#'),(3,'VTDEA'), (5, '#$%'),(1,'qw'),(9, '1900'),(3,'task1'),(10,'go'),(1, 'vbn')\n",
    "       , (2,'zxc'),(4,'TYU'),(6,'GHJ'),(8,'78878'),(9, 'nin')]\n",
    "tq = TaskQueue(arr)"
   ]
  },
  {
   "cell_type": "code",
   "execution_count": null,
   "metadata": {
    "collapsed": true
   },
   "outputs": [],
   "source": []
  }
 ],
 "metadata": {
  "anaconda-cloud": {},
  "kernelspec": {
   "display_name": "Python [conda root]",
   "language": "python",
   "name": "conda-root-py"
  },
  "language_info": {
   "codemirror_mode": {
    "name": "ipython",
    "version": 3
   },
   "file_extension": ".py",
   "mimetype": "text/x-python",
   "name": "python",
   "nbconvert_exporter": "python",
   "pygments_lexer": "ipython3",
   "version": "3.5.3"
  }
 },
 "nbformat": 4,
 "nbformat_minor": 1
}
