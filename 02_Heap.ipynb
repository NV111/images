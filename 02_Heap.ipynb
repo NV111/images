{
 "cells": [
  {
   "cell_type": "code",
   "execution_count": 2,
   "metadata": {
    "collapsed": false
   },
   "outputs": [],
   "source": [
    "def swap(arr, n1, n2):\n",
    "    tmp = arr[n1]\n",
    "    arr[n1] = arr[n2]\n",
    "    arr[n2] = tmp\n",
    "    return arr\n",
    "\n",
    "def find_min_i(arr):\n",
    "        min_number = arr[0]\n",
    "        for i in range(len(arr)):\n",
    "            if (arr[i] < min_number):\n",
    "                min_number = arr[i]\n",
    "        return i\n",
    "\n",
    "def heapify1(arr):\n",
    "    new_arr=list(arr)\n",
    "    min_i = find_min_i(new_arr)\n",
    "    if (min_i):\n",
    "        new_arr = swap(new_arr, 0, min_i)\n",
    "    for i in range(len(new_arr)):\n",
    "        if (2 * i < len(new_arr)):\n",
    "            if (new_arr[i] > new_arr[2 * i]):\n",
    "                new_arr = swap(new_arr, i, 2 * i)\n",
    "        if (2 * i + 1 < len(new_arr)):\n",
    "            if (new_arr[i] > new_arr[2 * i + 1]):\n",
    "                new_arr = swap(new_arr, i, 2 * i + 1)\n",
    "    return new_arr\n",
    "\n",
    "def insert_space(str_num):\n",
    "    str1 = ''\n",
    "    for i in range(str_num):\n",
    "        str1+=' '\n",
    "    return str1\n",
    "\n",
    "class Node:\n",
    "    def __init__(self, element, parent, child):\n",
    "        if (element < parent):\n",
    "            self.element = element\n",
    "            self.parent = parent\n",
    "\n",
    "class Heap:\n",
    "    def __init__(self, arr: list):\n",
    "        self.heap = heapify1(arr)\n",
    "        self.__len__ = self.__len__()\n",
    "\n",
    "        \n",
    "\n",
    "    def __getitem__(self, key: int) -> int:\n",
    "        pass\n",
    "\n",
    "    def __repr__(self) -> str:\n",
    "        str1 = ''\n",
    "        for i in range(self.__len__):\n",
    "            str1+=insert_space(int(2**(self.__len__-i-1)))\n",
    "            for j in range(int(2**i)-1,int(2**(i+1)-1)):\n",
    "                if (j < len(self.heap)):\n",
    "                    str1+=str(self.heap[j])\n",
    "                    str1+=insert_space(int(2**(self.__len__-i)))\n",
    "            str1+='\\n'\n",
    "        return str1\n",
    "    \n",
    "    def __iter__(self) -> object:\n",
    "        i = 0\n",
    "        return self\n",
    "\n",
    "    def __next__(self) -> int:\n",
    "        try:\n",
    "            i+=1\n",
    "            return self.heap[i]\n",
    "        except IndexError:\n",
    "            raise StopIteration\n",
    "\n",
    "    def __len__(self) -> int:\n",
    "        k = 1\n",
    "        while(len(self.heap) > 2**k):\n",
    "            k += 1\n",
    "        return k\n",
    "\n",
    "    def __str__(self) -> str:\n",
    "        str1 = ''\n",
    "        for i in range(self.__len__):\n",
    "            str1+=insert_space(int(2**(self.__len__-i-1)))\n",
    "            for j in range(int(2**i)-1,int(2**(i+1)-1)):\n",
    "                if (j < len(self.heap)):\n",
    "                    str1+=str(self.heap[j])\n",
    "                    str1+=insert_space(int(2**(self.__len__-i)))\n",
    "            str1+='\\n'\n",
    "        return str1    \n",
    "        #      return str(self.heap)\n",
    "#        return \"%s\" % (self.__len__)\n",
    "\n",
    "    def __heapify(self, idx: int):\n",
    "        pass\n",
    "\n",
    "    def add(self, elem: int):\n",
    "        pass\n",
    "\n",
    "    def pop(self) -> int:\n",
    "        pass "
   ]
  },
  {
   "cell_type": "code",
   "execution_count": 4,
   "metadata": {
    "collapsed": false
   },
   "outputs": [
    {
     "name": "stdout",
     "output_type": "stream",
     "text": [
      "[1, 3, 1, 7, 4, 5, 9, 33, 23, 8]\n",
      "        1                \n",
      "    3        1        \n",
      "  7    4    5    9    \n",
      " 33  23  8  \n",
      "\n",
      "        1                \n",
      "    3        1        \n",
      "  7    4    5    9    \n",
      " 33  23  8  \n",
      "\n"
     ]
    }
   ],
   "source": [
    "arr = [4, 7,8,3, 5,1,9,33,23,1]\n",
    "print(heapify1(arr))\n",
    "\n",
    "h = Heap(arr)\n",
    "\n",
    "print(h)\n",
    "print(str(h))"
   ]
  },
  {
   "cell_type": "code",
   "execution_count": null,
   "metadata": {
    "collapsed": true
   },
   "outputs": [],
   "source": []
  },
  {
   "cell_type": "code",
   "execution_count": null,
   "metadata": {
    "collapsed": true
   },
   "outputs": [],
   "source": []
  }
 ],
 "metadata": {
  "anaconda-cloud": {},
  "kernelspec": {
   "display_name": "Python [conda root]",
   "language": "python",
   "name": "conda-root-py"
  },
  "language_info": {
   "codemirror_mode": {
    "name": "ipython",
    "version": 3
   },
   "file_extension": ".py",
   "mimetype": "text/x-python",
   "name": "python",
   "nbconvert_exporter": "python",
   "pygments_lexer": "ipython3",
   "version": "3.5.3"
  }
 },
 "nbformat": 4,
 "nbformat_minor": 1
}
