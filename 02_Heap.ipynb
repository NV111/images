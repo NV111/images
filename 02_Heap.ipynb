{
 "cells": [
  {
   "cell_type": "code",
   "execution_count": 103,
   "metadata": {
    "collapsed": false
   },
   "outputs": [],
   "source": [
    "def insert_space(str_num):\n",
    "    str1 = ''\n",
    "    for i in range(str_num):\n",
    "        str1+=' '\n",
    "    return str1\n",
    "\n",
    "\n",
    "class Heap:\n",
    "    def __init__(self, arr: list):\n",
    "        self.heap = arr\n",
    "        self.length = self.__len__()\n",
    "        for k in range(len(self.heap)):\n",
    "#            print('heap',type(self.heap), self.heap)\n",
    "            self.__heapify(len(self.heap)-k-1)\n",
    "            print('k=',k)\n",
    "\n",
    "    def __getitem__(self, key: int) -> int:\n",
    "        pass\n",
    "\n",
    "    def __repr__(self) -> str:\n",
    "        str1 = ''\n",
    "        for i in range(self.length):\n",
    "            str1+=insert_space(int(2**(self.length-i-1)))\n",
    "            for j in range(int(2**i)-1,int(2**(i+1)-1)):\n",
    "                if (j < len(self.heap)):\n",
    "                    str1+=str(self.heap[j])\n",
    "                    str1+=insert_space(int(2**(self.length-i)))\n",
    "            str1+='\\n'\n",
    "        return str1\n",
    "    \n",
    "    def __iter__(self) -> object:\n",
    "        i = 0\n",
    "        return self\n",
    "\n",
    "    def __next__(self) -> int:\n",
    "        try:\n",
    "            i+=1\n",
    "            return self.heap[i]\n",
    "        except IndexError:\n",
    "            raise StopIteration\n",
    "\n",
    "    def __len__(self) -> int:\n",
    "        k = 1\n",
    "        while(len(self.heap) > 2**k):\n",
    "            k += 1\n",
    "        return k\n",
    "\n",
    "    def __str__(self) -> str:\n",
    "        return str(self.heap)\n",
    "\n",
    "\n",
    "    def __swap(self, idx1, idx2):\n",
    "        tmp = self.heap[idx1]\n",
    "        self.heap[idx1] = self.heap[idx2]\n",
    "        self.heap[idx2] = tmp\n",
    "        return self.heap\n",
    "\n",
    "    def __find_min_idx(self, idx1:int, idx2:int):\n",
    "        min_number = self.heap[idx1]\n",
    "#        print('min', min_number)\n",
    "        if (self.heap[idx2] < min_number):\n",
    "            min_number = self.heap[idx2]\n",
    "            return idx2\n",
    "        else:\n",
    "            return idx1\n",
    "        \n",
    "    def __heapify(self, idx: int):\n",
    "        if ((2 * idx +1 < len(self.heap)) and (2 * idx + 2 >= len(self.heap))):\n",
    "            if (self.heap[idx] > self.heap[2 * idx+1]):\n",
    "                self.heap = self.__swap(idx, 2 * idx+1)\n",
    "                self.__heapify(2 * idx+1)\n",
    "        elif ((2 * idx+1 < len(self.heap)) and (2 * idx + 2 < len(self.heap))):\n",
    "            min_idx = self.__find_min_idx(2 * idx+1, 2 * idx + 2)\n",
    "            if (self.heap[idx] > self.heap[min_idx]):\n",
    "                self.heap = self.__swap(idx, min_idx)        \n",
    "                self.__heapify(min_idx)\n",
    "        else:\n",
    "            pass\n",
    "    \n",
    "\n",
    "        \n",
    "    def add(self, elem: int):\n",
    "        pass\n",
    "\n",
    "    def pop(self) -> int:\n",
    "        pass "
   ]
  },
  {
   "cell_type": "code",
   "execution_count": 104,
   "metadata": {
    "collapsed": false
   },
   "outputs": [
    {
     "name": "stdout",
     "output_type": "stream",
     "text": [
      "[4, 7, 8, 3, 5, 1, 9, 33, 23, 1, 2, 45, 6, 8, 9]\n",
      "k= 0\n",
      "k= 1\n",
      "k= 2\n",
      "k= 3\n",
      "k= 4\n",
      "k= 5\n",
      "k= 6\n",
      "k= 7\n",
      "k= 8\n",
      "k= 9\n",
      "k= 10\n",
      "k= 11\n",
      "k= 12\n",
      "k= 13\n",
      "k= 14\n",
      "        1                \n",
      "    2        1        \n",
      "  3    4    6    8    \n",
      " 33  23  5  7  45  8  9  9  \n",
      "\n",
      "[1, 2, 1, 3, 4, 6, 8, 33, 23, 5, 7, 45, 8, 9, 9]\n"
     ]
    }
   ],
   "source": [
    "arr = [4, 7,8,3, 5,1,9,33,23,1, 2,45,6,8,9]\n",
    "print(arr)\n",
    "\n",
    "h = Heap(arr)\n",
    "\n",
    "print(repr(h))\n",
    "print(str(h))"
   ]
  },
  {
   "cell_type": "code",
   "execution_count": null,
   "metadata": {
    "collapsed": true
   },
   "outputs": [],
   "source": []
  },
  {
   "cell_type": "code",
   "execution_count": null,
   "metadata": {
    "collapsed": true
   },
   "outputs": [],
   "source": []
  }
 ],
 "metadata": {
  "anaconda-cloud": {},
  "kernelspec": {
   "display_name": "Python [conda root]",
   "language": "python",
   "name": "conda-root-py"
  },
  "language_info": {
   "codemirror_mode": {
    "name": "ipython",
    "version": 3
   },
   "file_extension": ".py",
   "mimetype": "text/x-python",
   "name": "python",
   "nbconvert_exporter": "python",
   "pygments_lexer": "ipython3",
   "version": "3.5.3"
  }
 },
 "nbformat": 4,
 "nbformat_minor": 1
}
