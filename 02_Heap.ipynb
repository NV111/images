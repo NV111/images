{
 "cells": [
  {
   "cell_type": "code",
   "execution_count": 146,
   "metadata": {
    "collapsed": false
   },
   "outputs": [],
   "source": [
    "class Heap:\n",
    "    def __init__(self, arr: list):\n",
    "        self.heap = arr\n",
    "        self.length = self.__len__()\n",
    "        self.ii = 0\n",
    "        self.dic = {}\n",
    "        for k in range(len(self.heap)):\n",
    "            self.__heapify(len(self.heap)-k-1)\n",
    "        \n",
    "        for k in range(len(self.heap)):\n",
    "            self.dic[k] = self.heap[k]  \n",
    "\n",
    "    def __getitem__(self, key: int) -> int:\n",
    "        return self.dic[key]\n",
    "\n",
    "    def __insert_space(self, str_num):\n",
    "        str1 = ''\n",
    "        for i in range(str_num):\n",
    "            str1+=' '\n",
    "        return str1\n",
    "\n",
    "    def __repr__(self) -> str:\n",
    "        str1 = ''\n",
    "        for i in range(self.length):\n",
    "            str1+=self.__insert_space(int(2**(self.length-i-1)))\n",
    "            for j in range(int(2**i)-1,int(2**(i+1)-1)):\n",
    "                if (j < len(self.heap)):\n",
    "                    str1+=str(self.heap[j])\n",
    "                    str1+=self.__insert_space(int(2**(self.length-i)))\n",
    "            str1+='\\n'\n",
    "        return str1\n",
    "    \n",
    "    def __iter__(self) -> object:\n",
    "        self.ii = 0\n",
    "        return self\n",
    "\n",
    "    def __next__(self) -> int:\n",
    "        try:\n",
    "            self.ii+=1\n",
    "            return self.heap[self.ii-1]\n",
    "        except IndexError:\n",
    "            raise StopIteration\n",
    "\n",
    "    def __len__(self) -> int:\n",
    "        k = 1\n",
    "        while(len(self.heap) > 2**k):\n",
    "            k += 1\n",
    "        return k\n",
    "\n",
    "    def __str__(self) -> str:\n",
    "        return str(self.heap)\n",
    "\n",
    "\n",
    "    def __swap(self, idx1, idx2):\n",
    "        tmp = self.heap[idx1]\n",
    "        self.heap[idx1] = self.heap[idx2]\n",
    "        self.heap[idx2] = tmp\n",
    "        return self.heap\n",
    "\n",
    "    def __find_min_idx(self, idx1:int, idx2:int):\n",
    "        min_number = self.heap[idx1]\n",
    "        if (self.heap[idx2] < min_number):\n",
    "            min_number = self.heap[idx2]\n",
    "            return idx2\n",
    "        else:\n",
    "            return idx1\n",
    "        \n",
    "    def __heapify(self, idx: int):\n",
    "        if ((2 * idx +1 < len(self.heap)) and (2 * idx + 2 >= len(self.heap))):\n",
    "            if (self.heap[idx] > self.heap[2 * idx+1]):\n",
    "                self.heap = self.__swap(idx, 2 * idx+1)\n",
    "                self.__heapify(2 * idx+1)\n",
    "        elif ((2 * idx+1 < len(self.heap)) and (2 * idx + 2 < len(self.heap))):\n",
    "            min_idx = self.__find_min_idx(2 * idx+1, 2 * idx + 2)\n",
    "            if (self.heap[idx] > self.heap[min_idx]):\n",
    "                self.heap = self.__swap(idx, min_idx)        \n",
    "                self.__heapify(min_idx)\n",
    "\n",
    "    \n",
    "    def add(self, elem: int):\n",
    "        self.heap.append(elem)\n",
    "        for k in range(len(self.heap)):\n",
    "            self.__heapify(len(self.heap)-k-1)\n",
    "        \n",
    "        for k in range(len(self.heap)):\n",
    "            self.dic[k] = self.heap[k] \n",
    "\n",
    "    def pop(self) -> int:\n",
    "        p = self.heap.pop(0)\n",
    "        for k in range(len(self.heap)):\n",
    "            self.__heapify(len(self.heap)-k-1)\n",
    "        \n",
    "        for k in range(len(self.heap)):\n",
    "            self.dic[k] = self.heap[k]  \n",
    "        return p"
   ]
  },
  {
   "cell_type": "code",
   "execution_count": 147,
   "metadata": {
    "collapsed": false,
    "scrolled": true
   },
   "outputs": [
    {
     "name": "stdout",
     "output_type": "stream",
     "text": [
      "[4, 7, 8, 3, 5, 1, 9, 33, 23, 1, 2, 45, 6, 8, 9]\n"
     ]
    }
   ],
   "source": [
    "arr = [4, 7,8,3, 5,1,9,33,23,1, 2,45,6,8,9]\n",
    "print(arr)\n",
    "\n",
    "h = Heap(arr)"
   ]
  },
  {
   "cell_type": "code",
   "execution_count": 148,
   "metadata": {
    "collapsed": false
   },
   "outputs": [
    {
     "name": "stdout",
     "output_type": "stream",
     "text": [
      "        1                \n",
      "    2        1        \n",
      "  3    4    6    8    \n",
      " 33  23  5  7  45  8  9  9  \n",
      "\n",
      "[1, 2, 1, 3, 4, 6, 8, 33, 23, 5, 7, 45, 8, 9, 9]\n"
     ]
    }
   ],
   "source": [
    "print(repr(h))\n",
    "print(str(h))"
   ]
  },
  {
   "cell_type": "code",
   "execution_count": 149,
   "metadata": {
    "collapsed": false
   },
   "outputs": [
    {
     "name": "stdout",
     "output_type": "stream",
     "text": [
      "6\n"
     ]
    }
   ],
   "source": [
    "print(h[5])"
   ]
  },
  {
   "cell_type": "code",
   "execution_count": 150,
   "metadata": {
    "collapsed": false
   },
   "outputs": [
    {
     "name": "stdout",
     "output_type": "stream",
     "text": [
      "1\n",
      "        1                \n",
      "    2        3        \n",
      "  4    6    8    9    \n",
      " 23  5  7  45  8  9  33  \n",
      "\n"
     ]
    }
   ],
   "source": [
    "print(h.pop())\n",
    "print(repr(h))"
   ]
  },
  {
   "cell_type": "code",
   "execution_count": 151,
   "metadata": {
    "collapsed": false
   },
   "outputs": [
    {
     "name": "stdout",
     "output_type": "stream",
     "text": [
      "        0                \n",
      "    2        1        \n",
      "  4    6    8    3    \n",
      " 23  5  7  45  8  9  33  9  \n",
      "\n"
     ]
    }
   ],
   "source": [
    "h.add(0)\n",
    "print(repr(h))"
   ]
  },
  {
   "cell_type": "code",
   "execution_count": 152,
   "metadata": {
    "collapsed": false
   },
   "outputs": [
    {
     "name": "stdout",
     "output_type": "stream",
     "text": [
      "0\n",
      "2\n",
      "1\n",
      "4\n",
      "6\n",
      "8\n",
      "3\n",
      "23\n",
      "5\n",
      "7\n",
      "45\n",
      "8\n",
      "9\n",
      "33\n",
      "9\n"
     ]
    }
   ],
   "source": [
    "for element in h:\n",
    "    print(element)"
   ]
  },
  {
   "cell_type": "code",
   "execution_count": 153,
   "metadata": {
    "collapsed": false
   },
   "outputs": [
    {
     "name": "stdout",
     "output_type": "stream",
     "text": [
      "4\n"
     ]
    }
   ],
   "source": [
    "print(len(h))"
   ]
  },
  {
   "cell_type": "code",
   "execution_count": 158,
   "metadata": {
    "collapsed": true
   },
   "outputs": [],
   "source": [
    "def heapsort(array: list) -> list:\n",
    "    new_heap = Heap(array)\n",
    "    new_array = [0]*len(array)\n",
    "    for i in range(len(array)):\n",
    "        new_array[i] = new_heap.pop()\n",
    "    return new_array\n",
    "    "
   ]
  },
  {
   "cell_type": "code",
   "execution_count": 159,
   "metadata": {
    "collapsed": false
   },
   "outputs": [
    {
     "name": "stdout",
     "output_type": "stream",
     "text": [
      "[-7, 0, 0, 3, 4, 4, 5, 7, 7, 8, 9, 56, 98]\n"
     ]
    }
   ],
   "source": [
    "arr1 = [7,4,7,3,5,8,0,-7,56,4,98,9,0]\n",
    "print(heapsort(arr1))"
   ]
  },
  {
   "cell_type": "code",
   "execution_count": null,
   "metadata": {
    "collapsed": true
   },
   "outputs": [],
   "source": []
  }
 ],
 "metadata": {
  "anaconda-cloud": {},
  "kernelspec": {
   "display_name": "Python [conda root]",
   "language": "python",
   "name": "conda-root-py"
  },
  "language_info": {
   "codemirror_mode": {
    "name": "ipython",
    "version": 3
   },
   "file_extension": ".py",
   "mimetype": "text/x-python",
   "name": "python",
   "nbconvert_exporter": "python",
   "pygments_lexer": "ipython3",
   "version": "3.5.3"
  }
 },
 "nbformat": 4,
 "nbformat_minor": 1
}
