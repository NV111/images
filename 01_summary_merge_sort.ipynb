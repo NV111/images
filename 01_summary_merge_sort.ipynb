{
 "cells": [
  {
   "cell_type": "code",
   "execution_count": 40,
   "metadata": {
    "collapsed": true
   },
   "outputs": [],
   "source": [
    "#summary принимает на вход list of numbers, возвращает str с указанием min, max, mean поданного массива"
   ]
  },
  {
   "cell_type": "code",
   "execution_count": 12,
   "metadata": {
    "collapsed": false
   },
   "outputs": [],
   "source": [
    "def summary(mass_of_numbers):\n",
    "    max_number = mass_of_numbers[0]\n",
    "    min_number = mass_of_numbers[0]\n",
    "    summ = 0\n",
    "    for number in mass_of_numbers:\n",
    "        if (number >= max_number):\n",
    "            max_number = number\n",
    "        if (number <= min_number):\n",
    "            min_number = number\n",
    "        summ += number\n",
    "    mean = summ/len(mass_of_numbers)\n",
    "#    return('min: '+str(min_number)+';\\n'+'max: '+str(max_number)+';\\n'+'mean: '+str(mean)+'.')\n",
    "    return('min: %(min)f;\\nmax: %(max)f;\\nmean: %(mean)f.'%{'min':min_number, 'max':max_number, 'mean':mean})\n",
    "#gtределать на format"
   ]
  },
  {
   "cell_type": "code",
   "execution_count": 13,
   "metadata": {
    "collapsed": false
   },
   "outputs": [
    {
     "name": "stdout",
     "output_type": "stream",
     "text": [
      "min: -46.000000;\n",
      "max: 108.000000;\n",
      "mean: 9.625000.\n"
     ]
    }
   ],
   "source": [
    "mass = [2,17,10,0,7,-5,4,108,-46,-0.75]\n",
    "print(summary(mass))"
   ]
  },
  {
   "cell_type": "code",
   "execution_count": null,
   "metadata": {
    "collapsed": true
   },
   "outputs": [],
   "source": [
    "#merge соединяет два list mass1 и mass2 в один, возвращает его"
   ]
  },
  {
   "cell_type": "code",
   "execution_count": 37,
   "metadata": {
    "collapsed": true
   },
   "outputs": [],
   "source": [
    "def merge(mass1, mass2):\n",
    "    len1 = len(mass1)\n",
    "    len2 = len(mass2)\n",
    "    #будем присоединять к большему массиву меньший\n",
    "    if (len1 >= len2):\n",
    "        for element in mass2:\n",
    "            mass1.append(element)\n",
    "        return mass1\n",
    "    else:\n",
    "        for element in mass1:\n",
    "            mass2.append(element)\n",
    "        return mass2"
   ]
  },
  {
   "cell_type": "code",
   "execution_count": 38,
   "metadata": {
    "collapsed": false
   },
   "outputs": [
    {
     "name": "stdout",
     "output_type": "stream",
     "text": [
      "[2, 17, 10, 0, 7, -5, 4, 108, -46, -0.75, 0, 5]\n"
     ]
    }
   ],
   "source": [
    "mass2 = [0,5]\n",
    "mass = [2,17,10,0,7,-5,4,108,-46,-0.75]\n",
    "print(merge(mass, mass2))"
   ]
  },
  {
   "cell_type": "code",
   "execution_count": null,
   "metadata": {
    "collapsed": true
   },
   "outputs": [],
   "source": [
    "#сортировка слиянием"
   ]
  },
  {
   "cell_type": "code",
   "execution_count": 5,
   "metadata": {
    "collapsed": false
   },
   "outputs": [],
   "source": [
    "def merge_sort(mass_of_numbers):\n",
    "    if (len(mass_of_numbers) <= 1):\n",
    "        return mass_of_numbers\n",
    "    ll = len(mass_of_numbers)\n",
    "    print(ll)\n",
    "    mass_sorted = []\n",
    "    half = int(ll / 2)\n",
    "    #рекурсивный вызов\n",
    "    mass_1 = merge_sort(mass_of_numbers[half:])\n",
    "    mass_2 = merge_sort(mass_of_numbers[:half])\n",
    "    while (len(mass_1) > 0 and len(mass_2) > 0):\n",
    "        if (mass_1[0] > mass_2[0]):\n",
    "            mass_sorted.append(mass_2.pop(0))\n",
    "#            mass_2.pop(0)\n",
    "        else:\n",
    "            mass_sorted.append(mass_1.pop(0))\n",
    "#            mass_1.pop(0)\n",
    "    #mass_sorted.extend(mass_1)\n",
    "    #mass_sorted.extend(mass_2)\n",
    "    #добавление в конец массива\n",
    "    mass_sorted += mass_1\n",
    "    mass_sorted += mass_2\n",
    "    return mass_sorted"
   ]
  },
  {
   "cell_type": "code",
   "execution_count": 14,
   "metadata": {
    "collapsed": false
   },
   "outputs": [
    {
     "name": "stdout",
     "output_type": "stream",
     "text": [
      "10\n",
      "5\n",
      "3\n",
      "2\n",
      "2\n",
      "5\n",
      "3\n",
      "2\n",
      "2\n"
     ]
    },
    {
     "data": {
      "text/plain": [
       "[-255, -46, -5, -0.75, 2, 4, 7, 10, 17, 108]"
      ]
     },
     "execution_count": 14,
     "metadata": {},
     "output_type": "execute_result"
    }
   ],
   "source": [
    "mass = [2,17,10,7,-5,4,108,-255,-46,-0.75]\n",
    "merge_sort(mass)"
   ]
  },
  {
   "cell_type": "code",
   "execution_count": null,
   "metadata": {
    "collapsed": true
   },
   "outputs": [],
   "source": []
  }
 ],
 "metadata": {
  "anaconda-cloud": {},
  "kernelspec": {
   "display_name": "Python [conda root]",
   "language": "python",
   "name": "conda-root-py"
  },
  "language_info": {
   "codemirror_mode": {
    "name": "ipython",
    "version": 3
   },
   "file_extension": ".py",
   "mimetype": "text/x-python",
   "name": "python",
   "nbconvert_exporter": "python",
   "pygments_lexer": "ipython3",
   "version": "3.5.3"
  }
 },
 "nbformat": 4,
 "nbformat_minor": 1
}
