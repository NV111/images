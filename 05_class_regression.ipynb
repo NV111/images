{
 "cells": [
  {
   "cell_type": "code",
   "execution_count": 1,
   "metadata": {
    "collapsed": true
   },
   "outputs": [],
   "source": [
    "import numpy as np"
   ]
  },
  {
   "cell_type": "code",
   "execution_count": 83,
   "metadata": {
    "collapsed": false
   },
   "outputs": [],
   "source": [
    "class LinearRegression:\n",
    "    def __init__(self, alpha: float, l0: float, l1: float, l2: float, \n",
    "                 stop_iter: float, stop_delta: float, verbose: bool, model: object):\n",
    "        '''\n",
    "        Linerar Regression object constructor\n",
    "        \n",
    "        :param alpha: alpha param for gradient descent\n",
    "        :param l0: L0 regularization coefficient\n",
    "        :param l1: L1 regularization coefficient\n",
    "        :param l2: L2 regularization coefficient\n",
    "        :param stop_iter: maximum iterations of traing\n",
    "        :param stop_delta: stop iteration delta\n",
    "        :param verbose: show verbose information\n",
    "        :param model: get params from other model\n",
    "        '''\n",
    "        if (model == None):\n",
    "            self.alpha = alpha\n",
    "            self.l0 = l0\n",
    "            self.l1 = l1\n",
    "            self.l2 = l2\n",
    "            self.stop_iter = stop_iter\n",
    "            self.stop_delta = stop_delta\n",
    "            self.verbose = verbose\n",
    "            self.model = model\n",
    "        else:            \n",
    "            self.alpha = model['alpha']\n",
    "            self.l0 = model['l0']\n",
    "            self.l1 = model['l1']\n",
    "            self.l2 = model['l2']\n",
    "            self.stop_iter = model['stop_iter']\n",
    "            self.stop_delta = model['stop_delta']\n",
    "            self.verbose = model['verbose']\n",
    "    \n",
    "    def train(self, X: np.array, y: np.array, warm_start: bool):\n",
    "        '''\n",
    "        Fit Linear Regression params\n",
    "        \n",
    "        :param X: training data\n",
    "        :param y: training ansewers\n",
    "        :param warm_start: must be set True to continue training, false to reset params\n",
    "        '''\n",
    "        if (warm_start == False):\n",
    "            self.X = X\n",
    "            self.y = y\n",
    "            self.w = np.random.rand(len(self.X[0]))\n",
    "            self.iteration = 0\n",
    "            \n",
    "        for j in range(self.iteration, int(self.stop_iter)):\n",
    "            grad = 2*self.X.T.dot(self.X.dot(self.w.T)-self.y)/len(self.y)\n",
    "            self.w = self.w - self.alpha*grad\n",
    "            j += 1\n",
    "            self.iteration = j\n",
    "            if (self.verbose == True):\n",
    "                if (j % 10000 == 0):\n",
    "                    print('iteration = ', j, 'vect=', self.w, 'grad=', grad)\n",
    "            if(np.linalg.norm(grad) < self.stop_delta):\n",
    "                break\n",
    "            \n",
    "    \n",
    "    def get_params(self) -> dict:\n",
    "        '''\n",
    "        Return model params\n",
    "        \n",
    "        :return: dict of model params\n",
    "        '''\n",
    "        dict_params = {}\n",
    "        dict_params['alpha'] = self.alpha\n",
    "        dict_params['l0'] = self.l0\n",
    "        dict_params['l1'] = self.l1\n",
    "        dict_params['l2'] = self.l2\n",
    "        dict_params['stop_iter'] = self.stop_iter\n",
    "        dict_params['stop_delta'] = self.stop_delta\n",
    "        dict_params['verbose'] = self.verbose\n",
    "        dict_params['model'] = self.model\n",
    "        return dict_params\n",
    "    \n",
    "    def predict(self, X: np.array) -> np.array:\n",
    "        '''\n",
    "        Predit answers on given data\n",
    "        \n",
    "        :param X: data\n",
    "        :return: predicted answers\n",
    "        '''\n",
    "        return X.dot(self.w.T)\n",
    "    \n",
    "    def test(self, X: np.array, y: np.array, metric=None) -> float:\n",
    "        '''\n",
    "        Test the model\n",
    "        \n",
    "        :param X: test data\n",
    "        :param y: test answers\n",
    "        :param metric: must be a function of 2 numpy arrays. If None, MSE is used.\n",
    "        :return: metric value\n",
    "        '''\n",
    "        pass"
   ]
  },
  {
   "cell_type": "code",
   "execution_count": 84,
   "metadata": {
    "collapsed": true
   },
   "outputs": [],
   "source": [
    "lr = LinearRegression(alpha=1e-4, l0=0., l1=0., l2=0., stop_iter=1e6, stop_delta=1e-6, verbose=False, model=None)"
   ]
  },
  {
   "cell_type": "code",
   "execution_count": 85,
   "metadata": {
    "collapsed": true
   },
   "outputs": [],
   "source": [
    "x_linear = np.array([[1,1],\n",
    "                    [1,2],\n",
    "                    [1,4],\n",
    "                    [1,9],\n",
    "                    [1,-10]])\n",
    "y_linear = np.array([8,9,4, 1, 100])"
   ]
  },
  {
   "cell_type": "code",
   "execution_count": 86,
   "metadata": {
    "collapsed": false
   },
   "outputs": [
    {
     "name": "stdout",
     "output_type": "stream",
     "text": [
      "iteration =  10000 vect= [ 26.68315391  -5.48734878] grad= [-8.60498742  0.26183817]\n",
      "iteration =  20000 vect= [ 30.49795717  -5.60342811] grad= [-1.25255448  0.03811355]\n",
      "iteration =  30000 vect= [ 31.05324548  -5.62032478] grad= [-0.18232365  0.00554786]\n",
      "iteration =  40000 vect= [ 31.13407405  -5.62278429] grad= [-0.0265393   0.00080756]\n",
      "iteration =  50000 vect= [ 31.14583958  -5.6231423 ] grad= [-0.0038631   0.00011755]\n",
      "iteration =  60000 vect= [ 31.14755218  -5.62319441] grad= [ -5.62318229e-04   1.71105860e-05]\n",
      "iteration =  70000 vect= [ 31.14780147  -5.62320199] grad= [ -8.18518590e-05   2.49064170e-06]\n",
      "iteration =  80000 vect= [ 31.14783776  -5.6232031 ] grad= [ -1.19144756e-05   3.62541113e-07]\n",
      "iteration =  90000 vect= [ 31.14784304  -5.62320326] grad= [ -1.73428836e-06   5.27720033e-08]\n"
     ]
    }
   ],
   "source": [
    "lr.verbose = True\n",
    "lr.train(X=x_linear, y=y_linear, warm_start=False)"
   ]
  },
  {
   "cell_type": "code",
   "execution_count": 87,
   "metadata": {
    "collapsed": false
   },
   "outputs": [
    {
     "data": {
      "text/plain": [
       "{'alpha': 0.0001,\n",
       " 'l0': 0.0,\n",
       " 'l1': 0.0,\n",
       " 'l2': 0.0,\n",
       " 'model': None,\n",
       " 'stop_delta': 1e-06,\n",
       " 'stop_iter': 1000000.0,\n",
       " 'verbose': True}"
      ]
     },
     "execution_count": 87,
     "metadata": {},
     "output_type": "execute_result"
    }
   ],
   "source": [
    "lr.get_params()"
   ]
  },
  {
   "cell_type": "code",
   "execution_count": 88,
   "metadata": {
    "collapsed": false
   },
   "outputs": [],
   "source": [
    "lr2=LinearRegression(**lr.get_params())"
   ]
  },
  {
   "cell_type": "code",
   "execution_count": 92,
   "metadata": {
    "collapsed": false
   },
   "outputs": [
    {
     "data": {
      "text/plain": [
       "array([  3.03182708,  19.90143688,   3.03182708,  -8.21457946,  36.77104669])"
      ]
     },
     "execution_count": 92,
     "metadata": {},
     "output_type": "execute_result"
    }
   ],
   "source": [
    "x2_linear = np.array([[1,5],\n",
    "                    [1,2],\n",
    "                    [1,5],\n",
    "                    [1,7],\n",
    "                    [1,-1]])\n",
    "\n",
    "lr.predict(x2_linear)"
   ]
  },
  {
   "cell_type": "code",
   "execution_count": null,
   "metadata": {
    "collapsed": false
   },
   "outputs": [],
   "source": []
  },
  {
   "cell_type": "code",
   "execution_count": null,
   "metadata": {
    "collapsed": true
   },
   "outputs": [],
   "source": []
  },
  {
   "cell_type": "code",
   "execution_count": null,
   "metadata": {
    "collapsed": true
   },
   "outputs": [],
   "source": []
  }
 ],
 "metadata": {
  "anaconda-cloud": {},
  "kernelspec": {
   "display_name": "Python [conda root]",
   "language": "python",
   "name": "conda-root-py"
  },
  "language_info": {
   "codemirror_mode": {
    "name": "ipython",
    "version": 3
   },
   "file_extension": ".py",
   "mimetype": "text/x-python",
   "name": "python",
   "nbconvert_exporter": "python",
   "pygments_lexer": "ipython3",
   "version": "3.5.3"
  }
 },
 "nbformat": 4,
 "nbformat_minor": 1
}
