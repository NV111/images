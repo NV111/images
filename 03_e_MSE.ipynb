{
 "cells": [
  {
   "cell_type": "code",
   "execution_count": 14,
   "metadata": {
    "collapsed": true
   },
   "outputs": [],
   "source": [
    "def find_max_abs(Z):\n",
    "    ZZ = []\n",
    "    for i in range(len(Z)):\n",
    "        ZZ.append(abs(Z[i]))\n",
    "    return max(ZZ)\n",
    "\n",
    "#y = 1/(1+e^(kx+b))\n",
    "def func(k, b, x):\n",
    "    return 1/(1+np.exp(k*x+b))"
   ]
  },
  {
   "cell_type": "code",
   "execution_count": 47,
   "metadata": {
    "collapsed": true
   },
   "outputs": [],
   "source": [
    "def find_MSE(X, Y):\n",
    "\n",
    "    x = np.array(X)\n",
    "    y = np.array(Y)\n",
    "    #начальный прогноз\n",
    "    k1 = -1.0\n",
    "    b1 = -1.0\n",
    "    #y = 1/(1+e^(kx+b))\n",
    "    \n",
    "    #шаг\n",
    "    alpha = 0.01\n",
    "    #погрешность\n",
    "    e = 1e-3\n",
    " \n",
    "    vect= np.array([k1, b1])\n",
    "    \n",
    "    def df_dk(x_i, vect):\n",
    "        return x_i*np.exp(vect[0]*x_i+vect[1])*(-func(vect[0], vect[1], x_i)**2)\n",
    "    def df_db(x_i, vect):\n",
    "        return np.exp(vect[0]*x_i+vect[1])*(-func(vect[0], vect[1], x_i)**2)\n",
    "    def dMSE_df(x_i, y_i, vect):\n",
    "        return func(vect[0], vect[1], x[i])-y[i]\n",
    "    \n",
    "    for i in range(len(x)):\n",
    "        grad_MSE = np.array([0.0,0.0])\n",
    "        grad_k = dMSE_df(x[i], y[i], vect) * df_dk(x[i], vect)\n",
    "        grad_b = dMSE_df(x[i], y[i], vect) * df_db(x[i], vect)\n",
    "        grad_MSE += 1/len(x)*np.array([grad_k, grad_b])\n",
    "    vect = vect - 1*alpha*grad_MSE\n",
    "\n",
    "    while(1*alpha*np.linalg.norm(grad_MSE) > e):  \n",
    "        grad_MSE = np.array([0.0,0.0])\n",
    "        for i in range(len(x)):\n",
    "            grad_k = dMSE_df(x[i], y[i], vect) * df_dk(x[i], vect)\n",
    "            grad_b = dMSE_df(x[i], y[i], vect) * df_db(x[i], vect)\n",
    "            grad_MSE += 1/len(x)*np.array([grad_k, grad_b])\n",
    "        vect = vect - 2*alpha*grad_MSE\n",
    "    return vect"
   ]
  },
  {
   "cell_type": "code",
   "execution_count": 48,
   "metadata": {
    "collapsed": false
   },
   "outputs": [],
   "source": [
    "import matplotlib.pyplot as plt\n",
    "def plot_MSE(f, X, Y):\n",
    "    vect = f(X, Y)\n",
    "    func_x = np.arange(min(X), max(X), (max(X)-min(X))/100)\n",
    "    func_y = func(vect[0], vect[1], func_x)\n",
    "    plt.scatter(X, Y, c='red')\n",
    "    plt.plot(func_x,func_y,c='blue',label=r'$y = \\frac{1}{1+e^{%(k).2fx+%(b).2f}}$'%{'k':vect[0], 'b':vect[1]})\n",
    "    plt.title('$Mean \\ squared \\ error$')\n",
    "    plt.legend(bbox_to_anchor=(1, 1), loc=2, borderaxespad=0.)\n",
    "    plt.grid()\n",
    "    plt.show()"
   ]
  },
  {
   "cell_type": "code",
   "execution_count": 49,
   "metadata": {
    "collapsed": false
   },
   "outputs": [
    {
     "data": {
      "image/png": "[encoded data removed]",
      "text/plain": [
       "<matplotlib.figure.Figure at 0x7f4a19770240>"
      ]
     },
     "metadata": {},
     "output_type": "display_data"
    }
   ],
   "source": [
    "X = [-100,-80,-50,-30,60,20,40,90,70,80, -70,100]\n",
    "Y = [0,0,0,0, 1,1,1,1,1,1,1,1]\n",
    "plot_MSE(find_MSE, X, Y)\n",
    "#plot_sigma(X,Y)"
   ]
  },
  {
   "cell_type": "code",
   "execution_count": null,
   "metadata": {
    "collapsed": true
   },
   "outputs": [],
   "source": []
  }
 ],
 "metadata": {
  "anaconda-cloud": {},
  "kernelspec": {
   "display_name": "Python [conda root]",
   "language": "python",
   "name": "conda-root-py"
  },
  "language_info": {
   "codemirror_mode": {
    "name": "ipython",
    "version": 3
   },
   "file_extension": ".py",
   "mimetype": "text/x-python",
   "name": "python",
   "nbconvert_exporter": "python",
   "pygments_lexer": "ipython3",
   "version": "3.5.3"
  }
 },
 "nbformat": 4,
 "nbformat_minor": 1
}
