{
 "cells": [
  {
   "cell_type": "code",
   "execution_count": null,
   "metadata": {
    "collapsed": true
   },
   "outputs": [],
   "source": [
    "def fib(i):\n",
    "    a = 1\n",
    "    b = 1\n",
    "    arr = [a, b]\n",
    "    if (i >= 3):\n",
    "        for k in range(i-2):\n",
    "            a, b = b, a+b\n",
    "            arr.append(b)\n",
    "    return arr"
   ]
  },
  {
   "cell_type": "code",
   "execution_count": null,
   "metadata": {
    "collapsed": false
   },
   "outputs": [],
   "source": [
    "def fib(i):\n",
    "    c = 1\n",
    "    yield a\n",
    "    b = 1\n",
    "    yield b\n",
    "    arr = [a, b]\n",
    "    if (i >= 3):\n",
    "        for k in range(i-2):\n",
    "            a, b = b, a+b\n",
    "            yield b\n",
    "    return arr"
   ]
  },
  {
   "cell_type": "code",
   "execution_count": null,
   "metadata": {
    "collapsed": true
   },
   "outputs": [],
   "source": [
    "for i in fib(...)\n",
    "body(i)\n",
    "\n",
    "<=>\n",
    "\n",
    "a = fib(...).__init__()\n",
    "while True:\n",
    "    try:\n",
    "        i = next(a)\n",
    "        body(i)\n",
    "    except StopIteration\n",
    "        break"
   ]
  },
  {
   "cell_type": "code",
   "execution_count": 1,
   "metadata": {
    "collapsed": true
   },
   "outputs": [],
   "source": [
    "def summary(arr):\n",
    "    return {'min':min(arr), 'max':max(arr), 'mean':sum(arr)/len(arr)}\n",
    "\n",
    "def summary2(arr):\n",
    "    return {'min':min(arr), 'max':max(arr), 'mean':sum(arr)}"
   ]
  },
  {
   "cell_type": "code",
   "execution_count": 2,
   "metadata": {
    "collapsed": true
   },
   "outputs": [],
   "source": [
    "def decorate(f, arr):\n",
    "    res = f(arr)\n",
    "    for i in res:\n",
    "        print('{}:\\t{}'.format(i, res[i]))"
   ]
  },
  {
   "cell_type": "code",
   "execution_count": 3,
   "metadata": {
    "collapsed": false
   },
   "outputs": [
    {
     "name": "stdout",
     "output_type": "stream",
     "text": [
      "min:\t1\n",
      "max:\t7\n",
      "mean:\t27\n"
     ]
    }
   ],
   "source": [
    "decorate(summary2, [1,5,3,7,3,5,3])"
   ]
  },
  {
   "cell_type": "code",
   "execution_count": 4,
   "metadata": {
    "collapsed": true
   },
   "outputs": [],
   "source": [
    "def pprint(f):\n",
    "    def inner(arr):\n",
    "        res = f(arr)\n",
    "        for i in res:\n",
    "            print('{}:\\t{}'.format(i, res[i]))\n",
    "    return inner"
   ]
  },
  {
   "cell_type": "code",
   "execution_count": 5,
   "metadata": {
    "collapsed": false
   },
   "outputs": [],
   "source": [
    "summary = pprint(summary)"
   ]
  },
  {
   "cell_type": "code",
   "execution_count": 6,
   "metadata": {
    "collapsed": false
   },
   "outputs": [
    {
     "name": "stdout",
     "output_type": "stream",
     "text": [
      "min:\t1\n",
      "max:\t7\n",
      "mean:\t3.857142857142857\n"
     ]
    }
   ],
   "source": [
    "summary([1,5,3,7,3,5,3])"
   ]
  },
  {
   "cell_type": "code",
   "execution_count": 7,
   "metadata": {
    "collapsed": true
   },
   "outputs": [],
   "source": [
    "@pprint\n",
    "def summary2(arr):\n",
    "    return {'min':min(arr), 'max':max(arr), 'mean':sum(arr)}"
   ]
  },
  {
   "cell_type": "code",
   "execution_count": 8,
   "metadata": {
    "collapsed": false
   },
   "outputs": [
    {
     "name": "stdout",
     "output_type": "stream",
     "text": [
      "min:\t1\n",
      "max:\t7\n",
      "mean:\t27\n"
     ]
    }
   ],
   "source": [
    "summary2([1,5,3,7,3,5,3])"
   ]
  },
  {
   "cell_type": "code",
   "execution_count": null,
   "metadata": {
    "collapsed": true
   },
   "outputs": [],
   "source": []
  }
 ],
 "metadata": {
  "anaconda-cloud": {},
  "kernelspec": {
   "display_name": "Python [conda root]",
   "language": "python",
   "name": "conda-root-py"
  },
  "language_info": {
   "codemirror_mode": {
    "name": "ipython",
    "version": 3
   },
   "file_extension": ".py",
   "mimetype": "text/x-python",
   "name": "python",
   "nbconvert_exporter": "python",
   "pygments_lexer": "ipython3",
   "version": "3.5.3"
  }
 },
 "nbformat": 4,
 "nbformat_minor": 1
}
