{
 "cells": [
  {
   "cell_type": "code",
   "execution_count": 1,
   "metadata": {
    "collapsed": true
   },
   "outputs": [],
   "source": [
    "import numpy as np\n",
    "import _pickle as cPickle"
   ]
  },
  {
   "cell_type": "code",
   "execution_count": 67,
   "metadata": {
    "collapsed": false
   },
   "outputs": [],
   "source": [
    "def l0_check(a: np.array):\n",
    "    b = np.array(a)\n",
    "    for i in range(len(b)):\n",
    "        if (b[i] != 0):\n",
    "            b[i] = 1\n",
    "    return b"
   ]
  },
  {
   "cell_type": "code",
   "execution_count": 74,
   "metadata": {
    "collapsed": false
   },
   "outputs": [],
   "source": [
    "FILE_FOR_MODEL = \"05_class_Linear_regression_model.txt\"\n",
    "class LinearRegression:\n",
    "    def __init__(self, alpha: float, l0: float, l1: float, l2: float, stop_iter: float, stop_delta: float, verbose: bool, model: object):\n",
    "        '''\n",
    "        Linerar Regression object constructor\n",
    "        \n",
    "        :param alpha: alpha param for gradient descent\n",
    "        :param l0: L0 regularization coefficient\n",
    "        :param l1: L1 regularization coefficient\n",
    "        :param l2: L2 regularization coefficient\n",
    "        :param stop_iter: maximum iterations of traing\n",
    "        :param stop_delta: stop iteration delta\n",
    "        :param verbose: show verbose information\n",
    "        :param model: get params from other model\n",
    "        '''\n",
    "        if (model == None):\n",
    "            self.alpha = alpha\n",
    "            self.l0 = l0\n",
    "            self.l1 = l1\n",
    "            self.l2 = l2\n",
    "            self.stop_iter = stop_iter\n",
    "            self.stop_delta = stop_delta\n",
    "            self.verbose = verbose\n",
    "            self.model = model\n",
    "        else:            \n",
    "            self.alpha = model['alpha']\n",
    "            self.l0 = model['l0']\n",
    "            self.l1 = model['l1']\n",
    "            self.l2 = model['l2']\n",
    "            self.stop_iter = model['stop_iter']\n",
    "            self.stop_delta = model['stop_delta']\n",
    "            self.verbose = model['verbose']\n",
    "            self.model = model['model']\n",
    "    \n",
    "    def train(self, X: np.array, y: np.array, warm_start: bool):\n",
    "        '''\n",
    "        Fit Linear Regression params\n",
    "        \n",
    "        :param X: training data\n",
    "        :param y: training ansewers\n",
    "        :param warm_start: must be set True to continue training, false to reset params\n",
    "        '''\n",
    "        \n",
    "        if (warm_start == False):\n",
    "            self.w = np.random.rand(len(X[0]))\n",
    "        else:\n",
    "            file = open(FILE_FOR_MODEL, 'rb')\n",
    "            self.w = cPickle.load(file)\n",
    "            file.close()\n",
    "            \n",
    "        indicator_for_cycle_exit_criterion = 1   \n",
    "        \n",
    "        for j in range(int(self.stop_iter)):\n",
    "            \n",
    "            grad = 2*X.T.dot(X.dot(self.w.T)-y)/len(y) + self.l0*l0_check(self.w) + self.l1*np.sign(self.w) + self.l2*2*self.w\n",
    "            self.w = self.w - self.alpha*grad\n",
    "            j += 1\n",
    "            \n",
    "            if (self.verbose == True):\n",
    "                if (j % 10000 == 0):\n",
    "                    print('iteration = ', j, 'vect =', self.w, 'grad =', grad)\n",
    "            \n",
    "            if(np.linalg.norm(grad) < self.stop_delta):\n",
    "                indicator_for_cycle_exit_criterion = 0   \n",
    "                print('|grad| < stop_delta')\n",
    "                break\n",
    "        \n",
    "        if (indicator_for_cycle_exit_criterion):\n",
    "            print(self.stop_iter, 'iterations done')\n",
    "        \n",
    "        file = open(FILE_FOR_MODEL, 'wb')\n",
    "        cPickle.dump(self.w, file)\n",
    "        file.close()\n",
    "        print('train results saved in', FILE_FOR_MODEL)\n",
    "        \n",
    "            \n",
    "    \n",
    "    def get_params(self) -> dict:\n",
    "        '''\n",
    "        Return model params\n",
    "        \n",
    "        :return: dict of model params\n",
    "        '''\n",
    "        dict_params = {}\n",
    "        dict_params['alpha'] = self.alpha\n",
    "        dict_params['l0'] = self.l0\n",
    "        dict_params['l1'] = self.l1\n",
    "        dict_params['l2'] = self.l2\n",
    "        dict_params['stop_iter'] = self.stop_iter\n",
    "        dict_params['stop_delta'] = self.stop_delta\n",
    "        dict_params['verbose'] = self.verbose\n",
    "        dict_params['model'] = self.model\n",
    "        return dict_params\n",
    "    \n",
    "    def predict(self, X: np.array) -> np.array:\n",
    "        file = open(FILE_FOR_MODEL, 'rb')\n",
    "        self.w = cPickle.load(file)\n",
    "        file.close()\n",
    "        '''\n",
    "        Predit answers on given data\n",
    "        \n",
    "        :param X: data\n",
    "        :return: predicted answers\n",
    "        '''\n",
    "        return X.dot(self.w.T)\n",
    "    \n",
    "    def test(self, X: np.array, y: np.array, metric=None) -> float:\n",
    "        file = open(FILE_FOR_MODEL, 'rb')\n",
    "        self.w = cPickle.load(file)\n",
    "        file.close()\n",
    "        '''\n",
    "        Test the model\n",
    "        \n",
    "        :param X: test data\n",
    "        :param y: test answers\n",
    "        :param metric: must be a function of 2 numpy arrays. If None, MSE is used.\n",
    "        :return: metric value\n",
    "        '''\n",
    "        return (X.dot(self.w.T) - y).dot((X.dot(self.w.T) - y).T)/len(y)"
   ]
  },
  {
   "cell_type": "code",
   "execution_count": 79,
   "metadata": {
    "collapsed": false
   },
   "outputs": [],
   "source": [
    "lr = LinearRegression(alpha=1e-4, l0=0., l1=0., l2=0., stop_iter=1e5, stop_delta=1e-16, verbose=False, model=None)"
   ]
  },
  {
   "cell_type": "code",
   "execution_count": 76,
   "metadata": {
    "collapsed": true
   },
   "outputs": [],
   "source": [
    "x_linear = np.array([[1,1],\n",
    "                    [1,2],\n",
    "                    [1,4],\n",
    "                    [1,9],\n",
    "                    [1,-10]])\n",
    "y_linear = np.array([8,9,4, 1, 100])"
   ]
  },
  {
   "cell_type": "code",
   "execution_count": 26,
   "metadata": {
    "collapsed": false
   },
   "outputs": [
    {
     "name": "stdout",
     "output_type": "stream",
     "text": [
      "iteration =  10000 vect = [ 26.72967878  -5.48876447] grad = [-8.51531806  0.25910966]\n",
      "iteration =  20000 vect = [ 30.5047294   -5.60363418] grad = [-1.23950208  0.03771638]\n",
      "iteration =  30000 vect = [ 31.05423125  -5.62035478] grad = [-0.18042372  0.00549005]\n",
      "iteration =  40000 vect = [ 31.13421754  -5.62278865] grad = [-0.02626274  0.00079914]\n",
      "iteration =  50000 vect = [ 31.14586046  -5.62314293] grad = [-0.00382284  0.00011632]\n",
      "iteration =  60000 vect = [ 31.14755522  -5.6231945 ] grad = [ -5.56458521e-04   1.69322832e-05]\n",
      "iteration =  70000 vect = [ 31.14780192  -5.62320201] grad = [ -8.09989112e-05   2.46468782e-06]\n",
      "iteration =  80000 vect = [ 31.14783783  -5.6232031 ] grad = [ -1.17903192e-05   3.58763549e-07]\n",
      "iteration =  90000 vect = [ 31.14784305  -5.62320326] grad = [ -1.71621601e-06   5.22222138e-08]\n",
      "iteration =  100000 vect = [ 31.14784381  -5.62320328] grad = [ -2.49814831e-07   7.60157945e-09]\n",
      "100000.0 iterations done\n"
     ]
    }
   ],
   "source": [
    "lr.verbose = True\n",
    "lr.train(X=x_linear, y=y_linear, warm_start=False)"
   ]
  },
  {
   "cell_type": "code",
   "execution_count": 80,
   "metadata": {
    "collapsed": false
   },
   "outputs": [
    {
     "name": "stdout",
     "output_type": "stream",
     "text": [
      "iteration =  10000 vect = [ 26.69537333  -5.4877206 ] grad = [-8.5814364   0.26112155]\n",
      "iteration =  20000 vect = [ 30.49973585  -5.60348223] grad = [-1.24912636  0.03800923]\n",
      "iteration =  30000 vect = [ 31.05350439  -5.62033266] grad = [-0.18182465  0.00553268]\n",
      "iteration =  40000 vect = [ 31.13411174  -5.62278543] grad = [-0.02646666  0.00080534]\n",
      "iteration =  50000 vect = [ 31.14584506  -5.62314246] grad = [-0.00385253  0.00011723]\n",
      "iteration =  60000 vect = [ 31.14755298  -5.62319443] grad = [ -5.60779219e-04   1.70637560e-05]\n",
      "iteration =  70000 vect = [ 31.14780159  -5.623202  ] grad = [ -8.16278381e-05   2.48382534e-06]\n",
      "iteration =  80000 vect = [ 31.14783778  -5.6232031 ] grad = [ -1.18818670e-05   3.61549081e-07]\n",
      "iteration =  90000 vect = [ 31.14784305  -5.62320326] grad = [ -1.72954170e-06   5.26277574e-08]\n",
      "iteration =  100000 vect = [ 31.14784381  -5.62320328] grad = [ -2.51754525e-07   7.66050903e-09]\n",
      "100000.0 iterations done\n",
      "train results saved in 05_class_Linear_regression_model.txt\n"
     ]
    }
   ],
   "source": [
    "lr.verbose = True\n",
    "lr.train(X=x_linear, y=y_linear, warm_start=False)"
   ]
  },
  {
   "cell_type": "code",
   "execution_count": 28,
   "metadata": {
    "collapsed": false
   },
   "outputs": [
    {
     "data": {
      "text/plain": [
       "{'alpha': 0.0001,\n",
       " 'l0': 0.0,\n",
       " 'l1': 0.0,\n",
       " 'l2': 0.0,\n",
       " 'model': None,\n",
       " 'stop_delta': 1e-16,\n",
       " 'stop_iter': 100000.0,\n",
       " 'verbose': True}"
      ]
     },
     "execution_count": 28,
     "metadata": {},
     "output_type": "execute_result"
    }
   ],
   "source": [
    "lr.get_params()"
   ]
  },
  {
   "cell_type": "code",
   "execution_count": 29,
   "metadata": {
    "collapsed": false
   },
   "outputs": [],
   "source": [
    "lr2=LinearRegression(**lr.get_params())"
   ]
  },
  {
   "cell_type": "code",
   "execution_count": 30,
   "metadata": {
    "collapsed": false
   },
   "outputs": [],
   "source": [
    "x2_linear = np.array([[1,5],\n",
    "                    [1,2],\n",
    "                    [1,5],\n",
    "                    [1,7],\n",
    "                    [1,-1]])\n",
    "y2_linear = np.array([0,5,-4, 1, 10])"
   ]
  },
  {
   "cell_type": "code",
   "execution_count": 31,
   "metadata": {
    "collapsed": false
   },
   "outputs": [
    {
     "name": "stdout",
     "output_type": "stream",
     "text": [
      "iteration =  10000 vect = [ 26.6071152   -5.48503503] grad = [-8.75154006  0.26629757]\n",
      "iteration =  20000 vect = [ 30.48688887  -5.60309131] grad = [-1.2738869   0.03876266]\n",
      "iteration =  30000 vect = [ 31.05163436  -5.62027576] grad = [-0.18542883  0.00564235]\n",
      "iteration =  40000 vect = [ 31.13383954  -5.62277715] grad = [-0.02699129  0.00082131]\n",
      "iteration =  50000 vect = [ 31.14580544  -5.62314126] grad = [-0.00392889  0.00011955]\n",
      "iteration =  60000 vect = [ 31.14754722  -5.62319426] grad = [ -5.71895143e-04   1.74019986e-05]\n",
      "iteration =  70000 vect = [ 31.14780075  -5.62320197] grad = [ -8.32458885e-05   2.53306010e-06]\n",
      "iteration =  80000 vect = [ 31.14783766  -5.62320309] grad = [ -1.21173926e-05   3.68715803e-07]\n",
      "iteration =  90000 vect = [ 31.14784303  -5.62320326] grad = [ -1.76382540e-06   5.36709024e-08]\n",
      "iteration =  100000 vect = [ 31.14784381  -5.62320328] grad = [ -2.56745086e-07   7.81238327e-09]\n",
      "100000.0 iterations done\n"
     ]
    }
   ],
   "source": [
    "lr2.train(X=x_linear, y=y_linear, warm_start=False)"
   ]
  },
  {
   "cell_type": "code",
   "execution_count": 32,
   "metadata": {
    "collapsed": false
   },
   "outputs": [
    {
     "data": {
      "text/plain": [
       "216.45776749214892"
      ]
     },
     "execution_count": 32,
     "metadata": {},
     "output_type": "execute_result"
    }
   ],
   "source": [
    "lr2.test(X=x2_linear, y=y2_linear)"
   ]
  },
  {
   "cell_type": "code",
   "execution_count": null,
   "metadata": {
    "collapsed": true
   },
   "outputs": [],
   "source": []
  }
 ],
 "metadata": {
  "anaconda-cloud": {},
  "kernelspec": {
   "display_name": "Python [conda root]",
   "language": "python",
   "name": "conda-root-py"
  },
  "language_info": {
   "codemirror_mode": {
    "name": "ipython",
    "version": 3
   },
   "file_extension": ".py",
   "mimetype": "text/x-python",
   "name": "python",
   "nbconvert_exporter": "python",
   "pygments_lexer": "ipython3",
   "version": "3.5.3"
  }
 },
 "nbformat": 4,
 "nbformat_minor": 1
}
