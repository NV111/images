{
 "cells": [
  {
   "cell_type": "code",
   "execution_count": 1,
   "metadata": {
    "collapsed": true
   },
   "outputs": [],
   "source": [
    "import numpy as np"
   ]
  },
  {
   "cell_type": "code",
   "execution_count": 93,
   "metadata": {
    "collapsed": false
   },
   "outputs": [],
   "source": [
    "class LinearRegression:\n",
    "    def __init__(self, alpha: float, l0: float, l1: float, l2: float, \n",
    "                 stop_iter: float, stop_delta: float, verbose: bool, model: object):\n",
    "        '''\n",
    "        Linerar Regression object constructor\n",
    "        \n",
    "        :param alpha: alpha param for gradient descent\n",
    "        :param l0: L0 regularization coefficient\n",
    "        :param l1: L1 regularization coefficient\n",
    "        :param l2: L2 regularization coefficient\n",
    "        :param stop_iter: maximum iterations of traing\n",
    "        :param stop_delta: stop iteration delta\n",
    "        :param verbose: show verbose information\n",
    "        :param model: get params from other model\n",
    "        '''\n",
    "        if (model == None):\n",
    "            self.alpha = alpha\n",
    "            self.l0 = l0\n",
    "            self.l1 = l1\n",
    "            self.l2 = l2\n",
    "            self.stop_iter = stop_iter\n",
    "            self.stop_delta = stop_delta\n",
    "            self.verbose = verbose\n",
    "            self.model = model\n",
    "        else:            \n",
    "            self.alpha = model['alpha']\n",
    "            self.l0 = model['l0']\n",
    "            self.l1 = model['l1']\n",
    "            self.l2 = model['l2']\n",
    "            self.stop_iter = model['stop_iter']\n",
    "            self.stop_delta = model['stop_delta']\n",
    "            self.verbose = model['verbose']\n",
    "    \n",
    "    def train(self, X: np.array, y: np.array, warm_start: bool):\n",
    "        '''\n",
    "        Fit Linear Regression params\n",
    "        \n",
    "        :param X: training data\n",
    "        :param y: training ansewers\n",
    "        :param warm_start: must be set True to continue training, false to reset params\n",
    "        '''\n",
    "        if (warm_start == False):\n",
    "            self.X = X\n",
    "            self.y = y\n",
    "            self.w = np.random.rand(len(self.X[0]))\n",
    "            self.iteration = 0\n",
    "            \n",
    "        for j in range(self.iteration, int(self.stop_iter)):\n",
    "            grad = 2*self.X.T.dot(self.X.dot(self.w.T)-self.y)/len(self.y)\n",
    "            self.w = self.w - self.alpha*grad\n",
    "            j += 1\n",
    "            self.iteration = j\n",
    "            if (self.verbose == True):\n",
    "                if (j % 10000 == 0):\n",
    "                    print('iteration = ', j, 'vect=', self.w, 'grad=', grad)\n",
    "            if(np.linalg.norm(grad) < self.stop_delta):\n",
    "                break\n",
    "            \n",
    "    \n",
    "    def get_params(self) -> dict:\n",
    "        '''\n",
    "        Return model params\n",
    "        \n",
    "        :return: dict of model params\n",
    "        '''\n",
    "        dict_params = {}\n",
    "        dict_params['alpha'] = self.alpha\n",
    "        dict_params['l0'] = self.l0\n",
    "        dict_params['l1'] = self.l1\n",
    "        dict_params['l2'] = self.l2\n",
    "        dict_params['stop_iter'] = self.stop_iter\n",
    "        dict_params['stop_delta'] = self.stop_delta\n",
    "        dict_params['verbose'] = self.verbose\n",
    "        dict_params['model'] = self.model\n",
    "        return dict_params\n",
    "    \n",
    "    def predict(self, X: np.array) -> np.array:\n",
    "        '''\n",
    "        Predit answers on given data\n",
    "        \n",
    "        :param X: data\n",
    "        :return: predicted answers\n",
    "        '''\n",
    "        return X.dot(self.w.T)\n",
    "    \n",
    "    def test(self, X: np.array, y: np.array, metric=None) -> float:\n",
    "        '''\n",
    "        Test the model\n",
    "        \n",
    "        :param X: test data\n",
    "        :param y: test answers\n",
    "        :param metric: must be a function of 2 numpy arrays. If None, MSE is used.\n",
    "        :return: metric value\n",
    "        '''\n",
    "        return (X.dot(self.w.T) - y).dot((X.dot(self.w.T) - y).T)"
   ]
  },
  {
   "cell_type": "code",
   "execution_count": 94,
   "metadata": {
    "collapsed": true
   },
   "outputs": [],
   "source": [
    "lr = LinearRegression(alpha=1e-4, l0=0., l1=0., l2=0., stop_iter=1e6, stop_delta=1e-6, verbose=False, model=None)"
   ]
  },
  {
   "cell_type": "code",
   "execution_count": 95,
   "metadata": {
    "collapsed": true
   },
   "outputs": [],
   "source": [
    "x_linear = np.array([[1,1],\n",
    "                    [1,2],\n",
    "                    [1,4],\n",
    "                    [1,9],\n",
    "                    [1,-10]])\n",
    "y_linear = np.array([8,9,4, 1, 100])"
   ]
  },
  {
   "cell_type": "code",
   "execution_count": 96,
   "metadata": {
    "collapsed": false
   },
   "outputs": [
    {
     "name": "stdout",
     "output_type": "stream",
     "text": [
      "iteration =  10000 vect= [ 26.62885854  -5.48569665] grad= [-8.7096332  0.2650224]\n",
      "iteration =  20000 vect= [ 30.49005386  -5.60318762] grad= [-1.26778687  0.03857705]\n",
      "iteration =  30000 vect= [ 31.05209506  -5.62028978] grad= [-0.1845409   0.00561533]\n",
      "iteration =  40000 vect= [ 31.1339066   -5.62277919] grad= [-0.02686204  0.00081738]\n",
      "iteration =  50000 vect= [ 31.1458152   -5.62314155] grad= [-0.00391008  0.00011898]\n",
      "iteration =  60000 vect= [ 31.14754864  -5.6231943 ] grad= [ -5.69156616e-04   1.73186691e-05]\n",
      "iteration =  70000 vect= [ 31.14780096  -5.62320198] grad= [ -8.28472647e-05   2.52093077e-06]\n",
      "iteration =  80000 vect= [ 31.14783769  -5.6232031 ] grad= [ -1.20593681e-05   3.66950036e-07]\n",
      "iteration =  90000 vect= [ 31.14784303  -5.62320326] grad= [ -1.75537926e-06   5.34138223e-08]\n"
     ]
    }
   ],
   "source": [
    "lr.verbose = True\n",
    "lr.train(X=x_linear, y=y_linear, warm_start=False)"
   ]
  },
  {
   "cell_type": "code",
   "execution_count": 97,
   "metadata": {
    "collapsed": false
   },
   "outputs": [
    {
     "data": {
      "text/plain": [
       "{'alpha': 0.0001,\n",
       " 'l0': 0.0,\n",
       " 'l1': 0.0,\n",
       " 'l2': 0.0,\n",
       " 'model': None,\n",
       " 'stop_delta': 1e-06,\n",
       " 'stop_iter': 1000000.0,\n",
       " 'verbose': True}"
      ]
     },
     "execution_count": 97,
     "metadata": {},
     "output_type": "execute_result"
    }
   ],
   "source": [
    "lr.get_params()"
   ]
  },
  {
   "cell_type": "code",
   "execution_count": 98,
   "metadata": {
    "collapsed": false
   },
   "outputs": [],
   "source": [
    "lr2=LinearRegression(**lr.get_params())"
   ]
  },
  {
   "cell_type": "code",
   "execution_count": 99,
   "metadata": {
    "collapsed": false
   },
   "outputs": [],
   "source": [
    "x2_linear = np.array([[1,5],\n",
    "                    [1,2],\n",
    "                    [1,5],\n",
    "                    [1,7],\n",
    "                    [1,-1]])\n",
    "y2_linear = np.array([0,5,-4, 1, 10])"
   ]
  },
  {
   "cell_type": "code",
   "execution_count": 101,
   "metadata": {
    "collapsed": false
   },
   "outputs": [
    {
     "name": "stdout",
     "output_type": "stream",
     "text": [
      "iteration =  10000 vect= [ 26.60031772  -5.48482819] grad= [-8.76464114  0.26669622]\n",
      "iteration =  20000 vect= [ 30.48589941  -5.60306121] grad= [-1.27579391  0.03882069]\n",
      "iteration =  30000 vect= [ 31.05149033  -5.62027137] grad= [-0.18570642  0.0056508 ]\n",
      "iteration =  40000 vect= [ 31.13381857  -5.62277651] grad= [-0.0270317   0.00082254]\n"
     ]
    },
    {
     "ename": "KeyboardInterrupt",
     "evalue": "",
     "output_type": "error",
     "traceback": [
      "\u001b[0;31m---------------------------------------------------------------------------\u001b[0m",
      "\u001b[0;31mKeyboardInterrupt\u001b[0m                         Traceback (most recent call last)",
      "\u001b[0;32m<ipython-input-101-6d6c4f512919>\u001b[0m in \u001b[0;36m<module>\u001b[0;34m()\u001b[0m\n\u001b[0;32m----> 1\u001b[0;31m \u001b[0mlr2\u001b[0m\u001b[0;34m.\u001b[0m\u001b[0mtrain\u001b[0m\u001b[0;34m(\u001b[0m\u001b[0mX\u001b[0m\u001b[0;34m=\u001b[0m\u001b[0mx_linear\u001b[0m\u001b[0;34m,\u001b[0m \u001b[0my\u001b[0m\u001b[0;34m=\u001b[0m\u001b[0my_linear\u001b[0m\u001b[0;34m,\u001b[0m \u001b[0mwarm_start\u001b[0m\u001b[0;34m=\u001b[0m\u001b[0;32mFalse\u001b[0m\u001b[0;34m)\u001b[0m\u001b[0;34m\u001b[0m\u001b[0m\n\u001b[0m",
      "\u001b[0;32m<ipython-input-93-8dd5c02469bc>\u001b[0m in \u001b[0;36mtrain\u001b[0;34m(self, X, y, warm_start)\u001b[0m\n\u001b[1;32m     54\u001b[0m                 \u001b[0;32mif\u001b[0m \u001b[0;34m(\u001b[0m\u001b[0mj\u001b[0m \u001b[0;34m%\u001b[0m \u001b[0;36m10000\u001b[0m \u001b[0;34m==\u001b[0m \u001b[0;36m0\u001b[0m\u001b[0;34m)\u001b[0m\u001b[0;34m:\u001b[0m\u001b[0;34m\u001b[0m\u001b[0m\n\u001b[1;32m     55\u001b[0m                     \u001b[0mprint\u001b[0m\u001b[0;34m(\u001b[0m\u001b[0;34m'iteration = '\u001b[0m\u001b[0;34m,\u001b[0m \u001b[0mj\u001b[0m\u001b[0;34m,\u001b[0m \u001b[0;34m'vect='\u001b[0m\u001b[0;34m,\u001b[0m \u001b[0mself\u001b[0m\u001b[0;34m.\u001b[0m\u001b[0mw\u001b[0m\u001b[0;34m,\u001b[0m \u001b[0;34m'grad='\u001b[0m\u001b[0;34m,\u001b[0m \u001b[0mgrad\u001b[0m\u001b[0;34m)\u001b[0m\u001b[0;34m\u001b[0m\u001b[0m\n\u001b[0;32m---> 56\u001b[0;31m             \u001b[0;32mif\u001b[0m\u001b[0;34m(\u001b[0m\u001b[0mnp\u001b[0m\u001b[0;34m.\u001b[0m\u001b[0mlinalg\u001b[0m\u001b[0;34m.\u001b[0m\u001b[0mnorm\u001b[0m\u001b[0;34m(\u001b[0m\u001b[0mgrad\u001b[0m\u001b[0;34m)\u001b[0m \u001b[0;34m<\u001b[0m \u001b[0mself\u001b[0m\u001b[0;34m.\u001b[0m\u001b[0mstop_delta\u001b[0m\u001b[0;34m)\u001b[0m\u001b[0;34m:\u001b[0m\u001b[0;34m\u001b[0m\u001b[0m\n\u001b[0m\u001b[1;32m     57\u001b[0m                 \u001b[0;32mbreak\u001b[0m\u001b[0;34m\u001b[0m\u001b[0m\n\u001b[1;32m     58\u001b[0m \u001b[0;34m\u001b[0m\u001b[0m\n",
      "\u001b[0;31mKeyboardInterrupt\u001b[0m: "
     ]
    }
   ],
   "source": [
    "lr2.train(X=x_linear, y=y_linear, warm_start=False)"
   ]
  },
  {
   "cell_type": "code",
   "execution_count": 102,
   "metadata": {
    "collapsed": false
   },
   "outputs": [
    {
     "name": "stdout",
     "output_type": "stream",
     "text": [
      "iteration =  50000 vect= [ 31.14580239  -5.62314116] grad= [-0.00393477  0.00011973]\n",
      "iteration =  60000 vect= [ 31.14754677  -5.62319424] grad= [ -5.72751272e-04   1.74280496e-05]\n",
      "iteration =  70000 vect= [ 31.14780069  -5.62320197] grad= [ -8.33705079e-05   2.53685237e-06]\n",
      "iteration =  80000 vect= [ 31.14783765  -5.62320309] grad= [ -1.21355322e-05   3.69267934e-07]\n",
      "iteration =  90000 vect= [ 31.14784303  -5.62320326] grad= [ -1.76646577e-06   5.37511482e-08]\n"
     ]
    }
   ],
   "source": [
    "lr2.train(X=x_linear, y=y_linear, warm_start=True)"
   ]
  },
  {
   "cell_type": "code",
   "execution_count": 103,
   "metadata": {
    "collapsed": false
   },
   "outputs": [
    {
     "data": {
      "text/plain": [
       "1082.2888044251993"
      ]
     },
     "execution_count": 103,
     "metadata": {},
     "output_type": "execute_result"
    }
   ],
   "source": [
    "lr2.test(X=x2_linear, y=y2_linear)"
   ]
  },
  {
   "cell_type": "code",
   "execution_count": null,
   "metadata": {
    "collapsed": true
   },
   "outputs": [],
   "source": []
  }
 ],
 "metadata": {
  "anaconda-cloud": {},
  "kernelspec": {
   "display_name": "Python [conda root]",
   "language": "python",
   "name": "conda-root-py"
  },
  "language_info": {
   "codemirror_mode": {
    "name": "ipython",
    "version": 3
   },
   "file_extension": ".py",
   "mimetype": "text/x-python",
   "name": "python",
   "nbconvert_exporter": "python",
   "pygments_lexer": "ipython3",
   "version": "3.5.3"
  }
 },
 "nbformat": 4,
 "nbformat_minor": 1
}
