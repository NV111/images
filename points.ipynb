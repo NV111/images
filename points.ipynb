{
 "cells": [
  {
   "cell_type": "code",
   "execution_count": 2,
   "metadata": {
    "collapsed": true
   },
   "outputs": [],
   "source": [
    "import numpy as np\n",
    "import matplotlib.pyplot as plt"
   ]
  },
  {
   "cell_type": "code",
   "execution_count": 197,
   "metadata": {
    "collapsed": false
   },
   "outputs": [],
   "source": [
    "class Point:\n",
    "    def __init__(self, X, c, q):\n",
    "        self.X = X\n",
    "        self.c = c\n",
    "        self.q = q\n",
    "    \n",
    "    def newq(self, q):\n",
    "        self.q = q\n",
    "    \n",
    "    def plot2D(self):\n",
    "        plt.scatter(self.X[0], self.X[1], s=50, c=self.c, edgecolors=self.q, alpha=0.7)\n",
    "\n",
    "class Cluster:\n",
    "    def __init__(self, X, q):\n",
    "        self.mass = []\n",
    "        self.q = q\n",
    "        self.sigma = 1.0\n",
    "        self.Center = Point(X, q, q) \n",
    "    \n",
    "    def a(self, P):\n",
    "        P.q = self.q\n",
    "        self.mass.append(P)\n",
    "        #self.mean()\n",
    "        #self.dispersion()\n",
    "        \n",
    "    def mean(self):\n",
    "        summ = 0\n",
    "        for i in range(len(self.mass)):\n",
    "            summ += (self.Center.X - self.mass[i].X)\n",
    "        self.Center.X = summ/len(self.mass)\n",
    "       \n",
    "\n",
    "    def dispersion(self):\n",
    "        summ = 0\n",
    "        for i in range(len(self.mass)):\n",
    "            summ += (self.Center.X - self.mass[i].X).dot((self.Center.X - self.mass[i].X).T)\n",
    "        self.sigma = summ/len(self.mass)\n",
    "    \n",
    "    def plot2D(self):\n",
    "        for i in range(len(self.mass)):\n",
    "            self.mass[i].plot2D()"
   ]
  },
  {
   "cell_type": "code",
   "execution_count": 198,
   "metadata": {
    "collapsed": false
   },
   "outputs": [
    {
     "data": {
      "image/png": "[encoded data removed]",
      "text/plain": [
       "<matplotlib.figure.Figure at 0x7fae207b72b0>"
      ]
     },
     "metadata": {},
     "output_type": "display_data"
    }
   ],
   "source": [
    "P1 = Point(np.array([1, 2]), 'red', 'red')\n",
    "P2 = Point(np.array([1, 3]), 'red', 'red')\n",
    "P3 = Point(np.array([1, 4]), 'red', 'red')\n",
    "P4 = Point(np.array([2, 2]), 'red', 'red')\n",
    "P5 = Point(np.array([2, 3]), 'red', 'red')\n",
    "P6 = Point(np.array([2, 4]), 'red', 'red')\n",
    "P7 = Point(np.array([3, 2]), 'red', 'red')\n",
    "P8 = Point(np.array([3, 3]), 'red', 'red')\n",
    "P9 = Point(np.array([3, 4]), 'red', 'red')\n",
    "P10 = Point(np.array([6, 5]), 'green', 'green')\n",
    "P11 = Point(np.array([4, 6]), 'green', 'green')\n",
    "P12 = Point(np.array([4, 5]), 'green', 'green')\n",
    "P13 = Point(np.array([3, 1]), 'blue', 'blue')\n",
    "P14 = Point(np.array([4, 0]), 'blue', 'blue')\n",
    "P15 = Point(np.array([5, 1]), 'blue', 'blue')\n",
    "P16 = Point(np.array([4, -1]), 'blue', 'blue')\n",
    "P17 = Point(np.array([3, -1]), 'blue', 'blue')\n",
    "P18 = Point(np.array([5, 0]), 'blue', 'blue')\n",
    "red_Points = Cluster(P1.X, 'red')\n",
    "green_Points = Cluster(P10.X, 'green')\n",
    "blue_Points = Cluster(P13.X, 'blue')\n",
    "red_Points.a(P1)\n",
    "red_Points.a(P2)\n",
    "red_Points.a(P3)\n",
    "red_Points.a(P4)\n",
    "red_Points.a(P5)\n",
    "red_Points.a(P6)\n",
    "red_Points.a(P7)\n",
    "red_Points.a(P8)\n",
    "red_Points.a(P9)\n",
    "green_Points.a(P10)\n",
    "green_Points.a(P11)\n",
    "green_Points.a(P12)\n",
    "blue_Points.a(P13)\n",
    "blue_Points.a(P14)\n",
    "blue_Points.a(P15)\n",
    "blue_Points.a(P16)\n",
    "blue_Points.a(P17)\n",
    "blue_Points.a(P18)\n",
    "red_Points.plot2D()\n",
    "green_Points.plot2D()\n",
    "blue_Points.plot2D()\n",
    "plt.show()"
   ]
  },
  {
   "cell_type": "code",
   "execution_count": 199,
   "metadata": {
    "collapsed": true
   },
   "outputs": [],
   "source": [
    "mass_all=[P1, P2, P3, P4, P5, P6, P7, P8, P9, P10, P11, P12, P13, P14, P15, P16, P17, P18]"
   ]
  },
  {
   "cell_type": "code",
   "execution_count": 200,
   "metadata": {
    "collapsed": true
   },
   "outputs": [],
   "source": [
    "def dPP(P1, P2):\n",
    "    return np.sqrt((P1.X - P2.X).dot((P1.X - P2.X).T))"
   ]
  },
  {
   "cell_type": "code",
   "execution_count": 201,
   "metadata": {
    "collapsed": true
   },
   "outputs": [],
   "source": [
    "def dPm(P1, mass_of_Points):\n",
    "    mass = []\n",
    "    for i in range(len(mass_of_Points)):\n",
    "        mass.append(dPP(P1, mass_of_Points[i]))\n",
    "    return mass"
   ]
  },
  {
   "cell_type": "code",
   "execution_count": 202,
   "metadata": {
    "collapsed": true
   },
   "outputs": [],
   "source": [
    "def find_min_in_column(matrix):\n",
    "    mass = []\n",
    "    for i in range(len(matrix[0])):\n",
    "        element = matrix[0][i]\n",
    "        index = 0\n",
    "        for j in range(len(matrix)):\n",
    "            if (element >= matrix[j][i]):\n",
    "                element = matrix[j][i]\n",
    "                index = j\n",
    "        mass.append(index)\n",
    "    return mass"
   ]
  },
  {
   "cell_type": "code",
   "execution_count": 203,
   "metadata": {
    "collapsed": true
   },
   "outputs": [],
   "source": [
    "def clusterisation(mass_of_Centers, mass_of_Points):\n",
    "    matrix = []\n",
    "    clusters = []\n",
    "    for i in range(len(mass_of_Centers)):\n",
    "        matrix.append(dPm(mass_of_Centers[i], mass_of_Points))\n",
    "    cl_nums = find_min_in_column(matrix)\n",
    "    for i in range(len(mass_of_Centers)):\n",
    "        clusters.append(Cluster(mass_of_Centers[i].X, mass_of_Centers[i].c))\n",
    "    for i in range(len(cl_nums)):\n",
    "        clusters[cl_nums[i]].a(mass_of_Points[i])\n",
    "    return clusters"
   ]
  },
  {
   "cell_type": "code",
   "execution_count": 204,
   "metadata": {
    "collapsed": true
   },
   "outputs": [],
   "source": [
    "import random\n",
    "def KMeans(number_of_clusters, mass):\n",
    "    center_names = random.sample(range(len(mass)), number_of_clusters)\n",
    "    C = []\n",
    "    for i in range(number_of_clusters):\n",
    "        C.append(mass[center_names[i]])\n",
    "    Clusters = clusterisation(C, mass_all)\n",
    "    for i in range(len(Clusters)):\n",
    "        Clusters[i].plot2D()\n",
    "        Clusters[i].Center.plot2D()\n",
    "    plt.show()"
   ]
  },
  {
   "cell_type": "code",
   "execution_count": 205,
   "metadata": {
    "collapsed": false
   },
   "outputs": [
    {
     "data": {
      "image/png": "[encoded data removed]",
      "text/plain": [
       "<matplotlib.figure.Figure at 0x7fae20779a20>"
      ]
     },
     "metadata": {},
     "output_type": "display_data"
    }
   ],
   "source": [
    "KMeans(3, mass_all)"
   ]
  },
  {
   "cell_type": "code",
   "execution_count": null,
   "metadata": {
    "collapsed": true
   },
   "outputs": [],
   "source": []
  }
 ],
 "metadata": {
  "anaconda-cloud": {},
  "kernelspec": {
   "display_name": "Python [conda root]",
   "language": "python",
   "name": "conda-root-py"
  },
  "language_info": {
   "codemirror_mode": {
    "name": "ipython",
    "version": 3
   },
   "file_extension": ".py",
   "mimetype": "text/x-python",
   "name": "python",
   "nbconvert_exporter": "python",
   "pygments_lexer": "ipython3",
   "version": "3.5.3"
  }
 },
 "nbformat": 4,
 "nbformat_minor": 1
}
