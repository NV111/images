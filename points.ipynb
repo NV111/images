{
 "cells": [
  {
   "cell_type": "code",
   "execution_count": 5,
   "metadata": {
    "collapsed": true
   },
   "outputs": [],
   "source": [
    "import numpy as np\n",
    "import matplotlib.pyplot as plt"
   ]
  },
  {
   "cell_type": "code",
   "execution_count": 6,
   "metadata": {
    "collapsed": false
   },
   "outputs": [],
   "source": [
    "class Point:\n",
    "    def __init__(self, X, c, q):\n",
    "        self.X = X\n",
    "        self.c = c\n",
    "        self.q = q\n",
    "        self.marker = 'o'\n",
    "    \n",
    "    def newq(self, q):\n",
    "        self.q = q\n",
    "    \n",
    "    def plot2D(self):\n",
    "        plt.scatter(self.X[0], self.X[1], marker=self.marker, s=50, c=self.c, edgecolors=self.q, alpha=0.7)\n",
    "\n",
    "class Cluster:\n",
    "    def __init__(self, X, q):\n",
    "        self.mass = []\n",
    "        self.q = q\n",
    "        self.sigma = 1.0\n",
    "        self.Center = Point(X, q, q)\n",
    "        self.Center.marker = 'v'\n",
    "    \n",
    "    def a(self, P):\n",
    "        P.q = self.q\n",
    "        self.mass.append(P)\n",
    "        \n",
    "    def mean(self):\n",
    "        summ = 0.0\n",
    "        for i in range(len(self.mass)):\n",
    "            summ += (self.mass[i].X)\n",
    "        self.Center.X = summ/len(self.mass)      \n",
    "\n",
    "    def dispersion(self):\n",
    "        summ = 0.0\n",
    "        for i in range(len(self.mass)):\n",
    "            summ += (self.Center.X - self.mass[i].X).dot((self.Center.X - self.mass[i].X).T)\n",
    "        self.sigma = np.sqrt(summ/len(self.mass))\n",
    "    \n",
    "    def plot2D(self):\n",
    "        for i in range(len(self.mass)):\n",
    "            self.mass[i].plot2D()"
   ]
  },
  {
   "cell_type": "code",
   "execution_count": 90,
   "metadata": {
    "collapsed": false
   },
   "outputs": [
    {
     "data": {
      "image/png": "[encoded data removed]",
      "text/plain": [
       "<matplotlib.figure.Figure at 0x7f10280d0e10>"
      ]
     },
     "metadata": {},
     "output_type": "display_data"
    }
   ],
   "source": [
    "P1 = Point(np.array([1, 2]), 'red', 'red')\n",
    "P2 = Point(np.array([1, 3]), 'red', 'red')\n",
    "P3 = Point(np.array([1, 4]), 'red', 'red')\n",
    "P4 = Point(np.array([2, 2]), 'red', 'red')\n",
    "P5 = Point(np.array([2, 3]), 'red', 'red')\n",
    "P6 = Point(np.array([2, 4]), 'red', 'red')\n",
    "P7 = Point(np.array([3, 2]), 'red', 'red')\n",
    "P8 = Point(np.array([3, 3]), 'red', 'red')\n",
    "P9 = Point(np.array([3, 4]), 'red', 'red')\n",
    "P22 = Point(np.array([1, 5]), 'red', 'red')\n",
    "P23 = Point(np.array([1, 6]), 'red', 'red')\n",
    "P24 = Point(np.array([2, 5]), 'red', 'red')\n",
    "P25 = Point(np.array([2, 6]), 'red', 'red')\n",
    "P26 = Point(np.array([2, 7]), 'red', 'red')\n",
    "P27 = Point(np.array([3, 5]), 'red', 'red')\n",
    "P28 = Point(np.array([3, 6]), 'red', 'red')\n",
    "P29 = Point(np.array([3, 7]), 'red', 'red')\n",
    "P10 = Point(np.array([6, 5]), 'green', 'green')\n",
    "P11 = Point(np.array([5.5, 6]), 'green', 'green')\n",
    "P12 = Point(np.array([5.5, 5]), 'green', 'green')\n",
    "P19 = Point(np.array([6.5, 4]), 'green', 'green')\n",
    "P20 = Point(np.array([5.5, 4]), 'green', 'green')\n",
    "P21 = Point(np.array([6.5, 5]), 'green', 'green')\n",
    "P13 = Point(np.array([2, -1]), 'blue', 'blue')\n",
    "P14 = Point(np.array([4, 0]), 'blue', 'blue')\n",
    "P15 = Point(np.array([5, 1]), 'blue', 'blue')\n",
    "P16 = Point(np.array([4, -1]), 'blue', 'blue')\n",
    "P17 = Point(np.array([3, -1]), 'blue', 'blue')\n",
    "P18 = Point(np.array([5, 0]), 'blue', 'blue')\n",
    "red_Points = Cluster(P1.X, 'red')\n",
    "green_Points = Cluster(P10.X, 'green')\n",
    "blue_Points = Cluster(P13.X, 'blue')\n",
    "red_Points.a(P1)\n",
    "red_Points.a(P2)\n",
    "red_Points.a(P3)\n",
    "red_Points.a(P4)\n",
    "red_Points.a(P5)\n",
    "red_Points.a(P6)\n",
    "red_Points.a(P7)\n",
    "red_Points.a(P8)\n",
    "red_Points.a(P9)\n",
    "red_Points.a(P22)\n",
    "red_Points.a(P23)\n",
    "red_Points.a(P24)\n",
    "red_Points.a(P25)\n",
    "red_Points.a(P26)\n",
    "red_Points.a(P27)\n",
    "red_Points.a(P28)\n",
    "red_Points.a(P29)\n",
    "green_Points.a(P10)\n",
    "green_Points.a(P11)\n",
    "green_Points.a(P12)\n",
    "green_Points.a(P19)\n",
    "green_Points.a(P20)\n",
    "green_Points.a(P21)\n",
    "blue_Points.a(P13)\n",
    "blue_Points.a(P14)\n",
    "blue_Points.a(P15)\n",
    "blue_Points.a(P16)\n",
    "blue_Points.a(P17)\n",
    "blue_Points.a(P18)\n",
    "red_Points.plot2D()\n",
    "green_Points.plot2D()\n",
    "blue_Points.plot2D()\n",
    "plt.show()"
   ]
  },
  {
   "cell_type": "code",
   "execution_count": 91,
   "metadata": {
    "collapsed": false
   },
   "outputs": [],
   "source": [
    "mass_all=[P1, P2, P3, P4, P5, P6, P7, P8, P9, P10, P11, P12, P13, P14, P15, P16, P17, P18, P19, P20, P21, P22, P23, P24, P25, P26, P27, P28, P29]"
   ]
  },
  {
   "cell_type": "code",
   "execution_count": 92,
   "metadata": {
    "collapsed": true
   },
   "outputs": [],
   "source": [
    "def dPP(P1, P2):\n",
    "    return np.sqrt((P1.X - P2.X).dot((P1.X - P2.X).T))"
   ]
  },
  {
   "cell_type": "code",
   "execution_count": 108,
   "metadata": {
    "collapsed": true
   },
   "outputs": [],
   "source": [
    "def dCm(Cluster, mass_of_Points, x):\n",
    "    mass = []\n",
    "    if (x==1):\n",
    "        for i in range(len(mass_of_Points)):\n",
    "            mass.append(dPP(Cluster.Center, mass_of_Points[i])/1)\n",
    "    else:\n",
    "        for i in range(len(mass_of_Points)):\n",
    "            mass.append(dPP(Cluster.Center, mass_of_Points[i])/Cluster.sigma)\n",
    "    return mass"
   ]
  },
  {
   "cell_type": "code",
   "execution_count": 109,
   "metadata": {
    "collapsed": true
   },
   "outputs": [],
   "source": [
    "def find_min_in_column(matrix):\n",
    "    mass = []\n",
    "    for i in range(len(matrix[0])):\n",
    "        element = matrix[0][i]\n",
    "        index = 0\n",
    "        for j in range(len(matrix)):\n",
    "            if (element >= matrix[j][i]):\n",
    "                element = matrix[j][i]\n",
    "                index = j\n",
    "        mass.append(index)\n",
    "    return mass"
   ]
  },
  {
   "cell_type": "code",
   "execution_count": 110,
   "metadata": {
    "collapsed": true
   },
   "outputs": [],
   "source": [
    "def clusterisation(Clusters, mass_of_Points, x):\n",
    "    matrix = []\n",
    "    for i in range(len(Clusters)):\n",
    "        matrix.append(dCm(Clusters[i], mass_of_Points, x))\n",
    "    cl_nums = find_min_in_column(matrix)\n",
    "    for i in range(len(Clusters)):\n",
    "        Clusters[i].mass = []\n",
    "    for i in range(len(cl_nums)):\n",
    "        Clusters[cl_nums[i]].a(mass_of_Points[i])\n",
    "    for i in range(len(Clusters)):\n",
    "        Clusters[i].mean()\n",
    "        Clusters[i].dispersion()"
   ]
  },
  {
   "cell_type": "code",
   "execution_count": 119,
   "metadata": {
    "collapsed": false
   },
   "outputs": [],
   "source": [
    "import random\n",
    "import _pickle as cPickle\n",
    "FILE_FOR_MODEL = \"Clusters.txt\"\n",
    "def KMeans(number_of_clusters, mass, iterations, warm_start):\n",
    "    if (warm_start == False):\n",
    "        center_names = random.sample(range(len(mass)), number_of_clusters)\n",
    "        Clusters = []\n",
    "        centers_old = 0\n",
    "        colors= ['purple', 'yellow', 'pink']\n",
    "        for i in range(number_of_clusters):\n",
    "            Clusters.append(Cluster(mass[center_names[i]].X, colors[i]))\n",
    "            centers_old += Clusters[i].sigma\n",
    "            Clusters[i].Center.plot2D()\n",
    "        clusterisation(Clusters, mass_all, 0)\n",
    "        centers_new = 0\n",
    "        for i in range(len(Clusters)):\n",
    "            Clusters[i].plot2D()\n",
    "            centers_new += Clusters[i].sigma\n",
    "        print('iteration 0')\n",
    "        plt.show()\n",
    "    else:\n",
    "        file = open(FILE_FOR_MODEL, 'rb')\n",
    "        [Clusters, centers_old, centers_new] = cPickle.load(file)\n",
    "        file.close()\n",
    "    \n",
    "    k = 0\n",
    "    while(k <= iterations):\n",
    "        if (centers_old == centers_new and x == 0):\n",
    "            break\n",
    "        x = 0\n",
    "        clusterisation(Clusters, mass_all, x)\n",
    "        centers_old = centers_new\n",
    "        centers_new = 0\n",
    "        for i in range(len(Clusters)):\n",
    "            centers_new += Clusters[i].sigma\n",
    "        k += 1\n",
    "        #if (k%10 == 0):\n",
    "        print('iteration', k, 'sum of sigmas', centers_new)\n",
    "    file = open(FILE_FOR_MODEL, 'wb')\n",
    "    cPickle.dump([Clusters, centers_old, centers_new], file)\n",
    "    file.close()\n",
    "    print('train results saved in', FILE_FOR_MODEL)\n",
    "    for i in range(len(Clusters)):\n",
    "        Clusters[i].plot2D()\n",
    "        Clusters[i].Center.plot2D()\n",
    "    #print('iteration', iterations)\n",
    "    plt.show()"
   ]
  },
  {
   "cell_type": "code",
   "execution_count": 120,
   "metadata": {
    "collapsed": false
   },
   "outputs": [
    {
     "name": "stdout",
     "output_type": "stream",
     "text": [
      "iteration 0\n"
     ]
    },
    {
     "data": {
      "image/png": "[encoded data removed]",
      "text/plain": [
       "<matplotlib.figure.Figure at 0x7f1026d787f0>"
      ]
     },
     "metadata": {},
     "output_type": "display_data"
    },
    {
     "name": "stdout",
     "output_type": "stream",
     "text": [
      "iteration 1 sum of sigmas 5.22611447893\n",
      "iteration 2 sum of sigmas 5.0786323835\n",
      "iteration 3 sum of sigmas 5.02978571253\n",
      "iteration 4 sum of sigmas 4.69680408215\n",
      "iteration 5 sum of sigmas 4.69680408215\n",
      "train results saved in Clusters.txt\n"
     ]
    },
    {
     "data": {
      "image/png": "[encoded data removed]",
      "text/plain": [
       "<matplotlib.figure.Figure at 0x7f1026d42cc0>"
      ]
     },
     "metadata": {},
     "output_type": "display_data"
    }
   ],
   "source": [
    "KMeans(number_of_clusters=3, mass=mass_all, iterations=100, warm_start=False)"
   ]
  },
  {
   "cell_type": "code",
   "execution_count": null,
   "metadata": {
    "collapsed": true
   },
   "outputs": [],
   "source": []
  }
 ],
 "metadata": {
  "anaconda-cloud": {},
  "kernelspec": {
   "display_name": "Python [conda root]",
   "language": "python",
   "name": "conda-root-py"
  },
  "language_info": {
   "codemirror_mode": {
    "name": "ipython",
    "version": 3
   },
   "file_extension": ".py",
   "mimetype": "text/x-python",
   "name": "python",
   "nbconvert_exporter": "python",
   "pygments_lexer": "ipython3",
   "version": "3.5.3"
  }
 },
 "nbformat": 4,
 "nbformat_minor": 1
}
