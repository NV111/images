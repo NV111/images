{
 "cells": [
  {
   "cell_type": "code",
   "execution_count": 2,
   "metadata": {
    "collapsed": true
   },
   "outputs": [],
   "source": [
    "import numpy as np\n",
    "import matplotlib.pyplot as plt"
   ]
  },
  {
   "cell_type": "code",
   "execution_count": 223,
   "metadata": {
    "collapsed": false
   },
   "outputs": [],
   "source": [
    "class Point:\n",
    "    def __init__(self, X, c, q):\n",
    "        self.X = X\n",
    "        self.c = c\n",
    "        self.q = q\n",
    "        self.marker = 'o'\n",
    "    \n",
    "    def newq(self, q):\n",
    "        self.q = q\n",
    "    \n",
    "    def plot2D(self):\n",
    "        plt.scatter(self.X[0], self.X[1], marker=self.marker, s=50, c=self.c, edgecolors=self.q, alpha=0.7)\n",
    "\n",
    "class Cluster:\n",
    "    def __init__(self, X, q):\n",
    "        self.mass = []\n",
    "        self.q = q\n",
    "        self.sigma = 1.0\n",
    "        self.Center = Point(X, q, q)\n",
    "        self.Center.marker = 'v'\n",
    "    \n",
    "    def a(self, P):\n",
    "        P.q = self.q\n",
    "        self.mass.append(P)\n",
    "        #self.mean()\n",
    "        #self.dispersion()\n",
    "        \n",
    "    def mean(self):\n",
    "        summ = 0\n",
    "        for i in range(len(self.mass)):\n",
    "            summ += (self.mass[i].X)\n",
    "        self.Center.X = summ/len(self.mass)\n",
    "       \n",
    "\n",
    "    def dispersion(self):\n",
    "        summ = 0\n",
    "        for i in range(len(self.mass)):\n",
    "            summ += (self.Center.X - self.mass[i].X).dot((self.Center.X - self.mass[i].X).T)\n",
    "        self.sigma = summ/len(self.mass)\n",
    "    \n",
    "    def plot2D(self):\n",
    "        for i in range(len(self.mass)):\n",
    "            self.mass[i].plot2D()"
   ]
  },
  {
   "cell_type": "code",
   "execution_count": 227,
   "metadata": {
    "collapsed": false
   },
   "outputs": [
    {
     "data": {
      "image/png": "[encoded data removed]",
      "text/plain": [
       "<matplotlib.figure.Figure at 0x7fae20710c88>"
      ]
     },
     "metadata": {},
     "output_type": "display_data"
    }
   ],
   "source": [
    "P1 = Point(np.array([1, 2]), 'red', 'red')\n",
    "P2 = Point(np.array([1, 3]), 'red', 'red')\n",
    "P3 = Point(np.array([1, 4]), 'red', 'red')\n",
    "P4 = Point(np.array([2, 2]), 'red', 'red')\n",
    "P5 = Point(np.array([2, 3]), 'red', 'red')\n",
    "P6 = Point(np.array([2, 4]), 'red', 'red')\n",
    "P7 = Point(np.array([3, 2]), 'red', 'red')\n",
    "P8 = Point(np.array([3, 3]), 'red', 'red')\n",
    "P9 = Point(np.array([3, 4]), 'red', 'red')\n",
    "P10 = Point(np.array([6, 5]), 'green', 'green')\n",
    "P11 = Point(np.array([4, 6]), 'green', 'green')\n",
    "P12 = Point(np.array([4, 5]), 'green', 'green')\n",
    "P19 = Point(np.array([6, 4]), 'green', 'green')\n",
    "P20 = Point(np.array([4, 4]), 'green', 'green')\n",
    "P21 = Point(np.array([5, 5]), 'green', 'green')\n",
    "P13 = Point(np.array([3, 1]), 'blue', 'blue')\n",
    "P14 = Point(np.array([4, 0]), 'blue', 'blue')\n",
    "P15 = Point(np.array([5, 1]), 'blue', 'blue')\n",
    "P16 = Point(np.array([4, -1]), 'blue', 'blue')\n",
    "P17 = Point(np.array([3, -1]), 'blue', 'blue')\n",
    "P18 = Point(np.array([5, 0]), 'blue', 'blue')\n",
    "red_Points = Cluster(P1.X, 'red')\n",
    "green_Points = Cluster(P10.X, 'green')\n",
    "blue_Points = Cluster(P13.X, 'blue')\n",
    "red_Points.a(P1)\n",
    "red_Points.a(P2)\n",
    "red_Points.a(P3)\n",
    "red_Points.a(P4)\n",
    "red_Points.a(P5)\n",
    "red_Points.a(P6)\n",
    "red_Points.a(P7)\n",
    "red_Points.a(P8)\n",
    "red_Points.a(P9)\n",
    "green_Points.a(P10)\n",
    "green_Points.a(P11)\n",
    "green_Points.a(P12)\n",
    "green_Points.a(P19)\n",
    "green_Points.a(P20)\n",
    "green_Points.a(P21)\n",
    "blue_Points.a(P13)\n",
    "blue_Points.a(P14)\n",
    "blue_Points.a(P15)\n",
    "blue_Points.a(P16)\n",
    "blue_Points.a(P17)\n",
    "blue_Points.a(P18)\n",
    "red_Points.plot2D()\n",
    "green_Points.plot2D()\n",
    "blue_Points.plot2D()\n",
    "plt.show()"
   ]
  },
  {
   "cell_type": "code",
   "execution_count": 228,
   "metadata": {
    "collapsed": true
   },
   "outputs": [],
   "source": [
    "mass_all=[P1, P2, P3, P4, P5, P6, P7, P8, P9, P10, P11, P12, P13, P14, P15, P16, P17, P18, P19, P20, P21]"
   ]
  },
  {
   "cell_type": "code",
   "execution_count": 229,
   "metadata": {
    "collapsed": true
   },
   "outputs": [],
   "source": [
    "def dPP(P1, P2):\n",
    "    return np.sqrt((P1.X - P2.X).dot((P1.X - P2.X).T))"
   ]
  },
  {
   "cell_type": "code",
   "execution_count": 230,
   "metadata": {
    "collapsed": true
   },
   "outputs": [],
   "source": [
    "def dPm(P1, mass_of_Points):\n",
    "    mass = []\n",
    "    for i in range(len(mass_of_Points)):\n",
    "        mass.append(dPP(P1, mass_of_Points[i]))\n",
    "    return mass"
   ]
  },
  {
   "cell_type": "code",
   "execution_count": 231,
   "metadata": {
    "collapsed": true
   },
   "outputs": [],
   "source": [
    "def find_min_in_column(matrix):\n",
    "    mass = []\n",
    "    for i in range(len(matrix[0])):\n",
    "        element = matrix[0][i]\n",
    "        index = 0\n",
    "        for j in range(len(matrix)):\n",
    "            if (element >= matrix[j][i]):\n",
    "                element = matrix[j][i]\n",
    "                index = j\n",
    "        mass.append(index)\n",
    "    return mass"
   ]
  },
  {
   "cell_type": "code",
   "execution_count": 235,
   "metadata": {
    "collapsed": true
   },
   "outputs": [],
   "source": [
    "def clusterisation(Clusters, mass_of_Points):\n",
    "    matrix = []\n",
    "    for i in range(len(Clusters)):\n",
    "        matrix.append(dPm(Clusters.Center[i], mass_of_Points))\n",
    "    cl_nums = find_min_in_column(matrix)\n",
    "    for i in range(len(cl_nums)):\n",
    "        Clusters[cl_nums[i]].a(mass_of_Points[i])"
   ]
  },
  {
   "cell_type": "code",
   "execution_count": 243,
   "metadata": {
    "collapsed": false
   },
   "outputs": [],
   "source": [
    "import random\n",
    "def KMeans(number_of_clusters, mass):\n",
    "    center_names = random.sample(range(len(mass)), number_of_clusters)\n",
    "    Clusters = []\n",
    "    for i in range(number_of_clusters):\n",
    "        Clusters.append(Cluster(mass[center_names[i]].X, mass[center_names[i]].c))\n",
    "    clusterisation(Clusters, mass_all)\n",
    "    for i in range(len(Clusters)):\n",
    "        Clusters[i].plot2D()\n",
    "        Clusters[i].mean()\n",
    "        Clusters[i].dispersion()\n",
    "        Clusters[i].Center.plot2D()\n",
    "    plt.show()"
   ]
  },
  {
   "cell_type": "code",
   "execution_count": 244,
   "metadata": {
    "collapsed": false
   },
   "outputs": [
    {
     "ename": "AttributeError",
     "evalue": "'list' object has no attribute 'Center'",
     "output_type": "error",
     "traceback": [
      "\u001b[0;31m---------------------------------------------------------------------------\u001b[0m",
      "\u001b[0;31mAttributeError\u001b[0m                            Traceback (most recent call last)",
      "\u001b[0;32m<ipython-input-244-7a3fe9ec6e5b>\u001b[0m in \u001b[0;36m<module>\u001b[0;34m()\u001b[0m\n\u001b[0;32m----> 1\u001b[0;31m \u001b[0mKMeans\u001b[0m\u001b[0;34m(\u001b[0m\u001b[0;36m3\u001b[0m\u001b[0;34m,\u001b[0m \u001b[0mmass_all\u001b[0m\u001b[0;34m)\u001b[0m\u001b[0;34m\u001b[0m\u001b[0m\n\u001b[0m",
      "\u001b[0;32m<ipython-input-243-05f465934c16>\u001b[0m in \u001b[0;36mKMeans\u001b[0;34m(number_of_clusters, mass)\u001b[0m\n\u001b[1;32m      5\u001b[0m     \u001b[0;32mfor\u001b[0m \u001b[0mi\u001b[0m \u001b[0;32min\u001b[0m \u001b[0mrange\u001b[0m\u001b[0;34m(\u001b[0m\u001b[0mnumber_of_clusters\u001b[0m\u001b[0;34m)\u001b[0m\u001b[0;34m:\u001b[0m\u001b[0;34m\u001b[0m\u001b[0m\n\u001b[1;32m      6\u001b[0m         \u001b[0mClusters\u001b[0m\u001b[0;34m.\u001b[0m\u001b[0mappend\u001b[0m\u001b[0;34m(\u001b[0m\u001b[0mCluster\u001b[0m\u001b[0;34m(\u001b[0m\u001b[0mmass\u001b[0m\u001b[0;34m[\u001b[0m\u001b[0mcenter_names\u001b[0m\u001b[0;34m[\u001b[0m\u001b[0mi\u001b[0m\u001b[0;34m]\u001b[0m\u001b[0;34m]\u001b[0m\u001b[0;34m.\u001b[0m\u001b[0mX\u001b[0m\u001b[0;34m,\u001b[0m \u001b[0mmass\u001b[0m\u001b[0;34m[\u001b[0m\u001b[0mcenter_names\u001b[0m\u001b[0;34m[\u001b[0m\u001b[0mi\u001b[0m\u001b[0;34m]\u001b[0m\u001b[0;34m]\u001b[0m\u001b[0;34m.\u001b[0m\u001b[0mc\u001b[0m\u001b[0;34m)\u001b[0m\u001b[0;34m)\u001b[0m\u001b[0;34m\u001b[0m\u001b[0m\n\u001b[0;32m----> 7\u001b[0;31m     \u001b[0mclusterisation\u001b[0m\u001b[0;34m(\u001b[0m\u001b[0mClusters\u001b[0m\u001b[0;34m,\u001b[0m \u001b[0mmass_all\u001b[0m\u001b[0;34m)\u001b[0m\u001b[0;34m\u001b[0m\u001b[0m\n\u001b[0m\u001b[1;32m      8\u001b[0m     \u001b[0;32mfor\u001b[0m \u001b[0mi\u001b[0m \u001b[0;32min\u001b[0m \u001b[0mrange\u001b[0m\u001b[0;34m(\u001b[0m\u001b[0mlen\u001b[0m\u001b[0;34m(\u001b[0m\u001b[0mClusters\u001b[0m\u001b[0;34m)\u001b[0m\u001b[0;34m)\u001b[0m\u001b[0;34m:\u001b[0m\u001b[0;34m\u001b[0m\u001b[0m\n\u001b[1;32m      9\u001b[0m         \u001b[0mClusters\u001b[0m\u001b[0;34m[\u001b[0m\u001b[0mi\u001b[0m\u001b[0;34m]\u001b[0m\u001b[0;34m.\u001b[0m\u001b[0mplot2D\u001b[0m\u001b[0;34m(\u001b[0m\u001b[0;34m)\u001b[0m\u001b[0;34m\u001b[0m\u001b[0m\n",
      "\u001b[0;32m<ipython-input-235-8eea7b341276>\u001b[0m in \u001b[0;36mclusterisation\u001b[0;34m(Clusters, mass_of_Points)\u001b[0m\n\u001b[1;32m      2\u001b[0m     \u001b[0mmatrix\u001b[0m \u001b[0;34m=\u001b[0m \u001b[0;34m[\u001b[0m\u001b[0;34m]\u001b[0m\u001b[0;34m\u001b[0m\u001b[0m\n\u001b[1;32m      3\u001b[0m     \u001b[0;32mfor\u001b[0m \u001b[0mi\u001b[0m \u001b[0;32min\u001b[0m \u001b[0mrange\u001b[0m\u001b[0;34m(\u001b[0m\u001b[0mlen\u001b[0m\u001b[0;34m(\u001b[0m\u001b[0mClusters\u001b[0m\u001b[0;34m)\u001b[0m\u001b[0;34m)\u001b[0m\u001b[0;34m:\u001b[0m\u001b[0;34m\u001b[0m\u001b[0m\n\u001b[0;32m----> 4\u001b[0;31m         \u001b[0mmatrix\u001b[0m\u001b[0;34m.\u001b[0m\u001b[0mappend\u001b[0m\u001b[0;34m(\u001b[0m\u001b[0mdPm\u001b[0m\u001b[0;34m(\u001b[0m\u001b[0mClusters\u001b[0m\u001b[0;34m.\u001b[0m\u001b[0mCenter\u001b[0m\u001b[0;34m[\u001b[0m\u001b[0mi\u001b[0m\u001b[0;34m]\u001b[0m\u001b[0;34m,\u001b[0m \u001b[0mmass_of_Points\u001b[0m\u001b[0;34m)\u001b[0m\u001b[0;34m)\u001b[0m\u001b[0;34m\u001b[0m\u001b[0m\n\u001b[0m\u001b[1;32m      5\u001b[0m     \u001b[0mcl_nums\u001b[0m \u001b[0;34m=\u001b[0m \u001b[0mfind_min_in_column\u001b[0m\u001b[0;34m(\u001b[0m\u001b[0mmatrix\u001b[0m\u001b[0;34m)\u001b[0m\u001b[0;34m\u001b[0m\u001b[0m\n\u001b[1;32m      6\u001b[0m     \u001b[0;32mfor\u001b[0m \u001b[0mi\u001b[0m \u001b[0;32min\u001b[0m \u001b[0mrange\u001b[0m\u001b[0;34m(\u001b[0m\u001b[0mlen\u001b[0m\u001b[0;34m(\u001b[0m\u001b[0mcl_nums\u001b[0m\u001b[0;34m)\u001b[0m\u001b[0;34m)\u001b[0m\u001b[0;34m:\u001b[0m\u001b[0;34m\u001b[0m\u001b[0m\n",
      "\u001b[0;31mAttributeError\u001b[0m: 'list' object has no attribute 'Center'"
     ]
    }
   ],
   "source": [
    "KMeans(3, mass_all)"
   ]
  },
  {
   "cell_type": "code",
   "execution_count": null,
   "metadata": {
    "collapsed": true
   },
   "outputs": [],
   "source": []
  }
 ],
 "metadata": {
  "anaconda-cloud": {},
  "kernelspec": {
   "display_name": "Python [conda root]",
   "language": "python",
   "name": "conda-root-py"
  },
  "language_info": {
   "codemirror_mode": {
    "name": "ipython",
    "version": 3
   },
   "file_extension": ".py",
   "mimetype": "text/x-python",
   "name": "python",
   "nbconvert_exporter": "python",
   "pygments_lexer": "ipython3",
   "version": "3.5.3"
  }
 },
 "nbformat": 4,
 "nbformat_minor": 1
}
